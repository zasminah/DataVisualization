{
  "nbformat": 4,
  "nbformat_minor": 0,
  "metadata": {
    "colab": {
      "name": "DataVisualization_bokeh_csv.ipynb",
      "provenance": [],
      "authorship_tag": "ABX9TyPeVUH8uJ7fxEEPCf0dyM7v",
      "include_colab_link": true
    },
    "kernelspec": {
      "name": "python3",
      "display_name": "Python 3"
    },
    "language_info": {
      "name": "python"
    }
  },
  "cells": [
    {
      "cell_type": "markdown",
      "metadata": {
        "id": "view-in-github",
        "colab_type": "text"
      },
      "source": [
        "<a href=\"https://colab.research.google.com/github/zasminah/Python_DataVisualization/blob/main/DataVisualization_bokeh_csv.ipynb\" target=\"_parent\"><img src=\"https://colab.research.google.com/assets/colab-badge.svg\" alt=\"Open In Colab\"/></a>"
      ]
    },
    {
      "cell_type": "code",
      "metadata": {
        "id": "T6-egc2FBRA4"
      },
      "source": [
        "import pandas as pd\n",
        "from bokeh.plotting import figure, output_file, show\n",
        "from bokeh.models import DatetimeTickFormatter\n",
        "from bokeh.layouts import column\n",
        "\n",
        "# df = pd.read_csv(\"./RTT_4G_Does_CA.csv\")\n",
        "df = pd.read_csv('https://raw.githubusercontent.com/zasminah/dataset/main/RTT_4G_Does_CA.csv', encoding='cp949')\n",
        "# print(df.columns)\n",
        "\n",
        "########## RD\n",
        "# is_rd = df['RRC Category*'] == 'RD'\n",
        "# rd = df[['Procedure End Time*','RRC Category*']][is_rd]\n",
        "rd = df[['Procedure End Time*','RRC Category*']].dropna(how='any')\n",
        "rd['Procedure End Time*'] = pd.to_datetime(rd['Procedure End Time*'], format = '%H:%M:%S')\n",
        "RRC_CATEGORY = [\"RRC Excl\", \"Good\", \"RSF\", \"RD\"]\n",
        "\n",
        "########## RSRP\n",
        "cmrRsrp = df[['Procedure End Time*','First  CMR RSRP Serving (dBm)']].dropna(how='any')\n",
        "cmrRsrp['Procedure End Time*'] = pd.to_datetime(cmrRsrp['Procedure End Time*'], format = '%H:%M:%S')\n",
        "\n",
        "########### Band\n",
        "band = df[['Procedure End Time*','Rollup Band #*']].dropna(how='any')\n",
        "band['Procedure End Time*'] = pd.to_datetime(rd['Procedure End Time*'], format = '%H:%M:%S')\n",
        "\n",
        "########### UL Avg SINR (dB)\n",
        "ulSinr = df[['Procedure End Time*','UL Avg SINR (dB)']].dropna(how='any')\n",
        "ulSinr['Procedure End Time*'] = pd.to_datetime(rd['Procedure End Time*'], format = '%H:%M:%S')\n",
        "\n",
        "output_file(\"fig3.html\")\n",
        "fig1 = figure(title = 'RRC Category', plot_width=1000, plot_height=200,y_range=RRC_CATEGORY,x_axis_type=\"datetime\")\n",
        "fig2 = figure(title = 'CMR RSRP Serving (dBm)', plot_width=1000, plot_height=200,x_axis_type=\"datetime\")\n",
        "fig3 = figure(title = 'Rollup Band', plot_width=1000, plot_height=200,x_axis_type=\"datetime\")\n",
        "fig4 = figure(title = 'UL Avg SINR (dB)', plot_width=1000, plot_height=200,x_axis_type=\"datetime\")\n",
        "\n",
        "#Change x axis type to timestamps\n",
        "fig1.xaxis.formatter=DatetimeTickFormatter(\n",
        "    days=[\"%H:%M:%S\"],\n",
        "    months=[\"%H:%M:%S\"],\n",
        "    hours=[\"%H:%M:%S\"],\n",
        "    minutes=[\"%H:%M:%S\"]\n",
        ")\n",
        "fig2.xaxis.formatter=DatetimeTickFormatter(\n",
        "    days=[\"%H:%M:%S\"],\n",
        "    months=[\"%H:%M:%S\"],\n",
        "    hours=[\"%H:%M:%S\"],\n",
        "    minutes=[\"%H:%M:%S\"]\n",
        ")\n",
        "fig3.xaxis.formatter=DatetimeTickFormatter(\n",
        "    days=[\"%H:%M:%S\"],\n",
        "    months=[\"%H:%M:%S\"],\n",
        "    hours=[\"%H:%M:%S\"],\n",
        "    minutes=[\"%H:%M:%S\"]\n",
        ")\n",
        "fig4.xaxis.formatter=DatetimeTickFormatter(\n",
        "    days=[\"%H:%M:%S\"],\n",
        "    months=[\"%H:%M:%S\"],\n",
        "    hours=[\"%H:%M:%S\"],\n",
        "    minutes=[\"%H:%M:%S\"]\n",
        ")\n",
        "fig1.circle(rd['Procedure End Time*'],rd['RRC Category*'],color='red', line_width=2)\n",
        "# fig1.step(rd['Procedure End Time*'],rd['RRC Category*'],color='red', line_width=2)\n",
        "fig2.line(cmrRsrp['Procedure End Time*'],cmrRsrp['First  CMR RSRP Serving (dBm)'], line_width=2)\n",
        "fig3.step(band['Procedure End Time*'],band['Rollup Band #*'],color='blue', line_width=2)\n",
        "fig4.line(ulSinr['Procedure End Time*'],ulSinr['UL Avg SINR (dB)'],color='purple', line_width=2)\n",
        "show(column(fig1, fig2, fig3, fig4))"
      ],
      "execution_count": 3,
      "outputs": []
    }
  ]
}