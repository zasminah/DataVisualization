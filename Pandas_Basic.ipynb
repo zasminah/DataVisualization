{
  "nbformat": 4,
  "nbformat_minor": 0,
  "metadata": {
    "colab": {
      "name": "Pandas_Basic.ipynb",
      "provenance": [],
      "authorship_tag": "ABX9TyPibgUyuIOt1L3Z45NorIcj",
      "include_colab_link": true
    },
    "kernelspec": {
      "name": "python3",
      "display_name": "Python 3"
    },
    "language_info": {
      "name": "python"
    }
  },
  "cells": [
    {
      "cell_type": "markdown",
      "metadata": {
        "id": "view-in-github",
        "colab_type": "text"
      },
      "source": [
        "<a href=\"https://colab.research.google.com/github/zasminah/Python_DataVisualization/blob/main/Pandas_Basic.ipynb\" target=\"_parent\"><img src=\"https://colab.research.google.com/assets/colab-badge.svg\" alt=\"Open In Colab\"/></a>"
      ]
    },
    {
      "cell_type": "code",
      "metadata": {
        "colab": {
          "base_uri": "https://localhost:8080/"
        },
        "id": "bbz3rj7yeob4",
        "outputId": "16f8eddc-e310-437c-de4e-17f4f5ee5766"
      },
      "source": [
        "import pandas as pd\n",
        "import numpy as np\n",
        "\n",
        "data = {'state':['Ohio','Ohio','Ohio','Nevada','Nevada','Nevada'],\n",
        "        'year':[2000,2001,2002,2001,2002,2003],\n",
        "        'pop':[1.5,1.7,3.6,2.4,2.9,3.2]}\n",
        "\n",
        "frame = pd.DataFrame(data,columns=['year','state','pop','debt'],\n",
        "                     index=['one','two','three','four','five','six'])\n",
        "\n",
        "print(frame)\n",
        "print('\\n',frame.columns)\n",
        "print('\\n',frame['state'])\n",
        "print('\\n',frame.year)"
      ],
      "execution_count": 64,
      "outputs": [
        {
          "output_type": "stream",
          "text": [
            "       year   state  pop debt\n",
            "one    2000    Ohio  1.5  NaN\n",
            "two    2001    Ohio  1.7  NaN\n",
            "three  2002    Ohio  3.6  NaN\n",
            "four   2001  Nevada  2.4  NaN\n",
            "five   2002  Nevada  2.9  NaN\n",
            "six    2003  Nevada  3.2  NaN\n",
            "\n",
            " Index(['year', 'state', 'pop', 'debt'], dtype='object')\n",
            "\n",
            " one        Ohio\n",
            "two        Ohio\n",
            "three      Ohio\n",
            "four     Nevada\n",
            "five     Nevada\n",
            "six      Nevada\n",
            "Name: state, dtype: object\n",
            "\n",
            " one      2000\n",
            "two      2001\n",
            "three    2002\n",
            "four     2001\n",
            "five     2002\n",
            "six      2003\n",
            "Name: year, dtype: int64\n"
          ],
          "name": "stdout"
        }
      ]
    },
    {
      "cell_type": "markdown",
      "metadata": {
        "id": "qdWgAqeOj0ML"
      },
      "source": [
        "To use index value, use loc"
      ]
    },
    {
      "cell_type": "code",
      "metadata": {
        "colab": {
          "base_uri": "https://localhost:8080/"
        },
        "id": "R6Ew0Gi6jeqS",
        "outputId": "43a30eae-b8b1-4e20-fa2b-d29d1275deff"
      },
      "source": [
        "print('\\n', frame.loc['two'])"
      ],
      "execution_count": 65,
      "outputs": [
        {
          "output_type": "stream",
          "text": [
            "\n",
            " year     2001\n",
            "state    Ohio\n",
            "pop       1.7\n",
            "debt      NaN\n",
            "Name: two, dtype: object\n"
          ],
          "name": "stdout"
        }
      ]
    },
    {
      "cell_type": "markdown",
      "metadata": {
        "id": "9BJ-PrqV6ozi"
      },
      "source": [
        "Insert value "
      ]
    },
    {
      "cell_type": "code",
      "metadata": {
        "colab": {
          "base_uri": "https://localhost:8080/"
        },
        "id": "vJhW7C-Wjuk4",
        "outputId": "a81421e3-d43d-4b45-e1a2-74f6f198ddcb"
      },
      "source": [
        "frame['debt'] = 20\n",
        "print(frame,'\\n')\n",
        "frame['debt']= np.arange(6)\n",
        "print(frame)\n"
      ],
      "execution_count": 66,
      "outputs": [
        {
          "output_type": "stream",
          "text": [
            "       year   state  pop  debt\n",
            "one    2000    Ohio  1.5    20\n",
            "two    2001    Ohio  1.7    20\n",
            "three  2002    Ohio  3.6    20\n",
            "four   2001  Nevada  2.4    20\n",
            "five   2002  Nevada  2.9    20\n",
            "six    2003  Nevada  3.2    20 \n",
            "\n",
            "       year   state  pop  debt\n",
            "one    2000    Ohio  1.5     0\n",
            "two    2001    Ohio  1.7     1\n",
            "three  2002    Ohio  3.6     2\n",
            "four   2001  Nevada  2.4     3\n",
            "five   2002  Nevada  2.9     4\n",
            "six    2003  Nevada  3.2     5\n"
          ],
          "name": "stdout"
        }
      ]
    },
    {
      "cell_type": "markdown",
      "metadata": {
        "id": "mDDUXD5qABU5"
      },
      "source": [
        "# 1) Reindex"
      ]
    },
    {
      "cell_type": "markdown",
      "metadata": {
        "id": "jmgSdIvG6fEy"
      },
      "source": [
        "**Reindex - Series**"
      ]
    },
    {
      "cell_type": "code",
      "metadata": {
        "colab": {
          "base_uri": "https://localhost:8080/"
        },
        "id": "CzkbQWW36cfa",
        "outputId": "8790c181-5012-48f3-ac89-e85cc7365dbc"
      },
      "source": [
        "obj = pd.Series([4.5,7.2,-5.3,3.6], index = ['d','b','a','c'])\n",
        "obj2 = obj.reindex(['a','b','c','d','e'])\n",
        "print(obj,'\\n')\n",
        "print(obj2)"
      ],
      "execution_count": 67,
      "outputs": [
        {
          "output_type": "stream",
          "text": [
            "d    4.5\n",
            "b    7.2\n",
            "a   -5.3\n",
            "c    3.6\n",
            "dtype: float64 \n",
            "\n",
            "a   -5.3\n",
            "b    7.2\n",
            "c    3.6\n",
            "d    4.5\n",
            "e    NaN\n",
            "dtype: float64\n"
          ],
          "name": "stdout"
        }
      ]
    },
    {
      "cell_type": "markdown",
      "metadata": {
        "id": "XCxW6iEu8O37"
      },
      "source": [
        "reindex - ffill : front fill"
      ]
    },
    {
      "cell_type": "code",
      "metadata": {
        "colab": {
          "base_uri": "https://localhost:8080/"
        },
        "id": "Nj6Sdr_Q7ge5",
        "outputId": "34aee0f5-3d7d-48f7-fe16-51d9c620361f"
      },
      "source": [
        "obj3 = pd.Series(['blue','purple','yello'], index=[0,2,4])\n",
        "print(obj3)\n",
        "print('\\n', obj3.reindex(range(6), method='ffill'))"
      ],
      "execution_count": 68,
      "outputs": [
        {
          "output_type": "stream",
          "text": [
            "0      blue\n",
            "2    purple\n",
            "4     yello\n",
            "dtype: object\n",
            "\n",
            " 0      blue\n",
            "1      blue\n",
            "2    purple\n",
            "3    purple\n",
            "4     yello\n",
            "5     yello\n",
            "dtype: object\n"
          ],
          "name": "stdout"
        }
      ]
    },
    {
      "cell_type": "markdown",
      "metadata": {
        "id": "GAQqVoxn8i_K"
      },
      "source": [
        "**Reindex - DataFrame**"
      ]
    },
    {
      "cell_type": "code",
      "metadata": {
        "colab": {
          "base_uri": "https://localhost:8080/"
        },
        "id": "nuXFWXed8mPI",
        "outputId": "47f8cded-47f1-46e8-fd96-6cf5ca69b11a"
      },
      "source": [
        "frame = pd.DataFrame(np.arange(9).reshape((3,3)),\n",
        "                     index=['a','c','d'],\n",
        "                     columns=['Ohio','Texas','California'])\n",
        "print(frame)\n",
        "\n",
        "frame2 = frame.reindex(['a','b','c','d'])\n",
        "print('\\n',frame2)"
      ],
      "execution_count": 69,
      "outputs": [
        {
          "output_type": "stream",
          "text": [
            "   Ohio  Texas  California\n",
            "a     0      1           2\n",
            "c     3      4           5\n",
            "d     6      7           8\n",
            "\n",
            "    Ohio  Texas  California\n",
            "a   0.0    1.0         2.0\n",
            "b   NaN    NaN         NaN\n",
            "c   3.0    4.0         5.0\n",
            "d   6.0    7.0         8.0\n"
          ],
          "name": "stdout"
        }
      ]
    },
    {
      "cell_type": "code",
      "metadata": {
        "colab": {
          "base_uri": "https://localhost:8080/"
        },
        "id": "zImwqF-4-4Kl",
        "outputId": "9325e815-24aa-48c5-b29f-7b125ca25012"
      },
      "source": [
        "states = ['Texas','Utah', 'California']\n",
        "print('\\n', frame.reindex(columns=states))"
      ],
      "execution_count": 70,
      "outputs": [
        {
          "output_type": "stream",
          "text": [
            "\n",
            "    Texas  Utah  California\n",
            "a      1   NaN           2\n",
            "c      4   NaN           5\n",
            "d      7   NaN           8\n"
          ],
          "name": "stdout"
        }
      ]
    },
    {
      "cell_type": "markdown",
      "metadata": {
        "id": "58B-F4D2_7Bs"
      },
      "source": [
        "# 2) slicing, drop"
      ]
    },
    {
      "cell_type": "markdown",
      "metadata": {
        "id": "J-rZJr_WFHHt"
      },
      "source": [
        "**Series**"
      ]
    },
    {
      "cell_type": "code",
      "metadata": {
        "colab": {
          "base_uri": "https://localhost:8080/"
        },
        "id": "bSVH0nxDAVph",
        "outputId": "7a0f9b73-2099-44be-a37b-eaad1d8f8763"
      },
      "source": [
        "obj = pd.Series(np.arange(4), index=['a','b','c','d'])\n",
        "print('\\n','obj[\\'b\\']:','\\n',obj['b'])\n",
        "print('\\n','obj[1]:', '\\n',obj[1])\n",
        "print('\\n','obj[2:4]:','\\n',obj[2:4]) # exclude 4\n",
        "print('\\n','obj[[1,3]]:','\\n',obj[[1,3]])\n",
        "print('\\n','obj[obj<2]:','\\n',obj[obj<2])\n",
        "print('\\n','obj[\\'b\\':\\'c\\']:','\\n',obj['b':'c']) # include 'c'"
      ],
      "execution_count": 71,
      "outputs": [
        {
          "output_type": "stream",
          "text": [
            "\n",
            " obj['b']: \n",
            " 1\n",
            "\n",
            " obj[1]: \n",
            " 1\n",
            "\n",
            " obj[2:4]: \n",
            " c    2\n",
            "d    3\n",
            "dtype: int64\n",
            "\n",
            " obj[[1,3]]: \n",
            " b    1\n",
            "d    3\n",
            "dtype: int64\n",
            "\n",
            " obj[obj<2]: \n",
            " a    0\n",
            "b    1\n",
            "dtype: int64\n",
            "\n",
            " obj['b':'c']: \n",
            " b    1\n",
            "c    2\n",
            "dtype: int64\n"
          ],
          "name": "stdout"
        }
      ]
    },
    {
      "cell_type": "code",
      "metadata": {
        "colab": {
          "base_uri": "https://localhost:8080/"
        },
        "id": "Ybiim4dKDRN8",
        "outputId": "9d28f748-3458-4f2f-c97f-24903cced9da"
      },
      "source": [
        "obj = pd.Series(np.arange(5), index=['a','b','c','d','e'])\n",
        "new_obj = obj.drop('c')\n",
        "print('\\n', new_obj)\n",
        "print('\\n', obj)\n",
        "print('\\n', obj.drop(['d','c']))"
      ],
      "execution_count": 72,
      "outputs": [
        {
          "output_type": "stream",
          "text": [
            "\n",
            " a    0\n",
            "b    1\n",
            "d    3\n",
            "e    4\n",
            "dtype: int64\n",
            "\n",
            " a    0\n",
            "b    1\n",
            "c    2\n",
            "d    3\n",
            "e    4\n",
            "dtype: int64\n",
            "\n",
            " a    0\n",
            "b    1\n",
            "e    4\n",
            "dtype: int64\n"
          ],
          "name": "stdout"
        }
      ]
    },
    {
      "cell_type": "markdown",
      "metadata": {
        "id": "oqLKaIqsFJ2X"
      },
      "source": [
        "**DataFrame**"
      ]
    },
    {
      "cell_type": "code",
      "metadata": {
        "colab": {
          "base_uri": "https://localhost:8080/"
        },
        "id": "bfe9IMrTFA68",
        "outputId": "820368aa-6977-41e3-88a6-bf639089f1f6"
      },
      "source": [
        "data = pd.DataFrame(np.arange(16).reshape((4,4)),\n",
        "                     index=['Ohio','Colorado','Utah','New York'],\n",
        "                    columns=['one','two','three','four'])\n",
        " \n",
        "print('\\n',data)\n",
        "print('\\n', data.drop(['Colorado','Ohio']))\n",
        "print('\\n', data.drop(['two','four'],axis='columns'))"
      ],
      "execution_count": 73,
      "outputs": [
        {
          "output_type": "stream",
          "text": [
            "\n",
            "           one  two  three  four\n",
            "Ohio        0    1      2     3\n",
            "Colorado    4    5      6     7\n",
            "Utah        8    9     10    11\n",
            "New York   12   13     14    15\n",
            "\n",
            "           one  two  three  four\n",
            "Utah        8    9     10    11\n",
            "New York   12   13     14    15\n",
            "\n",
            "           one  three\n",
            "Ohio        0      2\n",
            "Colorado    4      6\n",
            "Utah        8     10\n",
            "New York   12     14\n"
          ],
          "name": "stdout"
        }
      ]
    },
    {
      "cell_type": "markdown",
      "metadata": {
        "id": "Ei9N6rttTDGt"
      },
      "source": [
        "# 3)Calculation\n",
        "add, sub, div, mul"
      ]
    },
    {
      "cell_type": "code",
      "metadata": {
        "colab": {
          "base_uri": "https://localhost:8080/"
        },
        "id": "JKs3yfyoTGMo",
        "outputId": "12afbdf9-b19e-4102-ee27-631d64a560e2"
      },
      "source": [
        "df1 = pd.DataFrame(np.arange(12.).reshape((3,4)), columns=list('abcd'))\n",
        "df2 = pd.DataFrame(np.arange(20.).reshape((4,5)), columns=list('abcde'))\n",
        "print(df1,'\\n')\n",
        "print(df2,'\\n')\n",
        "\n",
        "print(df1+df2, '\\n')\n",
        "print(df1.add(df2, fill_value=0),'\\n')"
      ],
      "execution_count": 74,
      "outputs": [
        {
          "output_type": "stream",
          "text": [
            "     a    b     c     d\n",
            "0  0.0  1.0   2.0   3.0\n",
            "1  4.0  5.0   6.0   7.0\n",
            "2  8.0  9.0  10.0  11.0 \n",
            "\n",
            "      a     b     c     d     e\n",
            "0   0.0   1.0   2.0   3.0   4.0\n",
            "1   5.0   6.0   7.0   8.0   9.0\n",
            "2  10.0  11.0  12.0  13.0  14.0\n",
            "3  15.0  16.0  17.0  18.0  19.0 \n",
            "\n",
            "      a     b     c     d   e\n",
            "0   0.0   2.0   4.0   6.0 NaN\n",
            "1   9.0  11.0  13.0  15.0 NaN\n",
            "2  18.0  20.0  22.0  24.0 NaN\n",
            "3   NaN   NaN   NaN   NaN NaN \n",
            "\n",
            "      a     b     c     d     e\n",
            "0   0.0   2.0   4.0   6.0   4.0\n",
            "1   9.0  11.0  13.0  15.0   9.0\n",
            "2  18.0  20.0  22.0  24.0  14.0\n",
            "3  15.0  16.0  17.0  18.0  19.0 \n",
            "\n"
          ],
          "name": "stdout"
        }
      ]
    },
    {
      "cell_type": "markdown",
      "metadata": {
        "id": "lTgH0IqyWRZ9"
      },
      "source": [
        "DataFrame & Series\n",
        "(loc is label-based, which means that you have to specify rows and columns based on their row and column labels. iloc is integer index based,)"
      ]
    },
    {
      "cell_type": "code",
      "metadata": {
        "colab": {
          "base_uri": "https://localhost:8080/"
        },
        "id": "tLHidxoMWVN4",
        "outputId": "c743a5e9-708f-42ce-bc31-ad5b148dd744"
      },
      "source": [
        "frame = pd.DataFrame(np.arange(12).reshape((4,3)),\n",
        "                     index=['Utah','Ohio','Texas','Oregon'],\n",
        "                    columns=list('bde'))\n",
        "series = frame.iloc[0]\n",
        "\n",
        "print(frame)\n",
        "print('\\n', series)\n",
        "print('\\n', frame - series)\n"
      ],
      "execution_count": 75,
      "outputs": [
        {
          "output_type": "stream",
          "text": [
            "        b   d   e\n",
            "Utah    0   1   2\n",
            "Ohio    3   4   5\n",
            "Texas   6   7   8\n",
            "Oregon  9  10  11\n",
            "\n",
            " b    0\n",
            "d    1\n",
            "e    2\n",
            "Name: Utah, dtype: int64\n",
            "\n",
            "         b  d  e\n",
            "Utah    0  0  0\n",
            "Ohio    3  3  3\n",
            "Texas   6  6  6\n",
            "Oregon  9  9  9\n"
          ],
          "name": "stdout"
        }
      ]
    },
    {
      "cell_type": "markdown",
      "metadata": {
        "id": "dbD_HR3zZSf1"
      },
      "source": [
        "# 4) Function and Mapping\n",
        "Use apply function"
      ]
    },
    {
      "cell_type": "code",
      "metadata": {
        "colab": {
          "base_uri": "https://localhost:8080/"
        },
        "id": "D_72S-dAZSRC",
        "outputId": "ed607c93-2bf0-474e-c46f-df915adeeff9"
      },
      "source": [
        "frame = pd.DataFrame(np.random.randn(4,3), columns =list('bde'),\n",
        "                     index = ['Utah','Ohio','Texas','Oregon'])\n",
        "print('\\n', np.abs(frame),'\\n') # Universial Function\n",
        "\n",
        "f = lambda x: x.max()-x.min()\n",
        "print('\\n', frame.apply(f), '\\n')\n",
        "print('\\n', frame.apply(f,axis=1),'\\n')\n",
        "\n",
        "def f1(x):\n",
        "  return pd.Series([x.min(),x.max()], index = ['min','max'])\n",
        "\n",
        "print('\\n', frame.apply(f1), '\\n')"
      ],
      "execution_count": 76,
      "outputs": [
        {
          "output_type": "stream",
          "text": [
            "\n",
            "                b         d         e\n",
            "Utah    1.729956  0.586063  1.718981\n",
            "Ohio    0.011872  1.357437  0.029749\n",
            "Texas   0.370605  1.357149  1.553563\n",
            "Oregon  0.023995  0.680838  1.500930 \n",
            "\n",
            "\n",
            " b    1.718084\n",
            "d    2.714585\n",
            "e    3.272544\n",
            "dtype: float64 \n",
            "\n",
            "\n",
            " Utah      1.143893\n",
            "Ohio      1.345565\n",
            "Texas     1.924167\n",
            "Oregon    1.476935\n",
            "dtype: float64 \n",
            "\n",
            "\n",
            "             b         d         e\n",
            "min -1.729956 -1.357437 -1.718981\n",
            "max -0.011872  1.357149  1.553563 \n",
            "\n"
          ],
          "name": "stdout"
        }
      ]
    },
    {
      "cell_type": "markdown",
      "metadata": {
        "id": "JsdxvGDedNeN"
      },
      "source": [
        "# 5) Sort"
      ]
    },
    {
      "cell_type": "code",
      "metadata": {
        "colab": {
          "base_uri": "https://localhost:8080/"
        },
        "id": "HRvSZA76dP4a",
        "outputId": "be08d196-e9e0-4ec4-8abe-f9377fe8c9cb"
      },
      "source": [
        "obj = pd.Series([1,3,2,5], index = list('dabc'))\n",
        "print(obj.sort_index())\n",
        "print('\\n',obj.sort_values())"
      ],
      "execution_count": 85,
      "outputs": [
        {
          "output_type": "stream",
          "text": [
            "a    3\n",
            "b    2\n",
            "c    5\n",
            "d    1\n",
            "dtype: int64\n",
            "\n",
            " d    1\n",
            "b    2\n",
            "a    3\n",
            "c    5\n",
            "dtype: int64\n"
          ],
          "name": "stdout"
        }
      ]
    },
    {
      "cell_type": "code",
      "metadata": {
        "colab": {
          "base_uri": "https://localhost:8080/"
        },
        "id": "bsY9vpdfeVpt",
        "outputId": "a64dd644-40af-4542-99e8-656c5988fe71"
      },
      "source": [
        "frame = pd.DataFrame(np.arange(12).reshape((4,3)),\n",
        "                     index=['Utah','Ohio','Texas','Oregon'],\n",
        "                    columns=list('cab'))\n",
        "\n",
        "print(frame.sort_index())\n",
        "\n",
        "print('\\n', frame.sort_index(axis=1))\n",
        "\n",
        "print('\\n', frame.sort_index(axis=1, ascending=False))\n"
      ],
      "execution_count": 89,
      "outputs": [
        {
          "output_type": "stream",
          "text": [
            "        c   a   b\n",
            "Ohio    3   4   5\n",
            "Oregon  9  10  11\n",
            "Texas   6   7   8\n",
            "Utah    0   1   2\n",
            "\n",
            "          a   b  c\n",
            "Utah     1   2  0\n",
            "Ohio     4   5  3\n",
            "Texas    7   8  6\n",
            "Oregon  10  11  9\n",
            "\n",
            "         c   b   a\n",
            "Utah    0   2   1\n",
            "Ohio    3   5   4\n",
            "Texas   6   8   7\n",
            "Oregon  9  11  10\n"
          ],
          "name": "stdout"
        }
      ]
    },
    {
      "cell_type": "code",
      "metadata": {
        "colab": {
          "base_uri": "https://localhost:8080/"
        },
        "id": "tePtfyMVf0MA",
        "outputId": "ad86a7b1-6e84-422d-c059-8a139a8e487f"
      },
      "source": [
        "print(frame.sort_values(by='b'))"
      ],
      "execution_count": 86,
      "outputs": [
        {
          "output_type": "stream",
          "text": [
            "        c   a   b\n",
            "Utah    0   1   2\n",
            "Ohio    3   4   5\n",
            "Texas   6   7   8\n",
            "Oregon  9  10  11\n"
          ],
          "name": "stdout"
        }
      ]
    },
    {
      "cell_type": "code",
      "metadata": {
        "colab": {
          "base_uri": "https://localhost:8080/"
        },
        "id": "fJbAEYZLf_qu",
        "outputId": "7abfd34b-3c4c-4d52-99de-a3bfb513de82"
      },
      "source": [
        "print(frame.sort_values(by=['b','a']))"
      ],
      "execution_count": 88,
      "outputs": [
        {
          "output_type": "stream",
          "text": [
            "        c   a   b\n",
            "Utah    0   1   2\n",
            "Ohio    3   4   5\n",
            "Texas   6   7   8\n",
            "Oregon  9  10  11\n"
          ],
          "name": "stdout"
        }
      ]
    },
    {
      "cell_type": "code",
      "metadata": {
        "colab": {
          "base_uri": "https://localhost:8080/"
        },
        "id": "yW_LCPgmibQh",
        "outputId": "6f6af645-a1e5-419d-afce-46c95c9bddaf"
      },
      "source": [
        "frame = pd.DataFrame({'b':[4,7,-3,2], 'a':[0,1,0,1]})\n",
        "print(frame)\n",
        "print('\\n', frame.sort_values(by=['a','b']))"
      ],
      "execution_count": 91,
      "outputs": [
        {
          "output_type": "stream",
          "text": [
            "   b  a\n",
            "0  4  0\n",
            "1  7  1\n",
            "2 -3  0\n",
            "3  2  1\n",
            "\n",
            "    b  a\n",
            "2 -3  0\n",
            "0  4  0\n",
            "3  2  1\n",
            "1  7  1\n"
          ],
          "name": "stdout"
        }
      ]
    }
  ]
}