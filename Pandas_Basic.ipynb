{
  "nbformat": 4,
  "nbformat_minor": 0,
  "metadata": {
    "colab": {
      "name": "Pandas_Basic.ipynb",
      "provenance": [],
      "authorship_tag": "ABX9TyOcak2d02DcOMEPP0/JAYpN",
      "include_colab_link": true
    },
    "kernelspec": {
      "name": "python3",
      "display_name": "Python 3"
    },
    "language_info": {
      "name": "python"
    }
  },
  "cells": [
    {
      "cell_type": "markdown",
      "metadata": {
        "id": "view-in-github",
        "colab_type": "text"
      },
      "source": [
        "<a href=\"https://colab.research.google.com/github/zasminah/Python_DataVisualization/blob/main/Pandas_Basic.ipynb\" target=\"_parent\"><img src=\"https://colab.research.google.com/assets/colab-badge.svg\" alt=\"Open In Colab\"/></a>"
      ]
    },
    {
      "cell_type": "code",
      "metadata": {
        "colab": {
          "base_uri": "https://localhost:8080/"
        },
        "id": "bbz3rj7yeob4",
        "outputId": "cdc8f4dd-d770-4b58-d22d-c2e2cf800098"
      },
      "source": [
        "import pandas as pd\n",
        "import numpy as np\n",
        "\n",
        "data = {'state':['Ohio','Ohio','Ohio','Nevada','Nevada','Nevada'],\n",
        "        'year':[2000,2001,2002,2001,2002,2003],\n",
        "        'pop':[1.5,1.7,3.6,2.4,2.9,3.2]}\n",
        "\n",
        "frame = pd.DataFrame(data,columns=['year','state','pop','debt'],\n",
        "                     index=['one','two','three','four','five','six'])\n",
        "\n",
        "print(frame)\n",
        "print('\\n',frame.columns)\n",
        "print('\\n',frame['state'])\n",
        "print('\\n',frame.year)"
      ],
      "execution_count": 29,
      "outputs": [
        {
          "output_type": "stream",
          "text": [
            "       year   state  pop debt\n",
            "one    2000    Ohio  1.5  NaN\n",
            "two    2001    Ohio  1.7  NaN\n",
            "three  2002    Ohio  3.6  NaN\n",
            "four   2001  Nevada  2.4  NaN\n",
            "five   2002  Nevada  2.9  NaN\n",
            "six    2003  Nevada  3.2  NaN\n",
            "\n",
            " Index(['year', 'state', 'pop', 'debt'], dtype='object')\n",
            "\n",
            " one        Ohio\n",
            "two        Ohio\n",
            "three      Ohio\n",
            "four     Nevada\n",
            "five     Nevada\n",
            "six      Nevada\n",
            "Name: state, dtype: object\n",
            "\n",
            " one      2000\n",
            "two      2001\n",
            "three    2002\n",
            "four     2001\n",
            "five     2002\n",
            "six      2003\n",
            "Name: year, dtype: int64\n"
          ],
          "name": "stdout"
        }
      ]
    },
    {
      "cell_type": "markdown",
      "metadata": {
        "id": "qdWgAqeOj0ML"
      },
      "source": [
        "To use index value, use loc"
      ]
    },
    {
      "cell_type": "code",
      "metadata": {
        "colab": {
          "base_uri": "https://localhost:8080/"
        },
        "id": "R6Ew0Gi6jeqS",
        "outputId": "b90c72b5-8c74-40bf-c90f-28a8883b4bb7"
      },
      "source": [
        "print('\\n', frame.loc['two'])"
      ],
      "execution_count": 30,
      "outputs": [
        {
          "output_type": "stream",
          "text": [
            "\n",
            " year     2001\n",
            "state    Ohio\n",
            "pop       1.7\n",
            "debt      NaN\n",
            "Name: two, dtype: object\n"
          ],
          "name": "stdout"
        }
      ]
    },
    {
      "cell_type": "markdown",
      "metadata": {
        "id": "9BJ-PrqV6ozi"
      },
      "source": [
        "Insert value "
      ]
    },
    {
      "cell_type": "code",
      "metadata": {
        "colab": {
          "base_uri": "https://localhost:8080/"
        },
        "id": "vJhW7C-Wjuk4",
        "outputId": "0c255123-4145-468f-b28c-a2e7cff6f800"
      },
      "source": [
        "frame['debt'] = 20\n",
        "print(frame,'\\n')\n",
        "frame['debt']= np.arange(6)\n",
        "print(frame)\n"
      ],
      "execution_count": 31,
      "outputs": [
        {
          "output_type": "stream",
          "text": [
            "       year   state  pop  debt\n",
            "one    2000    Ohio  1.5    20\n",
            "two    2001    Ohio  1.7    20\n",
            "three  2002    Ohio  3.6    20\n",
            "four   2001  Nevada  2.4    20\n",
            "five   2002  Nevada  2.9    20\n",
            "six    2003  Nevada  3.2    20 \n",
            "\n",
            "       year   state  pop  debt\n",
            "one    2000    Ohio  1.5     0\n",
            "two    2001    Ohio  1.7     1\n",
            "three  2002    Ohio  3.6     2\n",
            "four   2001  Nevada  2.4     3\n",
            "five   2002  Nevada  2.9     4\n",
            "six    2003  Nevada  3.2     5\n"
          ],
          "name": "stdout"
        }
      ]
    },
    {
      "cell_type": "markdown",
      "metadata": {
        "id": "mDDUXD5qABU5"
      },
      "source": [
        "# 1) Reindex"
      ]
    },
    {
      "cell_type": "markdown",
      "metadata": {
        "id": "jmgSdIvG6fEy"
      },
      "source": [
        "**Reindex - Series**"
      ]
    },
    {
      "cell_type": "code",
      "metadata": {
        "colab": {
          "base_uri": "https://localhost:8080/"
        },
        "id": "CzkbQWW36cfa",
        "outputId": "9df0618a-8ca8-4739-ca9d-b5e4290d27fa"
      },
      "source": [
        "obj = pd.Series([4.5,7.2,-5.3,3.6], index = ['d','b','a','c'])\n",
        "obj2 = obj.reindex(['a','b','c','d','e'])\n",
        "print(obj,'\\n')\n",
        "print(obj2)"
      ],
      "execution_count": 32,
      "outputs": [
        {
          "output_type": "stream",
          "text": [
            "d    4.5\n",
            "b    7.2\n",
            "a   -5.3\n",
            "c    3.6\n",
            "dtype: float64 \n",
            "\n",
            "a   -5.3\n",
            "b    7.2\n",
            "c    3.6\n",
            "d    4.5\n",
            "e    NaN\n",
            "dtype: float64\n"
          ],
          "name": "stdout"
        }
      ]
    },
    {
      "cell_type": "markdown",
      "metadata": {
        "id": "XCxW6iEu8O37"
      },
      "source": [
        "reindex - ffill : front fill"
      ]
    },
    {
      "cell_type": "code",
      "metadata": {
        "colab": {
          "base_uri": "https://localhost:8080/"
        },
        "id": "Nj6Sdr_Q7ge5",
        "outputId": "4fbdcfc1-ea98-43c9-e30e-d4d90547ff85"
      },
      "source": [
        "obj3 = pd.Series(['blue','purple','yello'], index=[0,2,4])\n",
        "print(obj3)\n",
        "print('\\n', obj3.reindex(range(6), method='ffill'))"
      ],
      "execution_count": 33,
      "outputs": [
        {
          "output_type": "stream",
          "text": [
            "0      blue\n",
            "2    purple\n",
            "4     yello\n",
            "dtype: object\n",
            "\n",
            " 0      blue\n",
            "1      blue\n",
            "2    purple\n",
            "3    purple\n",
            "4     yello\n",
            "5     yello\n",
            "dtype: object\n"
          ],
          "name": "stdout"
        }
      ]
    },
    {
      "cell_type": "markdown",
      "metadata": {
        "id": "GAQqVoxn8i_K"
      },
      "source": [
        "**Reindex - DataFrame**"
      ]
    },
    {
      "cell_type": "code",
      "metadata": {
        "colab": {
          "base_uri": "https://localhost:8080/"
        },
        "id": "nuXFWXed8mPI",
        "outputId": "8573aa43-a9d4-4462-b51f-34954d5dafe7"
      },
      "source": [
        "frame = pd.DataFrame(np.arange(9).reshape((3,3)),\n",
        "                     index=['a','c','d'],\n",
        "                     columns=['Ohio','Texas','California'])\n",
        "print(frame)\n",
        "\n",
        "frame2 = frame.reindex(['a','b','c','d'])\n",
        "print('\\n',frame2)"
      ],
      "execution_count": 34,
      "outputs": [
        {
          "output_type": "stream",
          "text": [
            "   Ohio  Texas  California\n",
            "a     0      1           2\n",
            "c     3      4           5\n",
            "d     6      7           8\n",
            "\n",
            "    Ohio  Texas  California\n",
            "a   0.0    1.0         2.0\n",
            "b   NaN    NaN         NaN\n",
            "c   3.0    4.0         5.0\n",
            "d   6.0    7.0         8.0\n"
          ],
          "name": "stdout"
        }
      ]
    },
    {
      "cell_type": "code",
      "metadata": {
        "colab": {
          "base_uri": "https://localhost:8080/"
        },
        "id": "zImwqF-4-4Kl",
        "outputId": "362f20e9-bef8-40de-8ce5-8f73da2524e0"
      },
      "source": [
        "states = ['Texas','Utah', 'California']\n",
        "print('\\n', frame.reindex(columns=states))"
      ],
      "execution_count": 35,
      "outputs": [
        {
          "output_type": "stream",
          "text": [
            "\n",
            "    Texas  Utah  California\n",
            "a      1   NaN           2\n",
            "c      4   NaN           5\n",
            "d      7   NaN           8\n"
          ],
          "name": "stdout"
        }
      ]
    },
    {
      "cell_type": "markdown",
      "metadata": {
        "id": "58B-F4D2_7Bs"
      },
      "source": [
        "# 2) slicing, drop"
      ]
    },
    {
      "cell_type": "markdown",
      "metadata": {
        "id": "J-rZJr_WFHHt"
      },
      "source": [
        "**Series**"
      ]
    },
    {
      "cell_type": "code",
      "metadata": {
        "colab": {
          "base_uri": "https://localhost:8080/"
        },
        "id": "bSVH0nxDAVph",
        "outputId": "8d2135b8-9701-40aa-feaa-b6eeb2fe4db0"
      },
      "source": [
        "obj = pd.Series(np.arange(4), index=['a','b','c','d'])\n",
        "print('\\n','obj[\\'b\\']:','\\n',obj['b'])\n",
        "print('\\n','obj[1]:', '\\n',obj[1])\n",
        "print('\\n','obj[2:4]:','\\n',obj[2:4]) # exclude 4\n",
        "print('\\n','obj[[1,3]]:','\\n',obj[[1,3]])\n",
        "print('\\n','obj[obj<2]:','\\n',obj[obj<2])\n",
        "print('\\n','obj[\\'b\\':\\'c\\']:','\\n',obj['b':'c']) # include 'c'"
      ],
      "execution_count": 36,
      "outputs": [
        {
          "output_type": "stream",
          "text": [
            "\n",
            " obj['b']: \n",
            " 1\n",
            "\n",
            " obj[1]: \n",
            " 1\n",
            "\n",
            " obj[2:4]: \n",
            " c    2\n",
            "d    3\n",
            "dtype: int64\n",
            "\n",
            " obj[[1,3]]: \n",
            " b    1\n",
            "d    3\n",
            "dtype: int64\n",
            "\n",
            " obj[obj<2]: \n",
            " a    0\n",
            "b    1\n",
            "dtype: int64\n",
            "\n",
            " obj['b':'c']: \n",
            " b    1\n",
            "c    2\n",
            "dtype: int64\n"
          ],
          "name": "stdout"
        }
      ]
    },
    {
      "cell_type": "code",
      "metadata": {
        "colab": {
          "base_uri": "https://localhost:8080/"
        },
        "id": "Ybiim4dKDRN8",
        "outputId": "8112cccc-0d7c-4db0-96f7-6276bdd34bf3"
      },
      "source": [
        "obj = pd.Series(np.arange(5), index=['a','b','c','d','e'])\n",
        "new_obj = obj.drop('c')\n",
        "print('\\n', new_obj)\n",
        "print('\\n', obj)\n",
        "print('\\n', obj.drop(['d','c']))"
      ],
      "execution_count": 37,
      "outputs": [
        {
          "output_type": "stream",
          "text": [
            "\n",
            " a    0\n",
            "b    1\n",
            "d    3\n",
            "e    4\n",
            "dtype: int64\n",
            "\n",
            " a    0\n",
            "b    1\n",
            "c    2\n",
            "d    3\n",
            "e    4\n",
            "dtype: int64\n",
            "\n",
            " a    0\n",
            "b    1\n",
            "e    4\n",
            "dtype: int64\n"
          ],
          "name": "stdout"
        }
      ]
    },
    {
      "cell_type": "markdown",
      "metadata": {
        "id": "oqLKaIqsFJ2X"
      },
      "source": [
        "**DataFrame**"
      ]
    },
    {
      "cell_type": "code",
      "metadata": {
        "colab": {
          "base_uri": "https://localhost:8080/"
        },
        "id": "bfe9IMrTFA68",
        "outputId": "152dbf51-fd30-42f9-d5c4-3c2e5ff0becd"
      },
      "source": [
        "data = pd.DataFrame(np.arange(16).reshape((4,4)),\n",
        "                     index=['Ohio','Colorado','Utah','New York'],\n",
        "                    columns=['one','two','three','four'])\n",
        " \n",
        "print('\\n',data)\n",
        "print('\\n', data.drop(['Colorado','Ohio']))\n",
        "print('\\n', data.drop(['two','four'],axis='columns'))"
      ],
      "execution_count": 38,
      "outputs": [
        {
          "output_type": "stream",
          "text": [
            "\n",
            "           one  two  three  four\n",
            "Ohio        0    1      2     3\n",
            "Colorado    4    5      6     7\n",
            "Utah        8    9     10    11\n",
            "New York   12   13     14    15\n",
            "\n",
            "           one  two  three  four\n",
            "Utah        8    9     10    11\n",
            "New York   12   13     14    15\n",
            "\n",
            "           one  three\n",
            "Ohio        0      2\n",
            "Colorado    4      6\n",
            "Utah        8     10\n",
            "New York   12     14\n"
          ],
          "name": "stdout"
        }
      ]
    },
    {
      "cell_type": "markdown",
      "metadata": {
        "id": "Ei9N6rttTDGt"
      },
      "source": [
        "# 3)Calculation\n",
        "add, sub, div, mul"
      ]
    },
    {
      "cell_type": "code",
      "metadata": {
        "colab": {
          "base_uri": "https://localhost:8080/"
        },
        "id": "JKs3yfyoTGMo",
        "outputId": "2bc67ee2-e071-4cee-cb79-b51a4a820a99"
      },
      "source": [
        "df1 = pd.DataFrame(np.arange(12.).reshape((3,4)), columns=list('abcd'))\n",
        "df2 = pd.DataFrame(np.arange(20.).reshape((4,5)), columns=list('abcde'))\n",
        "print(df1,'\\n')\n",
        "print(df2,'\\n')\n",
        "\n",
        "print(df1+df2, '\\n')\n",
        "print(df1.add(df2, fill_value=0),'\\n')"
      ],
      "execution_count": 39,
      "outputs": [
        {
          "output_type": "stream",
          "text": [
            "     a    b     c     d\n",
            "0  0.0  1.0   2.0   3.0\n",
            "1  4.0  5.0   6.0   7.0\n",
            "2  8.0  9.0  10.0  11.0 \n",
            "\n",
            "      a     b     c     d     e\n",
            "0   0.0   1.0   2.0   3.0   4.0\n",
            "1   5.0   6.0   7.0   8.0   9.0\n",
            "2  10.0  11.0  12.0  13.0  14.0\n",
            "3  15.0  16.0  17.0  18.0  19.0 \n",
            "\n",
            "      a     b     c     d   e\n",
            "0   0.0   2.0   4.0   6.0 NaN\n",
            "1   9.0  11.0  13.0  15.0 NaN\n",
            "2  18.0  20.0  22.0  24.0 NaN\n",
            "3   NaN   NaN   NaN   NaN NaN \n",
            "\n",
            "      a     b     c     d     e\n",
            "0   0.0   2.0   4.0   6.0   4.0\n",
            "1   9.0  11.0  13.0  15.0   9.0\n",
            "2  18.0  20.0  22.0  24.0  14.0\n",
            "3  15.0  16.0  17.0  18.0  19.0 \n",
            "\n"
          ],
          "name": "stdout"
        }
      ]
    },
    {
      "cell_type": "markdown",
      "metadata": {
        "id": "lTgH0IqyWRZ9"
      },
      "source": [
        "DataFrame & Series\n",
        "(loc is label-based, which means that you have to specify rows and columns based on their row and column labels. iloc is integer index based,)"
      ]
    },
    {
      "cell_type": "code",
      "metadata": {
        "colab": {
          "base_uri": "https://localhost:8080/"
        },
        "id": "tLHidxoMWVN4",
        "outputId": "ed2af45f-7ce4-496f-ea58-000df8a8f060"
      },
      "source": [
        "frame = pd.DataFrame(np.arange(12).reshape((4,3)),\n",
        "                     index=['Utah','Ohio','Texas','Oregon'],\n",
        "                    columns=list('bde'))\n",
        "series = frame.iloc[0]\n",
        "\n",
        "print(frame)\n",
        "print('\\n', series)\n",
        "print('\\n', frame - series)\n"
      ],
      "execution_count": 40,
      "outputs": [
        {
          "output_type": "stream",
          "text": [
            "        b   d   e\n",
            "Utah    0   1   2\n",
            "Ohio    3   4   5\n",
            "Texas   6   7   8\n",
            "Oregon  9  10  11\n",
            "\n",
            " b    0\n",
            "d    1\n",
            "e    2\n",
            "Name: Utah, dtype: int64\n",
            "\n",
            "         b  d  e\n",
            "Utah    0  0  0\n",
            "Ohio    3  3  3\n",
            "Texas   6  6  6\n",
            "Oregon  9  9  9\n"
          ],
          "name": "stdout"
        }
      ]
    },
    {
      "cell_type": "markdown",
      "metadata": {
        "id": "dbD_HR3zZSf1"
      },
      "source": [
        "# 4) Function and Mapping\n",
        "Use apply function"
      ]
    },
    {
      "cell_type": "code",
      "metadata": {
        "colab": {
          "base_uri": "https://localhost:8080/"
        },
        "id": "D_72S-dAZSRC",
        "outputId": "373ea989-d97a-4ac9-deb8-2b6ff3cd838c"
      },
      "source": [
        "frame = pd.DataFrame(np.random.randn(4,3), columns =list('bde'),\n",
        "                     index = ['Utah','Ohio','Texas','Oregon'])\n",
        "print('\\n', np.abs(frame),'\\n') # Universial Function\n",
        "\n",
        "f = lambda x: x.max()-x.min()\n",
        "print('\\n', frame.apply(f), '\\n')\n",
        "print('\\n', frame.apply(f,axis=1),'\\n')\n",
        "\n",
        "def f1(x):\n",
        "  return pd.Series([x.min(),x.max()], index = ['min','max'])\n",
        "\n",
        "print('\\n', frame.apply(f1), '\\n')"
      ],
      "execution_count": 41,
      "outputs": [
        {
          "output_type": "stream",
          "text": [
            "\n",
            "                b         d         e\n",
            "Utah    0.282212  0.079728  0.081153\n",
            "Ohio    0.510812  0.335186  0.073554\n",
            "Texas   0.618349  0.150038  2.277824\n",
            "Oregon  0.582987  0.801325  2.001731 \n",
            "\n",
            "\n",
            " b    1.129161\n",
            "d    0.951362\n",
            "e    2.351378\n",
            "dtype: float64 \n",
            "\n",
            "\n",
            " Utah      0.363366\n",
            "Ohio      0.437258\n",
            "Texas     2.127786\n",
            "Oregon    2.803055\n",
            "dtype: float64 \n",
            "\n",
            "\n",
            "             b         d         e\n",
            "min -0.510812 -0.801325 -0.073554\n",
            "max  0.618349  0.150038  2.277824 \n",
            "\n"
          ],
          "name": "stdout"
        }
      ]
    },
    {
      "cell_type": "markdown",
      "metadata": {
        "id": "JsdxvGDedNeN"
      },
      "source": [
        "# 5) Sort"
      ]
    },
    {
      "cell_type": "code",
      "metadata": {
        "colab": {
          "base_uri": "https://localhost:8080/"
        },
        "id": "HRvSZA76dP4a",
        "outputId": "6b6e6e03-0701-4626-f0d4-221e7176c2dc"
      },
      "source": [
        "obj = pd.Series([1,3,2,5], index = list('dabc'))\n",
        "print(obj.sort_index())\n",
        "print('\\n',obj.sort_values())"
      ],
      "execution_count": 42,
      "outputs": [
        {
          "output_type": "stream",
          "text": [
            "a    3\n",
            "b    2\n",
            "c    5\n",
            "d    1\n",
            "dtype: int64\n",
            "\n",
            " d    1\n",
            "b    2\n",
            "a    3\n",
            "c    5\n",
            "dtype: int64\n"
          ],
          "name": "stdout"
        }
      ]
    },
    {
      "cell_type": "code",
      "metadata": {
        "colab": {
          "base_uri": "https://localhost:8080/"
        },
        "id": "bsY9vpdfeVpt",
        "outputId": "fb39619c-fec1-4bda-aa15-6b614ffea0d6"
      },
      "source": [
        "frame = pd.DataFrame(np.arange(12).reshape((4,3)),\n",
        "                     index=['Utah','Ohio','Texas','Oregon'],\n",
        "                    columns=list('cab'))\n",
        "\n",
        "print(frame.sort_index())\n",
        "\n",
        "print('\\n', frame.sort_index(axis=1))\n",
        "\n",
        "print('\\n', frame.sort_index(axis=1, ascending=False))\n"
      ],
      "execution_count": 43,
      "outputs": [
        {
          "output_type": "stream",
          "text": [
            "        c   a   b\n",
            "Ohio    3   4   5\n",
            "Oregon  9  10  11\n",
            "Texas   6   7   8\n",
            "Utah    0   1   2\n",
            "\n",
            "          a   b  c\n",
            "Utah     1   2  0\n",
            "Ohio     4   5  3\n",
            "Texas    7   8  6\n",
            "Oregon  10  11  9\n",
            "\n",
            "         c   b   a\n",
            "Utah    0   2   1\n",
            "Ohio    3   5   4\n",
            "Texas   6   8   7\n",
            "Oregon  9  11  10\n"
          ],
          "name": "stdout"
        }
      ]
    },
    {
      "cell_type": "code",
      "metadata": {
        "colab": {
          "base_uri": "https://localhost:8080/"
        },
        "id": "tePtfyMVf0MA",
        "outputId": "e84b64a8-7519-4cbf-9f03-77bbe8278c81"
      },
      "source": [
        "print(frame.sort_values(by='b'))"
      ],
      "execution_count": 44,
      "outputs": [
        {
          "output_type": "stream",
          "text": [
            "        c   a   b\n",
            "Utah    0   1   2\n",
            "Ohio    3   4   5\n",
            "Texas   6   7   8\n",
            "Oregon  9  10  11\n"
          ],
          "name": "stdout"
        }
      ]
    },
    {
      "cell_type": "code",
      "metadata": {
        "colab": {
          "base_uri": "https://localhost:8080/"
        },
        "id": "fJbAEYZLf_qu",
        "outputId": "f02e4d65-242c-447a-8fdd-ae18a3557951"
      },
      "source": [
        "print(frame.sort_values(by=['b','a']))"
      ],
      "execution_count": 45,
      "outputs": [
        {
          "output_type": "stream",
          "text": [
            "        c   a   b\n",
            "Utah    0   1   2\n",
            "Ohio    3   4   5\n",
            "Texas   6   7   8\n",
            "Oregon  9  10  11\n"
          ],
          "name": "stdout"
        }
      ]
    },
    {
      "cell_type": "code",
      "metadata": {
        "colab": {
          "base_uri": "https://localhost:8080/"
        },
        "id": "yW_LCPgmibQh",
        "outputId": "018ff2bc-b198-4b0f-b5e4-25e777f76388"
      },
      "source": [
        "frame = pd.DataFrame({'b':[4,7,-3,2], 'a':[0,1,0,1]})\n",
        "print(frame)\n",
        "print('\\n', frame.sort_values(by=['a','b']))"
      ],
      "execution_count": 46,
      "outputs": [
        {
          "output_type": "stream",
          "text": [
            "   b  a\n",
            "0  4  0\n",
            "1  7  1\n",
            "2 -3  0\n",
            "3  2  1\n",
            "\n",
            "    b  a\n",
            "2 -3  0\n",
            "0  4  0\n",
            "3  2  1\n",
            "1  7  1\n"
          ],
          "name": "stdout"
        }
      ]
    },
    {
      "cell_type": "markdown",
      "metadata": {
        "id": "fB1nLh2y7wdF"
      },
      "source": [
        "# 6)Rank"
      ]
    },
    {
      "cell_type": "code",
      "metadata": {
        "colab": {
          "base_uri": "https://localhost:8080/"
        },
        "id": "hkTHzmlJ70eU",
        "outputId": "f9d52a47-b62f-4556-d041-8adb27f57455"
      },
      "source": [
        "obj = pd.Series([7,-5,7,4,2,0,4])\n",
        "print(obj.rank())"
      ],
      "execution_count": 47,
      "outputs": [
        {
          "output_type": "stream",
          "text": [
            "0    6.5\n",
            "1    1.0\n",
            "2    6.5\n",
            "3    4.5\n",
            "4    3.0\n",
            "5    2.0\n",
            "6    4.5\n",
            "dtype: float64\n"
          ],
          "name": "stdout"
        }
      ]
    },
    {
      "cell_type": "markdown",
      "metadata": {
        "id": "zyUY4cvf88Y8"
      },
      "source": [
        "# 7)Duplicated Index"
      ]
    },
    {
      "cell_type": "code",
      "metadata": {
        "colab": {
          "base_uri": "https://localhost:8080/"
        },
        "id": "ReyltFQS9AkV",
        "outputId": "b92ac3e5-3ebd-4e33-8956-43497d7e876c"
      },
      "source": [
        "obj = pd.Series(range(5), index = ['a','a','b','b','c'])\n",
        "print(obj.index.is_unique,'\\n')\n",
        "print(obj['a'],'\\n')\n",
        "\n",
        "df = pd.DataFrame(np.random.randn(4,3), index=['a','a','b','b'])\n",
        "print(df.loc['b'])\n"
      ],
      "execution_count": 48,
      "outputs": [
        {
          "output_type": "stream",
          "text": [
            "False \n",
            "\n",
            "a    0\n",
            "a    1\n",
            "dtype: int64 \n",
            "\n",
            "          0         1         2\n",
            "b  0.649799 -0.268830  1.277777\n",
            "b -0.667256  0.000315 -1.400736\n"
          ],
          "name": "stdout"
        }
      ]
    },
    {
      "cell_type": "markdown",
      "metadata": {
        "id": "wKgpNElU-sZV"
      },
      "source": [
        "# 8)Statistics"
      ]
    },
    {
      "cell_type": "code",
      "metadata": {
        "colab": {
          "base_uri": "https://localhost:8080/"
        },
        "id": "CRTnH95w-v56",
        "outputId": "57cd29cb-d2be-4a8c-8e17-46578182048a"
      },
      "source": [
        "df = pd.DataFrame([[1.4,np.nan],[7.1,-4.5],[np.nan,np.nan],[0.75, -1.3]], \n",
        "                  index = list('abcd'),\n",
        "                  columns=['one','two'])\n",
        "print(df)\n",
        "print('\\n', df.sum())\n",
        "print('\\n', df.sum(axis=1))\n",
        "print('\\n', df.describe())"
      ],
      "execution_count": 49,
      "outputs": [
        {
          "output_type": "stream",
          "text": [
            "    one  two\n",
            "a  1.40  NaN\n",
            "b  7.10 -4.5\n",
            "c   NaN  NaN\n",
            "d  0.75 -1.3\n",
            "\n",
            " one    9.25\n",
            "two   -5.80\n",
            "dtype: float64\n",
            "\n",
            " a    1.40\n",
            "b    2.60\n",
            "c    0.00\n",
            "d   -0.55\n",
            "dtype: float64\n",
            "\n",
            "             one       two\n",
            "count  3.000000  2.000000\n",
            "mean   3.083333 -2.900000\n",
            "std    3.493685  2.262742\n",
            "min    0.750000 -4.500000\n",
            "25%    1.075000 -3.700000\n",
            "50%    1.400000 -2.900000\n",
            "75%    4.250000 -2.100000\n",
            "max    7.100000 -1.300000\n"
          ],
          "name": "stdout"
        }
      ]
    },
    {
      "cell_type": "markdown",
      "metadata": {
        "id": "kxlOf6hTCjah"
      },
      "source": [
        "# 9) Correlation\n",
        "\n",
        "corr(상관관계)\n",
        "cov(공분산)\n",
        "corrwith(Data의 모든 상관관계 반환 - Series 형태로)"
      ]
    },
    {
      "cell_type": "code",
      "metadata": {
        "colab": {
          "base_uri": "https://localhost:8080/"
        },
        "id": "xfLTZE5GCkxk",
        "outputId": "e82cef70-7233-4d68-9840-f18c09b8eb70"
      },
      "source": [
        "import datetime as dt\n",
        "import pandas_datareader as pdr\n",
        "end = dt.datetime.now()\n",
        "span = 365*5 #days ago\n",
        "start = end - dt.timedelta(days=span) #days ago\n",
        "\n",
        "SSE = pdr.data.DataReader('005930', 'naver', start, end).astype(float) \n",
        "LGE = pdr.data.DataReader('066570', 'naver', start, end).astype(float) \n",
        "\n",
        "# print(SSE)\n",
        "\n",
        "priceSSEClose = SSE['Close']\n",
        "priceLGEClose = LGE['Close']\n",
        "\n",
        "print(priceSSEClose.tail())\n",
        "print('\\n',priceSSEClose.corr(priceLGEClose))\n",
        "print('\\n',priceSSEClose.cov(priceLGEClose))\n"
      ],
      "execution_count": 54,
      "outputs": [
        {
          "output_type": "stream",
          "text": [
            "Date\n",
            "2021-04-08    84700.0\n",
            "2021-04-09    83600.0\n",
            "2021-04-12    83200.0\n",
            "2021-04-13    84000.0\n",
            "2021-04-14    83600.0\n",
            "Name: Close, dtype: float64\n",
            "\n",
            " 0.8146962626297714\n",
            "\n",
            " 255250824.36206296\n"
          ],
          "name": "stdout"
        }
      ]
    },
    {
      "cell_type": "markdown",
      "metadata": {
        "id": "PcOlrzUun2bZ"
      },
      "source": [
        "# 10) Nan Data "
      ]
    },
    {
      "cell_type": "code",
      "metadata": {
        "colab": {
          "base_uri": "https://localhost:8080/"
        },
        "id": "YWNT49njn7xH",
        "outputId": "7509acb9-2699-4e87-9e8e-e5e47a14670d"
      },
      "source": [
        "np.random.seed(12345)\n",
        "data = pd.Series([1,np.nan, 3.5, np.nan, 7])\n",
        "print(data,'\\n')\n",
        "print(data.dropna(),'\\n')\n",
        "print(data[data.notnull()],'\\n')\n",
        "\n",
        "np.random.seed(12345)\n",
        "df = pd.DataFrame(np.random.randn(7,3))\n",
        "df.iloc[:4,1] = np.nan\n",
        "df.iloc[:2, 2] = np.nan\n",
        "print(df, '\\n')\n",
        "print(df.fillna(0),'\\n')\n",
        "print(df.fillna({1:0.5, 2:-2}))\n",
        "print(df.fillna(method='backfill'))"
      ],
      "execution_count": 62,
      "outputs": [
        {
          "output_type": "stream",
          "text": [
            "0    1.0\n",
            "1    NaN\n",
            "2    3.5\n",
            "3    NaN\n",
            "4    7.0\n",
            "dtype: float64 \n",
            "\n",
            "0    1.0\n",
            "2    3.5\n",
            "4    7.0\n",
            "dtype: float64 \n",
            "\n",
            "0    1.0\n",
            "2    3.5\n",
            "4    7.0\n",
            "dtype: float64 \n",
            "\n",
            "          0         1         2\n",
            "0 -0.204708       NaN       NaN\n",
            "1 -0.555730       NaN       NaN\n",
            "2  0.092908       NaN  0.769023\n",
            "3  1.246435       NaN -1.296221\n",
            "4  0.274992  0.228913  1.352917\n",
            "5  0.886429 -2.001637 -0.371843\n",
            "6  1.669025 -0.438570 -0.539741 \n",
            "\n",
            "          0         1         2\n",
            "0 -0.204708  0.000000  0.000000\n",
            "1 -0.555730  0.000000  0.000000\n",
            "2  0.092908  0.000000  0.769023\n",
            "3  1.246435  0.000000 -1.296221\n",
            "4  0.274992  0.228913  1.352917\n",
            "5  0.886429 -2.001637 -0.371843\n",
            "6  1.669025 -0.438570 -0.539741 \n",
            "\n",
            "          0         1         2\n",
            "0 -0.204708  0.500000 -2.000000\n",
            "1 -0.555730  0.500000 -2.000000\n",
            "2  0.092908  0.500000  0.769023\n",
            "3  1.246435  0.500000 -1.296221\n",
            "4  0.274992  0.228913  1.352917\n",
            "5  0.886429 -2.001637 -0.371843\n",
            "6  1.669025 -0.438570 -0.539741\n",
            "          0         1         2\n",
            "0 -0.204708  0.228913  0.769023\n",
            "1 -0.555730  0.228913  0.769023\n",
            "2  0.092908  0.228913  0.769023\n",
            "3  1.246435  0.228913 -1.296221\n",
            "4  0.274992  0.228913  1.352917\n",
            "5  0.886429 -2.001637 -0.371843\n",
            "6  1.669025 -0.438570 -0.539741\n"
          ],
          "name": "stdout"
        }
      ]
    }
  ]
}