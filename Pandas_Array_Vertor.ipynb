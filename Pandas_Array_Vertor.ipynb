{
  "nbformat": 4,
  "nbformat_minor": 0,
  "metadata": {
    "colab": {
      "name": "Pandas_Array_Vertor.ipynb",
      "provenance": [],
      "authorship_tag": "ABX9TyPXDSNWUBACRTEiNdd5cQ+z",
      "include_colab_link": true
    },
    "kernelspec": {
      "name": "python3",
      "display_name": "Python 3"
    },
    "language_info": {
      "name": "python"
    }
  },
  "cells": [
    {
      "cell_type": "markdown",
      "metadata": {
        "id": "view-in-github",
        "colab_type": "text"
      },
      "source": [
        "<a href=\"https://colab.research.google.com/github/zasminah/Python_DataVisualization/blob/main/Pandas_Array_Vertor.ipynb\" target=\"_parent\"><img src=\"https://colab.research.google.com/assets/colab-badge.svg\" alt=\"Open In Colab\"/></a>"
      ]
    },
    {
      "cell_type": "code",
      "metadata": {
        "colab": {
          "base_uri": "https://localhost:8080/"
        },
        "id": "bbz3rj7yeob4",
        "outputId": "1b8721f2-e820-4092-f49c-89c698ae56c2"
      },
      "source": [
        "import pandas as pd\n",
        "import numpy as np\n",
        "\n",
        "data = {'state':['Ohio','Ohio','Ohio','Nevada','Nevada','Nevada'],\n",
        "        'year':[2000,2001,2002,2001,2002,2003],\n",
        "        'pop':[1.5,1.7,3.6,2.4,2.9,3.2]}\n",
        "\n",
        "frame = pd.DataFrame(data,columns=['year','state','pop','debt'],\n",
        "                     index=['one','two','three','four','five','six'])\n",
        "\n",
        "print(frame)\n",
        "print('\\n',frame.columns)\n",
        "print('\\n',frame['state'])\n",
        "print('\\n',frame.year)"
      ],
      "execution_count": 11,
      "outputs": [
        {
          "output_type": "stream",
          "text": [
            "       year   state  pop debt\n",
            "one    2000    Ohio  1.5  NaN\n",
            "two    2001    Ohio  1.7  NaN\n",
            "three  2002    Ohio  3.6  NaN\n",
            "four   2001  Nevada  2.4  NaN\n",
            "five   2002  Nevada  2.9  NaN\n",
            "six    2003  Nevada  3.2  NaN\n",
            "\n",
            " Index(['year', 'state', 'pop', 'debt'], dtype='object')\n",
            "\n",
            " one        Ohio\n",
            "two        Ohio\n",
            "three      Ohio\n",
            "four     Nevada\n",
            "five     Nevada\n",
            "six      Nevada\n",
            "Name: state, dtype: object\n",
            "\n",
            " one      2000\n",
            "two      2001\n",
            "three    2002\n",
            "four     2001\n",
            "five     2002\n",
            "six      2003\n",
            "Name: year, dtype: int64\n"
          ],
          "name": "stdout"
        }
      ]
    },
    {
      "cell_type": "markdown",
      "metadata": {
        "id": "qdWgAqeOj0ML"
      },
      "source": [
        "To use index value, use loc"
      ]
    },
    {
      "cell_type": "code",
      "metadata": {
        "colab": {
          "base_uri": "https://localhost:8080/"
        },
        "id": "R6Ew0Gi6jeqS",
        "outputId": "85a71dbc-45ed-41d2-ac3f-a91a6ab8cc7b"
      },
      "source": [
        "print('\\n', frame.loc['two'])"
      ],
      "execution_count": 12,
      "outputs": [
        {
          "output_type": "stream",
          "text": [
            "\n",
            " year     2001\n",
            "state    Ohio\n",
            "pop       1.7\n",
            "debt      NaN\n",
            "Name: two, dtype: object\n"
          ],
          "name": "stdout"
        }
      ]
    },
    {
      "cell_type": "markdown",
      "metadata": {
        "id": "9BJ-PrqV6ozi"
      },
      "source": [
        "Insert value "
      ]
    },
    {
      "cell_type": "code",
      "metadata": {
        "colab": {
          "base_uri": "https://localhost:8080/"
        },
        "id": "vJhW7C-Wjuk4",
        "outputId": "68ea065f-616f-42cb-a5bc-532840818f95"
      },
      "source": [
        "frame['debt'] = 20\n",
        "print(frame,'\\n')\n",
        "frame['debt']= np.arange(6)\n",
        "print(frame)\n"
      ],
      "execution_count": 13,
      "outputs": [
        {
          "output_type": "stream",
          "text": [
            "       year   state  pop  debt\n",
            "one    2000    Ohio  1.5    20\n",
            "two    2001    Ohio  1.7    20\n",
            "three  2002    Ohio  3.6    20\n",
            "four   2001  Nevada  2.4    20\n",
            "five   2002  Nevada  2.9    20\n",
            "six    2003  Nevada  3.2    20 \n",
            "\n",
            "       year   state  pop  debt\n",
            "one    2000    Ohio  1.5     0\n",
            "two    2001    Ohio  1.7     1\n",
            "three  2002    Ohio  3.6     2\n",
            "four   2001  Nevada  2.4     3\n",
            "five   2002  Nevada  2.9     4\n",
            "six    2003  Nevada  3.2     5\n"
          ],
          "name": "stdout"
        }
      ]
    },
    {
      "cell_type": "markdown",
      "metadata": {
        "id": "mDDUXD5qABU5"
      },
      "source": [
        "# 1) Reindex"
      ]
    },
    {
      "cell_type": "markdown",
      "metadata": {
        "id": "jmgSdIvG6fEy"
      },
      "source": [
        "**Reindex - Series**"
      ]
    },
    {
      "cell_type": "code",
      "metadata": {
        "colab": {
          "base_uri": "https://localhost:8080/"
        },
        "id": "CzkbQWW36cfa",
        "outputId": "d78a84c9-a664-4d1c-9025-7f194bbe5798"
      },
      "source": [
        "obj = pd.Series([4.5,7.2,-5.3,3.6], index = ['d','b','a','c'])\n",
        "obj2 = obj.reindex(['a','b','c','d','e'])\n",
        "print(obj,'\\n')\n",
        "print(obj2)"
      ],
      "execution_count": 17,
      "outputs": [
        {
          "output_type": "stream",
          "text": [
            "d    4.5\n",
            "b    7.2\n",
            "a   -5.3\n",
            "c    3.6\n",
            "dtype: float64 \n",
            "\n",
            "a   -5.3\n",
            "b    7.2\n",
            "c    3.6\n",
            "d    4.5\n",
            "e    NaN\n",
            "dtype: float64\n"
          ],
          "name": "stdout"
        }
      ]
    },
    {
      "cell_type": "markdown",
      "metadata": {
        "id": "XCxW6iEu8O37"
      },
      "source": [
        "reindex - ffill : front fill"
      ]
    },
    {
      "cell_type": "code",
      "metadata": {
        "colab": {
          "base_uri": "https://localhost:8080/"
        },
        "id": "Nj6Sdr_Q7ge5",
        "outputId": "ec4c5025-3bab-42f1-e3f6-c44ce8dfcd0b"
      },
      "source": [
        "obj3 = pd.Series(['blue','purple','yello'], index=[0,2,4])\n",
        "print(obj3)\n",
        "print('\\n', obj3.reindex(range(6), method='ffill'))"
      ],
      "execution_count": 19,
      "outputs": [
        {
          "output_type": "stream",
          "text": [
            "0      blue\n",
            "2    purple\n",
            "4     yello\n",
            "dtype: object\n",
            "\n",
            " 0      blue\n",
            "1      blue\n",
            "2    purple\n",
            "3    purple\n",
            "4     yello\n",
            "5     yello\n",
            "dtype: object\n"
          ],
          "name": "stdout"
        }
      ]
    },
    {
      "cell_type": "markdown",
      "metadata": {
        "id": "GAQqVoxn8i_K"
      },
      "source": [
        "**Reindex - DataFrame**"
      ]
    },
    {
      "cell_type": "code",
      "metadata": {
        "colab": {
          "base_uri": "https://localhost:8080/"
        },
        "id": "nuXFWXed8mPI",
        "outputId": "aba84c41-61b5-4bb5-8731-ab32b2e4759f"
      },
      "source": [
        "frame = pd.DataFrame(np.arange(9).reshape((3,3)),\n",
        "                     index=['a','c','d'],\n",
        "                     columns=['Ohio','Texas','California'])\n",
        "print(frame)\n",
        "\n",
        "frame2 = frame.reindex(['a','b','c','d'])\n",
        "print('\\n',frame2)"
      ],
      "execution_count": 22,
      "outputs": [
        {
          "output_type": "stream",
          "text": [
            "   Ohio  Texas  California\n",
            "a     0      1           2\n",
            "c     3      4           5\n",
            "d     6      7           8\n",
            "\n",
            "    Ohio  Texas  California\n",
            "a   0.0    1.0         2.0\n",
            "b   NaN    NaN         NaN\n",
            "c   3.0    4.0         5.0\n",
            "d   6.0    7.0         8.0\n"
          ],
          "name": "stdout"
        }
      ]
    },
    {
      "cell_type": "code",
      "metadata": {
        "colab": {
          "base_uri": "https://localhost:8080/"
        },
        "id": "zImwqF-4-4Kl",
        "outputId": "052c9db9-e5f0-4b62-ea87-fbb6391a3ac0"
      },
      "source": [
        "states = ['Texas','Utah', 'California']\n",
        "print('\\n', frame.reindex(columns=states))"
      ],
      "execution_count": 24,
      "outputs": [
        {
          "output_type": "stream",
          "text": [
            "\n",
            "    Texas  Utah  California\n",
            "a      1   NaN           2\n",
            "c      4   NaN           5\n",
            "d      7   NaN           8\n"
          ],
          "name": "stdout"
        }
      ]
    },
    {
      "cell_type": "markdown",
      "metadata": {
        "id": "58B-F4D2_7Bs"
      },
      "source": [
        "# 2) slicing,drop"
      ]
    },
    {
      "cell_type": "markdown",
      "metadata": {
        "id": "J-rZJr_WFHHt"
      },
      "source": [
        "**Series**"
      ]
    },
    {
      "cell_type": "code",
      "metadata": {
        "colab": {
          "base_uri": "https://localhost:8080/"
        },
        "id": "bSVH0nxDAVph",
        "outputId": "247c40ae-93f6-47b6-8e6c-66b44a2814f7"
      },
      "source": [
        "obj = pd.Series(np.arange(4), index=['a','b','c','d'])\n",
        "print('\\n','obj[\\'b\\']:','\\n',obj['b'])\n",
        "print('\\n','obj[1]:', '\\n',obj[1])\n",
        "print('\\n','obj[2:4]:','\\n',obj[2:4]) # exclude 4\n",
        "print('\\n','obj[[1,3]]:','\\n',obj[[1,3]])\n",
        "print('\\n','obj[obj<2]:','\\n',obj[obj<2])\n",
        "print('\\n','obj[\\'b\\':\\'c\\']:','\\n',obj['b':'c']) # include 'c'"
      ],
      "execution_count": 37,
      "outputs": [
        {
          "output_type": "stream",
          "text": [
            "\n",
            " obj['b']: \n",
            " 1\n",
            "\n",
            " obj[1]: \n",
            " 1\n",
            "\n",
            " obj[2:4]: \n",
            " c    2\n",
            "d    3\n",
            "dtype: int64\n",
            "\n",
            " obj[[1,3]]: \n",
            " b    1\n",
            "d    3\n",
            "dtype: int64\n",
            "\n",
            " obj[obj<2]: \n",
            " a    0\n",
            "b    1\n",
            "dtype: int64\n",
            "\n",
            " obj['b':'c']: \n",
            " b    1\n",
            "c    2\n",
            "dtype: int64\n"
          ],
          "name": "stdout"
        }
      ]
    },
    {
      "cell_type": "code",
      "metadata": {
        "colab": {
          "base_uri": "https://localhost:8080/"
        },
        "id": "Ybiim4dKDRN8",
        "outputId": "0ef14a5a-9258-4406-ab9d-46e8d68bc99e"
      },
      "source": [
        "obj = pd.Series(np.arange(5), index=['a','b','c','d','e'])\n",
        "new_obj = obj.drop('c')\n",
        "print('\\n', new_obj)\n",
        "print('\\n', obj)\n",
        "print('\\n', obj.drop(['d','c']))"
      ],
      "execution_count": 40,
      "outputs": [
        {
          "output_type": "stream",
          "text": [
            "\n",
            " a    0\n",
            "b    1\n",
            "d    3\n",
            "e    4\n",
            "dtype: int64\n",
            "\n",
            " a    0\n",
            "b    1\n",
            "c    2\n",
            "d    3\n",
            "e    4\n",
            "dtype: int64\n",
            "\n",
            " a    0\n",
            "b    1\n",
            "e    4\n",
            "dtype: int64\n"
          ],
          "name": "stdout"
        }
      ]
    },
    {
      "cell_type": "markdown",
      "metadata": {
        "id": "oqLKaIqsFJ2X"
      },
      "source": [
        "**DataFrame**"
      ]
    },
    {
      "cell_type": "code",
      "metadata": {
        "colab": {
          "base_uri": "https://localhost:8080/"
        },
        "id": "bfe9IMrTFA68",
        "outputId": "a977b192-6a7c-4039-b058-c7326081804b"
      },
      "source": [
        "data = pd.DataFrame(np.arange(16).reshape((4,4)),\n",
        "                     index=['Ohio','Colorado','Utah','New York'],\n",
        "                    columns=['one','two','three','four'])\n",
        " \n",
        "print('\\n',data)\n",
        "print('\\n', data.drop(['Colorado','Ohio']))\n",
        "print('\\n', data.drop(['two','four'],axis='columns'))"
      ],
      "execution_count": 53,
      "outputs": [
        {
          "output_type": "stream",
          "text": [
            "\n",
            "           one  two  three  four\n",
            "Ohio        0    1      2     3\n",
            "Colorado    4    5      6     7\n",
            "Utah        8    9     10    11\n",
            "New York   12   13     14    15\n",
            "\n",
            "           one  two  three  four\n",
            "Utah        8    9     10    11\n",
            "New York   12   13     14    15\n",
            "\n",
            "           one  three\n",
            "Ohio        0      2\n",
            "Colorado    4      6\n",
            "Utah        8     10\n",
            "New York   12     14\n"
          ],
          "name": "stdout"
        }
      ]
    },
    {
      "cell_type": "markdown",
      "metadata": {
        "id": "Ei9N6rttTDGt"
      },
      "source": [
        "# 3)Calculation\n",
        "add, sub, div, mul"
      ]
    },
    {
      "cell_type": "code",
      "metadata": {
        "colab": {
          "base_uri": "https://localhost:8080/"
        },
        "id": "JKs3yfyoTGMo",
        "outputId": "58be9569-f95e-45be-d15a-096a8663317e"
      },
      "source": [
        "df1 = pd.DataFrame(np.arange(12.).reshape((3,4)), columns=list('abcd'))\n",
        "df2 = pd.DataFrame(np.arange(20.).reshape((4,5)), columns=list('abcde'))\n",
        "print(df1,'\\n')\n",
        "print(df2,'\\n')\n",
        "\n",
        "print(df1+df2, '\\n')\n",
        "print(df1.add(df2, fill_value=0),'\\n')"
      ],
      "execution_count": 52,
      "outputs": [
        {
          "output_type": "stream",
          "text": [
            "     a    b     c     d\n",
            "0  0.0  1.0   2.0   3.0\n",
            "1  4.0  5.0   6.0   7.0\n",
            "2  8.0  9.0  10.0  11.0 \n",
            "\n",
            "      a     b     c     d     e\n",
            "0   0.0   1.0   2.0   3.0   4.0\n",
            "1   5.0   6.0   7.0   8.0   9.0\n",
            "2  10.0  11.0  12.0  13.0  14.0\n",
            "3  15.0  16.0  17.0  18.0  19.0 \n",
            "\n",
            "      a     b     c     d   e\n",
            "0   0.0   2.0   4.0   6.0 NaN\n",
            "1   9.0  11.0  13.0  15.0 NaN\n",
            "2  18.0  20.0  22.0  24.0 NaN\n",
            "3   NaN   NaN   NaN   NaN NaN \n",
            "\n",
            "      a     b     c     d     e\n",
            "0   0.0   2.0   4.0   6.0   4.0\n",
            "1   9.0  11.0  13.0  15.0   9.0\n",
            "2  18.0  20.0  22.0  24.0  14.0\n",
            "3  15.0  16.0  17.0  18.0  19.0 \n",
            "\n"
          ],
          "name": "stdout"
        }
      ]
    },
    {
      "cell_type": "markdown",
      "metadata": {
        "id": "lTgH0IqyWRZ9"
      },
      "source": [
        "DataFrame & Series"
      ]
    },
    {
      "cell_type": "code",
      "metadata": {
        "colab": {
          "base_uri": "https://localhost:8080/"
        },
        "id": "tLHidxoMWVN4",
        "outputId": "f9fb993a-712c-4d85-cdce-36b8253568e9"
      },
      "source": [
        "frame = pd.DataFrame(np.arange(12).reshape((4,3)),\n",
        "                     index=['Utah','Ohio','Texas','Oregon'],\n",
        "                    columns=list('bde'))\n",
        "series = frame.iloc[0]\n",
        "\n",
        "print(frame)\n",
        "print('\\n', series)\n",
        "print('\\n', frame - series)\n"
      ],
      "execution_count": 59,
      "outputs": [
        {
          "output_type": "stream",
          "text": [
            "        b   d   e\n",
            "Utah    0   1   2\n",
            "Ohio    3   4   5\n",
            "Texas   6   7   8\n",
            "Oregon  9  10  11\n",
            "\n",
            " b    0\n",
            "d    1\n",
            "e    2\n",
            "Name: Utah, dtype: int64\n",
            "\n",
            "         b  d  e\n",
            "Utah    0  0  0\n",
            "Ohio    3  3  3\n",
            "Texas   6  6  6\n",
            "Oregon  9  9  9\n"
          ],
          "name": "stdout"
        }
      ]
    },
    {
      "cell_type": "markdown",
      "metadata": {
        "id": "dbD_HR3zZSf1"
      },
      "source": [
        "# 4) Function and Mapping\n",
        "Use apply function"
      ]
    },
    {
      "cell_type": "code",
      "metadata": {
        "colab": {
          "base_uri": "https://localhost:8080/"
        },
        "id": "D_72S-dAZSRC",
        "outputId": "0240519c-dbec-48dd-8993-c92aa64cf40a"
      },
      "source": [
        "frame = pd.DataFrame(np.random.randn(4,3), columns =list('bde'),\n",
        "                     index = ['Utah','Ohio','Texas','Oregon'])\n",
        "print('\\n', np.abs(frame),'\\n') # Universial Function\n",
        "\n",
        "f = lambda x: x.max()-x.min()\n",
        "print('\\n', frame.apply(f), '\\n')\n",
        "print('\\n', frame.apply(f,axis=1),'\\n')\n",
        "\n",
        "def f1(x):\n",
        "  return pd.Series([x.min(),x.max()], index = ['min','max'])\n",
        "\n",
        "print('\\n', frame.apply(f1), '\\n')"
      ],
      "execution_count": 62,
      "outputs": [
        {
          "output_type": "stream",
          "text": [
            "\n",
            "                b         d         e\n",
            "Utah    0.449988  0.872815  0.297850\n",
            "Ohio    0.998009  0.017814  1.092005\n",
            "Texas   1.825914  1.682638  0.505220\n",
            "Oregon  0.299359  0.256502  0.385093 \n",
            "\n",
            "\n",
            " b    2.275902\n",
            "d    1.700452\n",
            "e    1.477098\n",
            "dtype: float64 \n",
            "\n",
            "\n",
            " Utah      0.574964\n",
            "Ohio      2.090014\n",
            "Texas     3.508551\n",
            "Oregon    0.641595\n",
            "dtype: float64 \n",
            "\n",
            "\n",
            "             b         d         e\n",
            "min -1.825914 -0.017814 -0.385093\n",
            "max  0.449988  1.682638  1.092005 \n",
            "\n"
          ],
          "name": "stdout"
        }
      ]
    }
  ]
}