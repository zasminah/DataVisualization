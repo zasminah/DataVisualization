{
  "nbformat": 4,
  "nbformat_minor": 0,
  "metadata": {
    "colab": {
      "name": "Pandas_Groupby.ipynb",
      "provenance": [],
      "collapsed_sections": [],
      "authorship_tag": "ABX9TyPHde5KO6yzIGoU0fNjyjbw",
      "include_colab_link": true
    },
    "kernelspec": {
      "name": "python3",
      "display_name": "Python 3"
    },
    "language_info": {
      "name": "python"
    }
  },
  "cells": [
    {
      "cell_type": "markdown",
      "metadata": {
        "id": "view-in-github",
        "colab_type": "text"
      },
      "source": [
        "<a href=\"https://colab.research.google.com/github/zasminah/Python_DataVisualization/blob/main/Pandas_Groupby.ipynb\" target=\"_parent\"><img src=\"https://colab.research.google.com/assets/colab-badge.svg\" alt=\"Open In Colab\"/></a>"
      ]
    },
    {
      "cell_type": "code",
      "metadata": {
        "colab": {
          "base_uri": "https://localhost:8080/",
          "height": 204
        },
        "id": "4GJ2S1EnoLif",
        "outputId": "54ce4904-bd96-454a-bbcf-7f1430df1784"
      },
      "source": [
        "import pandas as pd\n",
        "import numpy as np\n",
        "np.random.seed(12345)\n",
        "\n",
        "df = pd.DataFrame({'key1':['a','a','b','b','a'],\n",
        "                   'key2':['one','tow','one','two','one'],\n",
        "                   'data1':np.random.randn(5),\n",
        "                   'data2':np.random.randn(5)})\n",
        "df"
      ],
      "execution_count": 47,
      "outputs": [
        {
          "output_type": "execute_result",
          "data": {
            "text/html": [
              "<div>\n",
              "<style scoped>\n",
              "    .dataframe tbody tr th:only-of-type {\n",
              "        vertical-align: middle;\n",
              "    }\n",
              "\n",
              "    .dataframe tbody tr th {\n",
              "        vertical-align: top;\n",
              "    }\n",
              "\n",
              "    .dataframe thead th {\n",
              "        text-align: right;\n",
              "    }\n",
              "</style>\n",
              "<table border=\"1\" class=\"dataframe\">\n",
              "  <thead>\n",
              "    <tr style=\"text-align: right;\">\n",
              "      <th></th>\n",
              "      <th>key1</th>\n",
              "      <th>key2</th>\n",
              "      <th>data1</th>\n",
              "      <th>data2</th>\n",
              "    </tr>\n",
              "  </thead>\n",
              "  <tbody>\n",
              "    <tr>\n",
              "      <th>0</th>\n",
              "      <td>a</td>\n",
              "      <td>one</td>\n",
              "      <td>-0.204708</td>\n",
              "      <td>1.393406</td>\n",
              "    </tr>\n",
              "    <tr>\n",
              "      <th>1</th>\n",
              "      <td>a</td>\n",
              "      <td>tow</td>\n",
              "      <td>0.478943</td>\n",
              "      <td>0.092908</td>\n",
              "    </tr>\n",
              "    <tr>\n",
              "      <th>2</th>\n",
              "      <td>b</td>\n",
              "      <td>one</td>\n",
              "      <td>-0.519439</td>\n",
              "      <td>0.281746</td>\n",
              "    </tr>\n",
              "    <tr>\n",
              "      <th>3</th>\n",
              "      <td>b</td>\n",
              "      <td>two</td>\n",
              "      <td>-0.555730</td>\n",
              "      <td>0.769023</td>\n",
              "    </tr>\n",
              "    <tr>\n",
              "      <th>4</th>\n",
              "      <td>a</td>\n",
              "      <td>one</td>\n",
              "      <td>1.965781</td>\n",
              "      <td>1.246435</td>\n",
              "    </tr>\n",
              "  </tbody>\n",
              "</table>\n",
              "</div>"
            ],
            "text/plain": [
              "  key1 key2     data1     data2\n",
              "0    a  one -0.204708  1.393406\n",
              "1    a  tow  0.478943  0.092908\n",
              "2    b  one -0.519439  0.281746\n",
              "3    b  two -0.555730  0.769023\n",
              "4    a  one  1.965781  1.246435"
            ]
          },
          "metadata": {
            "tags": []
          },
          "execution_count": 47
        }
      ]
    },
    {
      "cell_type": "markdown",
      "metadata": {
        "id": "9Rn0dC6UsqSj"
      },
      "source": [
        "**1)Grouping**"
      ]
    },
    {
      "cell_type": "code",
      "metadata": {
        "colab": {
          "base_uri": "https://localhost:8080/"
        },
        "id": "R2uACfGEppdV",
        "outputId": "e8538f1d-e84e-4f5c-a66b-f756bf4720ad"
      },
      "source": [
        "grouped = df['data1'].groupby(df['key1'])\n",
        "print(grouped) #display only instance information\n",
        "print(grouped.mean())"
      ],
      "execution_count": 48,
      "outputs": [
        {
          "output_type": "stream",
          "text": [
            "<pandas.core.groupby.generic.SeriesGroupBy object at 0x7f8afda7e390>\n",
            "key1\n",
            "a    0.746672\n",
            "b   -0.537585\n",
            "Name: data1, dtype: float64\n"
          ],
          "name": "stdout"
        }
      ]
    },
    {
      "cell_type": "code",
      "metadata": {
        "colab": {
          "base_uri": "https://localhost:8080/"
        },
        "id": "htu9TVdaqVlr",
        "outputId": "b4805476-b08f-4eee-d2fd-93641e6dd4d7"
      },
      "source": [
        "means = df['data1'].groupby([df['key1'],df['key2']]).mean()\n",
        "means"
      ],
      "execution_count": 49,
      "outputs": [
        {
          "output_type": "execute_result",
          "data": {
            "text/plain": [
              "key1  key2\n",
              "a     one     0.880536\n",
              "      tow     0.478943\n",
              "b     one    -0.519439\n",
              "      two    -0.555730\n",
              "Name: data1, dtype: float64"
            ]
          },
          "metadata": {
            "tags": []
          },
          "execution_count": 49
        }
      ]
    },
    {
      "cell_type": "code",
      "metadata": {
        "colab": {
          "base_uri": "https://localhost:8080/"
        },
        "id": "PFGG2xT824Ba",
        "outputId": "e4dc2d5f-a9fc-4436-de55-a140946a6053"
      },
      "source": [
        "means3 = df.groupby(['key1','key2'])['data2'].mean()\n",
        "print(means3, '\\n')\n",
        "\n",
        "s_grouped = df.groupby(['key1', 'key2'])['data2']\n",
        "print(s_grouped.mean(),'\\n')"
      ],
      "execution_count": 50,
      "outputs": [
        {
          "output_type": "stream",
          "text": [
            "key1  key2\n",
            "a     one     1.319920\n",
            "      tow     0.092908\n",
            "b     one     0.281746\n",
            "      two     0.769023\n",
            "Name: data2, dtype: float64 \n",
            "\n",
            "key1  key2\n",
            "a     one     1.319920\n",
            "      tow     0.092908\n",
            "b     one     0.281746\n",
            "      two     0.769023\n",
            "Name: data2, dtype: float64 \n",
            "\n"
          ],
          "name": "stdout"
        }
      ]
    },
    {
      "cell_type": "markdown",
      "metadata": {
        "id": "cRj89Cgfsm5z"
      },
      "source": [
        "**2)Group Iteration**"
      ]
    },
    {
      "cell_type": "code",
      "metadata": {
        "colab": {
          "base_uri": "https://localhost:8080/"
        },
        "id": "qrouvIWWr5rh",
        "outputId": "27f688a7-41b5-4f92-cb70-14e540298949"
      },
      "source": [
        "for name, group in df.groupby('key1'):\n",
        "  print('name:', name)\n",
        "  print(group,'\\n')"
      ],
      "execution_count": 51,
      "outputs": [
        {
          "output_type": "stream",
          "text": [
            "name: a\n",
            "  key1 key2     data1     data2\n",
            "0    a  one -0.204708  1.393406\n",
            "1    a  tow  0.478943  0.092908\n",
            "4    a  one  1.965781  1.246435 \n",
            "\n",
            "name: b\n",
            "  key1 key2     data1     data2\n",
            "2    b  one -0.519439  0.281746\n",
            "3    b  two -0.555730  0.769023 \n",
            "\n"
          ],
          "name": "stdout"
        }
      ]
    },
    {
      "cell_type": "markdown",
      "metadata": {
        "id": "4VfMkmuD2y_Y"
      },
      "source": [
        "**3)Group Selection**"
      ]
    },
    {
      "cell_type": "code",
      "metadata": {
        "colab": {
          "base_uri": "https://localhost:8080/",
          "height": 204
        },
        "id": "JxmOhrFy1OGE",
        "outputId": "e02b361b-9f03-4d5a-f32f-8cc6035e6e69"
      },
      "source": [
        "people = pd.DataFrame(np.random.randn(5,5),\n",
        "                      columns = list('abcde'),\n",
        "                      index = ['Job','Steve','Wes','Jim','Travis'])\n",
        "people"
      ],
      "execution_count": 52,
      "outputs": [
        {
          "output_type": "execute_result",
          "data": {
            "text/html": [
              "<div>\n",
              "<style scoped>\n",
              "    .dataframe tbody tr th:only-of-type {\n",
              "        vertical-align: middle;\n",
              "    }\n",
              "\n",
              "    .dataframe tbody tr th {\n",
              "        vertical-align: top;\n",
              "    }\n",
              "\n",
              "    .dataframe thead th {\n",
              "        text-align: right;\n",
              "    }\n",
              "</style>\n",
              "<table border=\"1\" class=\"dataframe\">\n",
              "  <thead>\n",
              "    <tr style=\"text-align: right;\">\n",
              "      <th></th>\n",
              "      <th>a</th>\n",
              "      <th>b</th>\n",
              "      <th>c</th>\n",
              "      <th>d</th>\n",
              "      <th>e</th>\n",
              "    </tr>\n",
              "  </thead>\n",
              "  <tbody>\n",
              "    <tr>\n",
              "      <th>Job</th>\n",
              "      <td>1.007189</td>\n",
              "      <td>-1.296221</td>\n",
              "      <td>0.274992</td>\n",
              "      <td>0.228913</td>\n",
              "      <td>1.352917</td>\n",
              "    </tr>\n",
              "    <tr>\n",
              "      <th>Steve</th>\n",
              "      <td>0.886429</td>\n",
              "      <td>-2.001637</td>\n",
              "      <td>-0.371843</td>\n",
              "      <td>1.669025</td>\n",
              "      <td>-0.438570</td>\n",
              "    </tr>\n",
              "    <tr>\n",
              "      <th>Wes</th>\n",
              "      <td>-0.539741</td>\n",
              "      <td>0.476985</td>\n",
              "      <td>3.248944</td>\n",
              "      <td>-1.021228</td>\n",
              "      <td>-0.577087</td>\n",
              "    </tr>\n",
              "    <tr>\n",
              "      <th>Jim</th>\n",
              "      <td>0.124121</td>\n",
              "      <td>0.302614</td>\n",
              "      <td>0.523772</td>\n",
              "      <td>0.000940</td>\n",
              "      <td>1.343810</td>\n",
              "    </tr>\n",
              "    <tr>\n",
              "      <th>Travis</th>\n",
              "      <td>-0.713544</td>\n",
              "      <td>-0.831154</td>\n",
              "      <td>-2.370232</td>\n",
              "      <td>-1.860761</td>\n",
              "      <td>-0.860757</td>\n",
              "    </tr>\n",
              "  </tbody>\n",
              "</table>\n",
              "</div>"
            ],
            "text/plain": [
              "               a         b         c         d         e\n",
              "Job     1.007189 -1.296221  0.274992  0.228913  1.352917\n",
              "Steve   0.886429 -2.001637 -0.371843  1.669025 -0.438570\n",
              "Wes    -0.539741  0.476985  3.248944 -1.021228 -0.577087\n",
              "Jim     0.124121  0.302614  0.523772  0.000940  1.343810\n",
              "Travis -0.713544 -0.831154 -2.370232 -1.860761 -0.860757"
            ]
          },
          "metadata": {
            "tags": []
          },
          "execution_count": 52
        }
      ]
    },
    {
      "cell_type": "code",
      "metadata": {
        "colab": {
          "base_uri": "https://localhost:8080/",
          "height": 204
        },
        "id": "rvvkmiiJ2BWu",
        "outputId": "9784bb8b-4b64-4be5-8e4d-b3ad85035d38"
      },
      "source": [
        "mapping = {'a':'red','b':'red','c':'blue','d':'blue','e':'red'}\n",
        "by_column = people.groupby(mapping, axis =1)\n",
        "by_column.sum()"
      ],
      "execution_count": 53,
      "outputs": [
        {
          "output_type": "execute_result",
          "data": {
            "text/html": [
              "<div>\n",
              "<style scoped>\n",
              "    .dataframe tbody tr th:only-of-type {\n",
              "        vertical-align: middle;\n",
              "    }\n",
              "\n",
              "    .dataframe tbody tr th {\n",
              "        vertical-align: top;\n",
              "    }\n",
              "\n",
              "    .dataframe thead th {\n",
              "        text-align: right;\n",
              "    }\n",
              "</style>\n",
              "<table border=\"1\" class=\"dataframe\">\n",
              "  <thead>\n",
              "    <tr style=\"text-align: right;\">\n",
              "      <th></th>\n",
              "      <th>blue</th>\n",
              "      <th>red</th>\n",
              "    </tr>\n",
              "  </thead>\n",
              "  <tbody>\n",
              "    <tr>\n",
              "      <th>Job</th>\n",
              "      <td>0.503905</td>\n",
              "      <td>1.063885</td>\n",
              "    </tr>\n",
              "    <tr>\n",
              "      <th>Steve</th>\n",
              "      <td>1.297183</td>\n",
              "      <td>-1.553778</td>\n",
              "    </tr>\n",
              "    <tr>\n",
              "      <th>Wes</th>\n",
              "      <td>2.227716</td>\n",
              "      <td>-0.639844</td>\n",
              "    </tr>\n",
              "    <tr>\n",
              "      <th>Jim</th>\n",
              "      <td>0.524712</td>\n",
              "      <td>1.770545</td>\n",
              "    </tr>\n",
              "    <tr>\n",
              "      <th>Travis</th>\n",
              "      <td>-4.230992</td>\n",
              "      <td>-2.405455</td>\n",
              "    </tr>\n",
              "  </tbody>\n",
              "</table>\n",
              "</div>"
            ],
            "text/plain": [
              "            blue       red\n",
              "Job     0.503905  1.063885\n",
              "Steve   1.297183 -1.553778\n",
              "Wes     2.227716 -0.639844\n",
              "Jim     0.524712  1.770545\n",
              "Travis -4.230992 -2.405455"
            ]
          },
          "metadata": {
            "tags": []
          },
          "execution_count": 53
        }
      ]
    },
    {
      "cell_type": "code",
      "metadata": {
        "colab": {
          "base_uri": "https://localhost:8080/",
          "height": 312
        },
        "id": "0t9ojJRr2HhS",
        "outputId": "fdb971b6-8f82-4812-e39f-553dff1b4f53"
      },
      "source": [
        "map_series = pd.Series(mapping)\n",
        "print(map_series)\n",
        "people.groupby(map_series, axis =1).sum()"
      ],
      "execution_count": 54,
      "outputs": [
        {
          "output_type": "stream",
          "text": [
            "a     red\n",
            "b     red\n",
            "c    blue\n",
            "d    blue\n",
            "e     red\n",
            "dtype: object\n"
          ],
          "name": "stdout"
        },
        {
          "output_type": "execute_result",
          "data": {
            "text/html": [
              "<div>\n",
              "<style scoped>\n",
              "    .dataframe tbody tr th:only-of-type {\n",
              "        vertical-align: middle;\n",
              "    }\n",
              "\n",
              "    .dataframe tbody tr th {\n",
              "        vertical-align: top;\n",
              "    }\n",
              "\n",
              "    .dataframe thead th {\n",
              "        text-align: right;\n",
              "    }\n",
              "</style>\n",
              "<table border=\"1\" class=\"dataframe\">\n",
              "  <thead>\n",
              "    <tr style=\"text-align: right;\">\n",
              "      <th></th>\n",
              "      <th>blue</th>\n",
              "      <th>red</th>\n",
              "    </tr>\n",
              "  </thead>\n",
              "  <tbody>\n",
              "    <tr>\n",
              "      <th>Job</th>\n",
              "      <td>0.503905</td>\n",
              "      <td>1.063885</td>\n",
              "    </tr>\n",
              "    <tr>\n",
              "      <th>Steve</th>\n",
              "      <td>1.297183</td>\n",
              "      <td>-1.553778</td>\n",
              "    </tr>\n",
              "    <tr>\n",
              "      <th>Wes</th>\n",
              "      <td>2.227716</td>\n",
              "      <td>-0.639844</td>\n",
              "    </tr>\n",
              "    <tr>\n",
              "      <th>Jim</th>\n",
              "      <td>0.524712</td>\n",
              "      <td>1.770545</td>\n",
              "    </tr>\n",
              "    <tr>\n",
              "      <th>Travis</th>\n",
              "      <td>-4.230992</td>\n",
              "      <td>-2.405455</td>\n",
              "    </tr>\n",
              "  </tbody>\n",
              "</table>\n",
              "</div>"
            ],
            "text/plain": [
              "            blue       red\n",
              "Job     0.503905  1.063885\n",
              "Steve   1.297183 -1.553778\n",
              "Wes     2.227716 -0.639844\n",
              "Jim     0.524712  1.770545\n",
              "Travis -4.230992 -2.405455"
            ]
          },
          "metadata": {
            "tags": []
          },
          "execution_count": 54
        }
      ]
    },
    {
      "cell_type": "code",
      "metadata": {
        "colab": {
          "base_uri": "https://localhost:8080/",
          "height": 245
        },
        "id": "CsPf1NFm2T5m",
        "outputId": "7ca1cf9c-9483-48fa-a914-35cdb41a9e48"
      },
      "source": [
        "print(people.groupby(len).sum())\n",
        "\n",
        "key_list = ['one','one','one','two','two']\n",
        "people.groupby([len, key_list]).min()"
      ],
      "execution_count": 55,
      "outputs": [
        {
          "output_type": "stream",
          "text": [
            "          a         b         c         d         e\n",
            "3  0.591569 -0.516623  4.047708 -0.791374  2.119639\n",
            "5  0.886429 -2.001637 -0.371843  1.669025 -0.438570\n",
            "6 -0.713544 -0.831154 -2.370232 -1.860761 -0.860757\n"
          ],
          "name": "stdout"
        },
        {
          "output_type": "execute_result",
          "data": {
            "text/html": [
              "<div>\n",
              "<style scoped>\n",
              "    .dataframe tbody tr th:only-of-type {\n",
              "        vertical-align: middle;\n",
              "    }\n",
              "\n",
              "    .dataframe tbody tr th {\n",
              "        vertical-align: top;\n",
              "    }\n",
              "\n",
              "    .dataframe thead th {\n",
              "        text-align: right;\n",
              "    }\n",
              "</style>\n",
              "<table border=\"1\" class=\"dataframe\">\n",
              "  <thead>\n",
              "    <tr style=\"text-align: right;\">\n",
              "      <th></th>\n",
              "      <th></th>\n",
              "      <th>a</th>\n",
              "      <th>b</th>\n",
              "      <th>c</th>\n",
              "      <th>d</th>\n",
              "      <th>e</th>\n",
              "    </tr>\n",
              "  </thead>\n",
              "  <tbody>\n",
              "    <tr>\n",
              "      <th rowspan=\"2\" valign=\"top\">3</th>\n",
              "      <th>one</th>\n",
              "      <td>-0.539741</td>\n",
              "      <td>-1.296221</td>\n",
              "      <td>0.274992</td>\n",
              "      <td>-1.021228</td>\n",
              "      <td>-0.577087</td>\n",
              "    </tr>\n",
              "    <tr>\n",
              "      <th>two</th>\n",
              "      <td>0.124121</td>\n",
              "      <td>0.302614</td>\n",
              "      <td>0.523772</td>\n",
              "      <td>0.000940</td>\n",
              "      <td>1.343810</td>\n",
              "    </tr>\n",
              "    <tr>\n",
              "      <th>5</th>\n",
              "      <th>one</th>\n",
              "      <td>0.886429</td>\n",
              "      <td>-2.001637</td>\n",
              "      <td>-0.371843</td>\n",
              "      <td>1.669025</td>\n",
              "      <td>-0.438570</td>\n",
              "    </tr>\n",
              "    <tr>\n",
              "      <th>6</th>\n",
              "      <th>two</th>\n",
              "      <td>-0.713544</td>\n",
              "      <td>-0.831154</td>\n",
              "      <td>-2.370232</td>\n",
              "      <td>-1.860761</td>\n",
              "      <td>-0.860757</td>\n",
              "    </tr>\n",
              "  </tbody>\n",
              "</table>\n",
              "</div>"
            ],
            "text/plain": [
              "              a         b         c         d         e\n",
              "3 one -0.539741 -1.296221  0.274992 -1.021228 -0.577087\n",
              "  two  0.124121  0.302614  0.523772  0.000940  1.343810\n",
              "5 one  0.886429 -2.001637 -0.371843  1.669025 -0.438570\n",
              "6 two -0.713544 -0.831154 -2.370232 -1.860761 -0.860757"
            ]
          },
          "metadata": {
            "tags": []
          },
          "execution_count": 55
        }
      ]
    }
  ]
}