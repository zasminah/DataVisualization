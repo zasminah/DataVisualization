{
  "nbformat": 4,
  "nbformat_minor": 0,
  "metadata": {
    "colab": {
      "name": "Pandas Remote Data Access.ipynb",
      "provenance": [],
      "collapsed_sections": [],
      "include_colab_link": true
    },
    "kernelspec": {
      "name": "python3",
      "display_name": "Python 3"
    },
    "language_info": {
      "name": "python"
    }
  },
  "cells": [
    {
      "cell_type": "markdown",
      "metadata": {
        "id": "view-in-github",
        "colab_type": "text"
      },
      "source": [
        "<a href=\"https://colab.research.google.com/github/zasminah/DataVisualization/blob/main/Pandas_Remote_Data_Access.ipynb\" target=\"_parent\"><img src=\"https://colab.research.google.com/assets/colab-badge.svg\" alt=\"Open In Colab\"/></a>"
      ]
    },
    {
      "cell_type": "markdown",
      "metadata": {
        "id": "fiBJhYHeIJSd"
      },
      "source": [
        "# Pandas Remote Data Access"
      ]
    },
    {
      "cell_type": "code",
      "metadata": {
        "colab": {
          "base_uri": "https://localhost:8080/"
        },
        "id": "nbZRngi1pa9J",
        "outputId": "3c45cd2f-d652-457c-9670-3baeade8c29e"
      },
      "source": [
        "pip install mplfinance"
      ],
      "execution_count": null,
      "outputs": [
        {
          "output_type": "stream",
          "text": [
            "Requirement already satisfied: mplfinance in /usr/local/lib/python3.7/dist-packages (0.12.7a10)\n",
            "Requirement already satisfied: matplotlib in /usr/local/lib/python3.7/dist-packages (from mplfinance) (3.2.2)\n",
            "Requirement already satisfied: pandas in /usr/local/lib/python3.7/dist-packages (from mplfinance) (1.1.5)\n",
            "Requirement already satisfied: python-dateutil>=2.1 in /usr/local/lib/python3.7/dist-packages (from matplotlib->mplfinance) (2.8.1)\n",
            "Requirement already satisfied: kiwisolver>=1.0.1 in /usr/local/lib/python3.7/dist-packages (from matplotlib->mplfinance) (1.3.1)\n",
            "Requirement already satisfied: cycler>=0.10 in /usr/local/lib/python3.7/dist-packages (from matplotlib->mplfinance) (0.10.0)\n",
            "Requirement already satisfied: numpy>=1.11 in /usr/local/lib/python3.7/dist-packages (from matplotlib->mplfinance) (1.19.5)\n",
            "Requirement already satisfied: pyparsing!=2.0.4,!=2.1.2,!=2.1.6,>=2.0.1 in /usr/local/lib/python3.7/dist-packages (from matplotlib->mplfinance) (2.4.7)\n",
            "Requirement already satisfied: pytz>=2017.2 in /usr/local/lib/python3.7/dist-packages (from pandas->mplfinance) (2018.9)\n",
            "Requirement already satisfied: six>=1.5 in /usr/local/lib/python3.7/dist-packages (from python-dateutil>=2.1->matplotlib->mplfinance) (1.15.0)\n"
          ],
          "name": "stdout"
        }
      ]
    },
    {
      "cell_type": "code",
      "metadata": {
        "id": "AG-39QawBnO7"
      },
      "source": [
        "import numpy as np\n",
        "import datetime as dt\n",
        "import pandas as pd\n",
        "import pandas_datareader as pdr\n",
        "import matplotlib.pyplot as plt\n",
        "import matplotlib.dates as mdates\n",
        "from matplotlib import style\n",
        "import mplfinance as mpf"
      ],
      "execution_count": null,
      "outputs": []
    },
    {
      "cell_type": "markdown",
      "metadata": {
        "id": "OtTIvYtjvomA"
      },
      "source": [
        "**Pandas Remote Data Access**, which is simpler than web crawling\n",
        "\n",
        "https://pandas-datareader.readthedocs.io/en/latest/remote_data.html\n",
        "\n",
        "---\n",
        "\n"
      ]
    },
    {
      "cell_type": "code",
      "metadata": {
        "id": "uap7-716k9fh"
      },
      "source": [
        "span = 90 # days agp\n",
        "end = dt.datetime.now()\n",
        "#start = dt.datetime(2021, 1, 1)\n",
        "start = end - dt.timedelta(days=span) \n",
        "\n",
        "#yahoo = pdr.data.DataReader(\"TSLA\", 'yahoo', start, end)\n",
        "SSE = pdr.data.DataReader('005930', 'naver', start, end).astype(float) \n",
        "LGE = pdr.data.DataReader('066570', 'naver', start, end).astype(float) \n",
        "NAVER = pdr.data.DataReader('035420', 'naver', start, end).astype(float) \n",
        "KAKAO = pdr.data.DataReader('035720', 'naver', start, end).astype(float)"
      ],
      "execution_count": null,
      "outputs": []
    },
    {
      "cell_type": "code",
      "metadata": {
        "colab": {
          "base_uri": "https://localhost:8080/",
          "height": 235
        },
        "id": "qn0IJL3IlpYs",
        "outputId": "7dd8b0bc-3ae5-4d8a-e09e-ff83f5df8d56"
      },
      "source": [
        "SSE.head()"
      ],
      "execution_count": null,
      "outputs": [
        {
          "output_type": "execute_result",
          "data": {
            "text/html": [
              "<div>\n",
              "<style scoped>\n",
              "    .dataframe tbody tr th:only-of-type {\n",
              "        vertical-align: middle;\n",
              "    }\n",
              "\n",
              "    .dataframe tbody tr th {\n",
              "        vertical-align: top;\n",
              "    }\n",
              "\n",
              "    .dataframe thead th {\n",
              "        text-align: right;\n",
              "    }\n",
              "</style>\n",
              "<table border=\"1\" class=\"dataframe\">\n",
              "  <thead>\n",
              "    <tr style=\"text-align: right;\">\n",
              "      <th></th>\n",
              "      <th>Open</th>\n",
              "      <th>High</th>\n",
              "      <th>Low</th>\n",
              "      <th>Close</th>\n",
              "      <th>Volume</th>\n",
              "    </tr>\n",
              "    <tr>\n",
              "      <th>Date</th>\n",
              "      <th></th>\n",
              "      <th></th>\n",
              "      <th></th>\n",
              "      <th></th>\n",
              "      <th></th>\n",
              "    </tr>\n",
              "  </thead>\n",
              "  <tbody>\n",
              "    <tr>\n",
              "      <th>2021-01-04</th>\n",
              "      <td>81000.0</td>\n",
              "      <td>84400.0</td>\n",
              "      <td>80200.0</td>\n",
              "      <td>83000.0</td>\n",
              "      <td>38655276.0</td>\n",
              "    </tr>\n",
              "    <tr>\n",
              "      <th>2021-01-05</th>\n",
              "      <td>81600.0</td>\n",
              "      <td>83900.0</td>\n",
              "      <td>81600.0</td>\n",
              "      <td>83900.0</td>\n",
              "      <td>35335669.0</td>\n",
              "    </tr>\n",
              "    <tr>\n",
              "      <th>2021-01-06</th>\n",
              "      <td>83300.0</td>\n",
              "      <td>84500.0</td>\n",
              "      <td>82100.0</td>\n",
              "      <td>82200.0</td>\n",
              "      <td>42089013.0</td>\n",
              "    </tr>\n",
              "    <tr>\n",
              "      <th>2021-01-07</th>\n",
              "      <td>82800.0</td>\n",
              "      <td>84200.0</td>\n",
              "      <td>82700.0</td>\n",
              "      <td>82900.0</td>\n",
              "      <td>32644642.0</td>\n",
              "    </tr>\n",
              "    <tr>\n",
              "      <th>2021-01-08</th>\n",
              "      <td>83300.0</td>\n",
              "      <td>90000.0</td>\n",
              "      <td>83000.0</td>\n",
              "      <td>88800.0</td>\n",
              "      <td>59013307.0</td>\n",
              "    </tr>\n",
              "  </tbody>\n",
              "</table>\n",
              "</div>"
            ],
            "text/plain": [
              "               Open     High      Low    Close      Volume\n",
              "Date                                                      \n",
              "2021-01-04  81000.0  84400.0  80200.0  83000.0  38655276.0\n",
              "2021-01-05  81600.0  83900.0  81600.0  83900.0  35335669.0\n",
              "2021-01-06  83300.0  84500.0  82100.0  82200.0  42089013.0\n",
              "2021-01-07  82800.0  84200.0  82700.0  82900.0  32644642.0\n",
              "2021-01-08  83300.0  90000.0  83000.0  88800.0  59013307.0"
            ]
          },
          "metadata": {
            "tags": []
          },
          "execution_count": 16
        }
      ]
    },
    {
      "cell_type": "code",
      "metadata": {
        "colab": {
          "base_uri": "https://localhost:8080/",
          "height": 235
        },
        "id": "orgOl9SsmVJa",
        "outputId": "fb6fe723-e4b4-4415-884a-e7d33a964c9b"
      },
      "source": [
        "SSE.tail()"
      ],
      "execution_count": null,
      "outputs": [
        {
          "output_type": "execute_result",
          "data": {
            "text/html": [
              "<div>\n",
              "<style scoped>\n",
              "    .dataframe tbody tr th:only-of-type {\n",
              "        vertical-align: middle;\n",
              "    }\n",
              "\n",
              "    .dataframe tbody tr th {\n",
              "        vertical-align: top;\n",
              "    }\n",
              "\n",
              "    .dataframe thead th {\n",
              "        text-align: right;\n",
              "    }\n",
              "</style>\n",
              "<table border=\"1\" class=\"dataframe\">\n",
              "  <thead>\n",
              "    <tr style=\"text-align: right;\">\n",
              "      <th></th>\n",
              "      <th>Open</th>\n",
              "      <th>High</th>\n",
              "      <th>Low</th>\n",
              "      <th>Close</th>\n",
              "      <th>Volume</th>\n",
              "    </tr>\n",
              "    <tr>\n",
              "      <th>Date</th>\n",
              "      <th></th>\n",
              "      <th></th>\n",
              "      <th></th>\n",
              "      <th></th>\n",
              "      <th></th>\n",
              "    </tr>\n",
              "  </thead>\n",
              "  <tbody>\n",
              "    <tr>\n",
              "      <th>2021-03-29</th>\n",
              "      <td>81700.0</td>\n",
              "      <td>81700.0</td>\n",
              "      <td>81000.0</td>\n",
              "      <td>81600.0</td>\n",
              "      <td>14952134.0</td>\n",
              "    </tr>\n",
              "    <tr>\n",
              "      <th>2021-03-30</th>\n",
              "      <td>81600.0</td>\n",
              "      <td>82300.0</td>\n",
              "      <td>81300.0</td>\n",
              "      <td>82200.0</td>\n",
              "      <td>13121698.0</td>\n",
              "    </tr>\n",
              "    <tr>\n",
              "      <th>2021-03-31</th>\n",
              "      <td>82400.0</td>\n",
              "      <td>82700.0</td>\n",
              "      <td>81400.0</td>\n",
              "      <td>81400.0</td>\n",
              "      <td>17240518.0</td>\n",
              "    </tr>\n",
              "    <tr>\n",
              "      <th>2021-04-01</th>\n",
              "      <td>82500.0</td>\n",
              "      <td>83000.0</td>\n",
              "      <td>82000.0</td>\n",
              "      <td>82900.0</td>\n",
              "      <td>18676461.0</td>\n",
              "    </tr>\n",
              "    <tr>\n",
              "      <th>2021-04-02</th>\n",
              "      <td>84000.0</td>\n",
              "      <td>85200.0</td>\n",
              "      <td>83900.0</td>\n",
              "      <td>84800.0</td>\n",
              "      <td>11783489.0</td>\n",
              "    </tr>\n",
              "  </tbody>\n",
              "</table>\n",
              "</div>"
            ],
            "text/plain": [
              "               Open     High      Low    Close      Volume\n",
              "Date                                                      \n",
              "2021-03-29  81700.0  81700.0  81000.0  81600.0  14952134.0\n",
              "2021-03-30  81600.0  82300.0  81300.0  82200.0  13121698.0\n",
              "2021-03-31  82400.0  82700.0  81400.0  81400.0  17240518.0\n",
              "2021-04-01  82500.0  83000.0  82000.0  82900.0  18676461.0\n",
              "2021-04-02  84000.0  85200.0  83900.0  84800.0  11783489.0"
            ]
          },
          "metadata": {
            "tags": []
          },
          "execution_count": 17
        }
      ]
    },
    {
      "cell_type": "code",
      "metadata": {
        "colab": {
          "base_uri": "https://localhost:8080/"
        },
        "id": "gJBaaV6WXYPE",
        "outputId": "ccbb49f6-a562-49c6-9e62-8395bfa5090b"
      },
      "source": [
        "SSE.filter(['Open', 'High', 'Low', 'Close']).min().min()"
      ],
      "execution_count": null,
      "outputs": [
        {
          "output_type": "execute_result",
          "data": {
            "text/plain": [
              "80200.0"
            ]
          },
          "metadata": {
            "tags": []
          },
          "execution_count": 18
        }
      ]
    }
  ]
}