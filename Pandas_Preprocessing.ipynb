{
  "nbformat": 4,
  "nbformat_minor": 0,
  "metadata": {
    "colab": {
      "name": "Pandas_Preprocessing.ipynb",
      "provenance": [],
      "authorship_tag": "ABX9TyOK6DP/TGjA82ipXCjmJSZN",
      "include_colab_link": true
    },
    "kernelspec": {
      "name": "python3",
      "display_name": "Python 3"
    },
    "language_info": {
      "name": "python"
    }
  },
  "cells": [
    {
      "cell_type": "markdown",
      "metadata": {
        "id": "view-in-github",
        "colab_type": "text"
      },
      "source": [
        "<a href=\"https://colab.research.google.com/github/zasminah/Python_DataVisualization/blob/main/Pandas_Preprocessing.ipynb\" target=\"_parent\"><img src=\"https://colab.research.google.com/assets/colab-badge.svg\" alt=\"Open In Colab\"/></a>"
      ]
    },
    {
      "cell_type": "code",
      "metadata": {
        "id": "75_OKN2qNLvS"
      },
      "source": [
        "import pandas as pd\n",
        "import numpy as np"
      ],
      "execution_count": 2,
      "outputs": []
    },
    {
      "cell_type": "markdown",
      "metadata": {
        "id": "wDHPaFGuUZ5Y"
      },
      "source": [
        "# 1) Data Join"
      ]
    },
    {
      "cell_type": "code",
      "metadata": {
        "colab": {
          "base_uri": "https://localhost:8080/"
        },
        "id": "F6ap-WOiUcYx",
        "outputId": "6dcbe2ea-71b7-49e4-b21e-d06f6f79acd2"
      },
      "source": [
        "df1 = pd.DataFrame({'key':['b','b','a','c','a','a','b'],\n",
        "                    'data1':range(7)})\n",
        "df2 = pd.DataFrame({'key':['a','b','d'],\n",
        "                    'data2':range(3)})\n",
        "print('\\n', df1,'\\n')\n",
        "print('\\n', df2,'\\n')\n",
        "\n",
        "print('\\n', pd.merge(df1,df2),'\\n')\n",
        "print('\\n', pd.merge(df1,df2, on = 'key'), '\\n')\n",
        "print('\\n', pd.merge(df1,df2, how = 'left'),'\\n')\n",
        "print('\\n', pd.merge(df1,df2, how = 'right'),'\\n')\n",
        "print('\\n', pd.merge(df1,df2, how = 'outer'),'\\n') # use all though key is not matched \n",
        "print('\\n', pd.merge(df1,df2, how = 'inner'),'\\n') # use data when key is matched"
      ],
      "execution_count": 7,
      "outputs": [
        {
          "output_type": "stream",
          "text": [
            "\n",
            "   key  data1\n",
            "0   b      0\n",
            "1   b      1\n",
            "2   a      2\n",
            "3   c      3\n",
            "4   a      4\n",
            "5   a      5\n",
            "6   b      6 \n",
            "\n",
            "\n",
            "   key  data2\n",
            "0   a      0\n",
            "1   b      1\n",
            "2   d      2 \n",
            "\n",
            "\n",
            "   key  data1  data2\n",
            "0   b      0      1\n",
            "1   b      1      1\n",
            "2   b      6      1\n",
            "3   a      2      0\n",
            "4   a      4      0\n",
            "5   a      5      0 \n",
            "\n",
            "\n",
            "   key  data1  data2\n",
            "0   b      0      1\n",
            "1   b      1      1\n",
            "2   b      6      1\n",
            "3   a      2      0\n",
            "4   a      4      0\n",
            "5   a      5      0 \n",
            "\n",
            "\n",
            "   key  data1  data2\n",
            "0   b      0    1.0\n",
            "1   b      1    1.0\n",
            "2   a      2    0.0\n",
            "3   c      3    NaN\n",
            "4   a      4    0.0\n",
            "5   a      5    0.0\n",
            "6   b      6    1.0 \n",
            "\n",
            "\n",
            "   key  data1  data2\n",
            "0   a    2.0      0\n",
            "1   a    4.0      0\n",
            "2   a    5.0      0\n",
            "3   b    0.0      1\n",
            "4   b    1.0      1\n",
            "5   b    6.0      1\n",
            "6   d    NaN      2 \n",
            "\n",
            "\n",
            "   key  data1  data2\n",
            "0   b    0.0    1.0\n",
            "1   b    1.0    1.0\n",
            "2   b    6.0    1.0\n",
            "3   a    2.0    0.0\n",
            "4   a    4.0    0.0\n",
            "5   a    5.0    0.0\n",
            "6   c    3.0    NaN\n",
            "7   d    NaN    2.0 \n",
            "\n",
            "\n",
            "   key  data1  data2\n",
            "0   b      0      1\n",
            "1   b      1      1\n",
            "2   b      6      1\n",
            "3   a      2      0\n",
            "4   a      4      0\n",
            "5   a      5      0 \n",
            "\n"
          ],
          "name": "stdout"
        }
      ]
    },
    {
      "cell_type": "code",
      "metadata": {
        "colab": {
          "base_uri": "https://localhost:8080/"
        },
        "id": "tNoXpgpnZ6hB",
        "outputId": "436d9649-6162-4a3c-ec00-65aa53eeca2b"
      },
      "source": [
        "df3 = pd.DataFrame({'lkey':['b','b','a','c','a','a','b'],\n",
        "                    'data1':range(7)})\n",
        "df4 = pd.DataFrame({'rkey':['a','b','d'],\n",
        "                    'data2':range(3)})\n",
        "print('\\n', pd.merge(df3, df4, left_on='lkey', right_on='rkey'), '\\n')"
      ],
      "execution_count": 10,
      "outputs": [
        {
          "output_type": "stream",
          "text": [
            "\n",
            "   lkey  data1 rkey  data2\n",
            "0    b      0    b      1\n",
            "1    b      1    b      1\n",
            "2    b      6    b      1\n",
            "3    a      2    a      0\n",
            "4    a      4    a      0\n",
            "5    a      5    a      0 \n",
            "\n"
          ],
          "name": "stdout"
        }
      ]
    }
  ]
}