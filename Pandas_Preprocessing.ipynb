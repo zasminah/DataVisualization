{
  "nbformat": 4,
  "nbformat_minor": 0,
  "metadata": {
    "colab": {
      "name": "Pandas_Preprocessing.ipynb",
      "provenance": [],
      "collapsed_sections": [],
      "authorship_tag": "ABX9TyOnogXypiTQi5bJ29PLdLuS",
      "include_colab_link": true
    },
    "kernelspec": {
      "name": "python3",
      "display_name": "Python 3"
    },
    "language_info": {
      "name": "python"
    }
  },
  "cells": [
    {
      "cell_type": "markdown",
      "metadata": {
        "id": "view-in-github",
        "colab_type": "text"
      },
      "source": [
        "<a href=\"https://colab.research.google.com/github/zasminah/Python_DataVisualization/blob/main/Pandas_Preprocessing.ipynb\" target=\"_parent\"><img src=\"https://colab.research.google.com/assets/colab-badge.svg\" alt=\"Open In Colab\"/></a>"
      ]
    },
    {
      "cell_type": "code",
      "metadata": {
        "id": "75_OKN2qNLvS"
      },
      "source": [
        "import pandas as pd\n",
        "import numpy as np"
      ],
      "execution_count": 1,
      "outputs": []
    },
    {
      "cell_type": "markdown",
      "metadata": {
        "id": "wDHPaFGuUZ5Y"
      },
      "source": [
        "# 1) Data Join"
      ]
    },
    {
      "cell_type": "code",
      "metadata": {
        "colab": {
          "base_uri": "https://localhost:8080/"
        },
        "id": "F6ap-WOiUcYx",
        "outputId": "bd463585-01cd-48b6-cbd2-a0fa5f6103f6"
      },
      "source": [
        "df1 = pd.DataFrame({'key':['b','b','a','c','a','a','b'],\n",
        "                    'data1':range(7)})\n",
        "df2 = pd.DataFrame({'key':['a','b','d'],\n",
        "                    'data2':range(3)})\n",
        "print('\\n', df1,'\\n')\n",
        "print('\\n', df2,'\\n')\n",
        "\n",
        "print('\\n', pd.merge(df1,df2),'\\n')\n",
        "print('\\n', pd.merge(df1,df2, on = 'key'), '\\n')\n",
        "print('\\n', pd.merge(df1,df2, how = 'left'),'\\n')\n",
        "print('\\n', pd.merge(df1,df2, how = 'right'),'\\n')\n",
        "print('\\n', pd.merge(df1,df2, how = 'outer'),'\\n') # use all though key is not matched \n",
        "print('\\n', pd.merge(df1,df2, how = 'inner'),'\\n') # use data when key is matched"
      ],
      "execution_count": 2,
      "outputs": [
        {
          "output_type": "stream",
          "text": [
            "\n",
            "   key  data1\n",
            "0   b      0\n",
            "1   b      1\n",
            "2   a      2\n",
            "3   c      3\n",
            "4   a      4\n",
            "5   a      5\n",
            "6   b      6 \n",
            "\n",
            "\n",
            "   key  data2\n",
            "0   a      0\n",
            "1   b      1\n",
            "2   d      2 \n",
            "\n",
            "\n",
            "   key  data1  data2\n",
            "0   b      0      1\n",
            "1   b      1      1\n",
            "2   b      6      1\n",
            "3   a      2      0\n",
            "4   a      4      0\n",
            "5   a      5      0 \n",
            "\n",
            "\n",
            "   key  data1  data2\n",
            "0   b      0      1\n",
            "1   b      1      1\n",
            "2   b      6      1\n",
            "3   a      2      0\n",
            "4   a      4      0\n",
            "5   a      5      0 \n",
            "\n",
            "\n",
            "   key  data1  data2\n",
            "0   b      0    1.0\n",
            "1   b      1    1.0\n",
            "2   a      2    0.0\n",
            "3   c      3    NaN\n",
            "4   a      4    0.0\n",
            "5   a      5    0.0\n",
            "6   b      6    1.0 \n",
            "\n",
            "\n",
            "   key  data1  data2\n",
            "0   a    2.0      0\n",
            "1   a    4.0      0\n",
            "2   a    5.0      0\n",
            "3   b    0.0      1\n",
            "4   b    1.0      1\n",
            "5   b    6.0      1\n",
            "6   d    NaN      2 \n",
            "\n",
            "\n",
            "   key  data1  data2\n",
            "0   b    0.0    1.0\n",
            "1   b    1.0    1.0\n",
            "2   b    6.0    1.0\n",
            "3   a    2.0    0.0\n",
            "4   a    4.0    0.0\n",
            "5   a    5.0    0.0\n",
            "6   c    3.0    NaN\n",
            "7   d    NaN    2.0 \n",
            "\n",
            "\n",
            "   key  data1  data2\n",
            "0   b      0      1\n",
            "1   b      1      1\n",
            "2   b      6      1\n",
            "3   a      2      0\n",
            "4   a      4      0\n",
            "5   a      5      0 \n",
            "\n"
          ],
          "name": "stdout"
        }
      ]
    },
    {
      "cell_type": "code",
      "metadata": {
        "colab": {
          "base_uri": "https://localhost:8080/"
        },
        "id": "tNoXpgpnZ6hB",
        "outputId": "4a2aa61d-e455-4aa6-eb41-e1f464bbbbbc"
      },
      "source": [
        "df3 = pd.DataFrame({'lkey':['b','b','a','c','a','a','b'],\n",
        "                    'data1':range(7)})\n",
        "df4 = pd.DataFrame({'rkey':['a','b','d'],\n",
        "                    'data2':range(3)})\n",
        "print('\\n', pd.merge(df3, df4, left_on='lkey', right_on='rkey'), '\\n')"
      ],
      "execution_count": 3,
      "outputs": [
        {
          "output_type": "stream",
          "text": [
            "\n",
            "   lkey  data1 rkey  data2\n",
            "0    b      0    b      1\n",
            "1    b      1    b      1\n",
            "2    b      6    b      1\n",
            "3    a      2    a      0\n",
            "4    a      4    a      0\n",
            "5    a      5    a      0 \n",
            "\n"
          ],
          "name": "stdout"
        }
      ]
    },
    {
      "cell_type": "markdown",
      "metadata": {
        "id": "MZYHWCRWuZW7"
      },
      "source": [
        "# 2) Concat\n",
        "\n",
        "*concat function* \n",
        "\n",
        "\n",
        "*   objs 이어붙일 pandas 객체 사전 or 리스트\n",
        "*   axis 축 방향\n",
        "*   join key값 안맞을 때 inner, outer, left, right\n",
        "*   join_axes 합집합,교집합 대신 다른 n-1축으로 색인지정\n",
        "*   keys 이어붙일 객체나 이어 붙인 축에 대한 색인 생성 연관\n",
        "*   levels 계측 색인 레벨로 사용할 색인 지정\n",
        "*   names keys나 levels 혹은 둘다 있는 경우 생성된 계층 레벨을 위한 이름\n",
        "*   verify 이어붙인 객체에 중복되는 축이 있는지 검사하고 있다면 예외 발생\n",
        "*   integrity 중복허용\n",
        "*   ignore_index 이어 붙인 축의 색인을 유지하지 않고 range로 새로운 색인 생성\n",
        "\n",
        "\n",
        "\n",
        "\n",
        "\n",
        "\n"
      ]
    },
    {
      "cell_type": "code",
      "metadata": {
        "colab": {
          "base_uri": "https://localhost:8080/"
        },
        "id": "1cHe1odiubmo",
        "outputId": "57bf4c65-afe5-43b2-8e19-fd759ba18fe8"
      },
      "source": [
        "s1 = pd.Series([0,1], index = ['a','b'])\n",
        "s2 = pd.Series([2,3,4], index = ['c','d','e'])\n",
        "s3 = pd.Series([5,6], index = ['f','g'])\n",
        "print(pd.concat([s1,s2,s3]), '\\n') # axis =0\n",
        "print(pd.concat([s1,s2,s3], axis = 1, sort = False), '\\n')"
      ],
      "execution_count": 4,
      "outputs": [
        {
          "output_type": "stream",
          "text": [
            "a    0\n",
            "b    1\n",
            "c    2\n",
            "d    3\n",
            "e    4\n",
            "f    5\n",
            "g    6\n",
            "dtype: int64 \n",
            "\n",
            "     0    1    2\n",
            "a  0.0  NaN  NaN\n",
            "b  1.0  NaN  NaN\n",
            "c  NaN  2.0  NaN\n",
            "d  NaN  3.0  NaN\n",
            "e  NaN  4.0  NaN\n",
            "f  NaN  NaN  5.0\n",
            "g  NaN  NaN  6.0 \n",
            "\n"
          ],
          "name": "stdout"
        }
      ]
    },
    {
      "cell_type": "markdown",
      "metadata": {
        "id": "yRZNxu34x1oA"
      },
      "source": [
        "# 3) Stack, Unstack\n",
        "Stack 데이터의 컬럼을 로우로 피벗 또는 회전  ㅡ -> |\n",
        "\n",
        "Unstack 로우를 컬럼으로 피벅시킨다. | -> ㅡ"
      ]
    },
    {
      "cell_type": "code",
      "metadata": {
        "colab": {
          "base_uri": "https://localhost:8080/"
        },
        "id": "8jqQFFBryAnv",
        "outputId": "52435964-056b-4c03-e686-da52f95d5ff6"
      },
      "source": [
        "data = pd.DataFrame(np.arange(6).reshape((2,3)),\n",
        "                    index = pd.Index(['Ohio', 'Colorado'],name = 'state'),\n",
        "                    columns = pd.Index(['one','two','three'],name = 'number'))\n",
        "print('\\n', data, '\\n')\n",
        "result = data.stack()\n",
        "print('\\n', result, '\\n')"
      ],
      "execution_count": 9,
      "outputs": [
        {
          "output_type": "stream",
          "text": [
            "\n",
            " number    one  two  three\n",
            "state                    \n",
            "Ohio        0    1      2\n",
            "Colorado    3    4      5 \n",
            "\n",
            "\n",
            " state     number\n",
            "Ohio      one       0\n",
            "          two       1\n",
            "          three     2\n",
            "Colorado  one       3\n",
            "          two       4\n",
            "          three     5\n",
            "dtype: int64 \n",
            "\n"
          ],
          "name": "stdout"
        }
      ]
    },
    {
      "cell_type": "markdown",
      "metadata": {
        "id": "Z2e6VP4L1Ff8"
      },
      "source": [
        "state : level 0\n",
        "\n",
        "numver : level 1"
      ]
    },
    {
      "cell_type": "code",
      "metadata": {
        "colab": {
          "base_uri": "https://localhost:8080/"
        },
        "id": "tlgGcyAc0bR_",
        "outputId": "d133b1a2-4f66-477f-c497-9d2fb05b121e"
      },
      "source": [
        "print(result.unstack()) #level 1"
      ],
      "execution_count": 10,
      "outputs": [
        {
          "output_type": "stream",
          "text": [
            "number    one  two  three\n",
            "state                    \n",
            "Ohio        0    1      2\n",
            "Colorado    3    4      5\n"
          ],
          "name": "stdout"
        }
      ]
    },
    {
      "cell_type": "code",
      "metadata": {
        "colab": {
          "base_uri": "https://localhost:8080/"
        },
        "id": "HyTkd90c0zYX",
        "outputId": "5cb1fce3-4df9-4bdd-a78a-fa2b7819759a"
      },
      "source": [
        "print(result.unstack(level=0))"
      ],
      "execution_count": 11,
      "outputs": [
        {
          "output_type": "stream",
          "text": [
            "state   Ohio  Colorado\n",
            "number                \n",
            "one        0         3\n",
            "two        1         4\n",
            "three      2         5\n"
          ],
          "name": "stdout"
        }
      ]
    },
    {
      "cell_type": "code",
      "metadata": {
        "colab": {
          "base_uri": "https://localhost:8080/"
        },
        "id": "tDBBDyIs1Lfo",
        "outputId": "7de437fc-0527-4bc1-ad6c-9b9ba6a25b9a"
      },
      "source": [
        "print(result.unstack(level=1))"
      ],
      "execution_count": 13,
      "outputs": [
        {
          "output_type": "stream",
          "text": [
            "number    one  two  three\n",
            "state                    \n",
            "Ohio        0    1      2\n",
            "Colorado    3    4      5\n"
          ],
          "name": "stdout"
        }
      ]
    },
    {
      "cell_type": "markdown",
      "metadata": {
        "id": "jBCKAzRS1cvV"
      },
      "source": [
        "Concat & Unstack"
      ]
    },
    {
      "cell_type": "code",
      "metadata": {
        "colab": {
          "base_uri": "https://localhost:8080/"
        },
        "id": "fP-oejin1axg",
        "outputId": "60621fa0-9131-4e99-cdff-4493069c2f5a"
      },
      "source": [
        "s1 = pd.Series([0,1,2,3], index=list('abcd'))\n",
        "s2 = pd.Series([4,5,6], index=list('cde'))\n",
        "print('\\n', pd.concat([s1,s2]))\n",
        "data2 = pd.concat([s1,s2], keys=['one','two'])\n",
        "print('\\n', data2)\n",
        "print('\\n', data2.unstack())"
      ],
      "execution_count": 14,
      "outputs": [
        {
          "output_type": "stream",
          "text": [
            "\n",
            " a    0\n",
            "b    1\n",
            "c    2\n",
            "d    3\n",
            "c    4\n",
            "d    5\n",
            "e    6\n",
            "dtype: int64\n",
            "\n",
            " one  a    0\n",
            "     b    1\n",
            "     c    2\n",
            "     d    3\n",
            "two  c    4\n",
            "     d    5\n",
            "     e    6\n",
            "dtype: int64\n",
            "\n",
            "        a    b    c    d    e\n",
            "one  0.0  1.0  2.0  3.0  NaN\n",
            "two  NaN  NaN  4.0  5.0  6.0\n"
          ],
          "name": "stdout"
        }
      ]
    },
    {
      "cell_type": "markdown",
      "metadata": {
        "id": "X2E9ZLT6474W"
      },
      "source": [
        "# 4) Duplicate, Drop"
      ]
    },
    {
      "cell_type": "code",
      "metadata": {
        "colab": {
          "base_uri": "https://localhost:8080/"
        },
        "id": "CsGl02gC4_b8",
        "outputId": "35179f96-5319-4598-c29c-d8e78c2ab06b"
      },
      "source": [
        "data = pd.DataFrame({'k1':['one']*3+['two']*4,\n",
        "                     'k2':[1,1,2,3,3,4,4]})\n",
        "print('\\n',data,'\\n')\n",
        "print('\\n', data.duplicated(),'\\n')\n",
        "print('\\n', data.drop_duplicates(),'\\n')"
      ],
      "execution_count": 15,
      "outputs": [
        {
          "output_type": "stream",
          "text": [
            "\n",
            "     k1  k2\n",
            "0  one   1\n",
            "1  one   1\n",
            "2  one   2\n",
            "3  two   3\n",
            "4  two   3\n",
            "5  two   4\n",
            "6  two   4 \n",
            "\n",
            "\n",
            " 0    False\n",
            "1     True\n",
            "2    False\n",
            "3    False\n",
            "4     True\n",
            "5    False\n",
            "6     True\n",
            "dtype: bool \n",
            "\n",
            "\n",
            "     k1  k2\n",
            "0  one   1\n",
            "2  one   2\n",
            "3  two   3\n",
            "5  two   4 \n",
            "\n"
          ],
          "name": "stdout"
        }
      ]
    },
    {
      "cell_type": "code",
      "metadata": {
        "colab": {
          "base_uri": "https://localhost:8080/"
        },
        "id": "7AB-L6YV7zKT",
        "outputId": "23e0e871-0538-44e3-ebb1-473752b81a8b"
      },
      "source": [
        "print('\\n', data.drop_duplicates(['k1']))"
      ],
      "execution_count": 18,
      "outputs": [
        {
          "output_type": "stream",
          "text": [
            "\n",
            "     k1  k2\n",
            "0  one   1\n",
            "3  two   3\n"
          ],
          "name": "stdout"
        }
      ]
    },
    {
      "cell_type": "code",
      "metadata": {
        "colab": {
          "base_uri": "https://localhost:8080/"
        },
        "id": "sWTluiKY8X6j",
        "outputId": "5d8cf0ff-381b-46ef-8edc-c1050eb8de39"
      },
      "source": [
        "print('\\n', data.drop_duplicates(['k1','k2'], keep='last'))"
      ],
      "execution_count": 19,
      "outputs": [
        {
          "output_type": "stream",
          "text": [
            "\n",
            "     k1  k2\n",
            "1  one   1\n",
            "2  one   2\n",
            "4  two   3\n",
            "6  two   4\n"
          ],
          "name": "stdout"
        }
      ]
    },
    {
      "cell_type": "markdown",
      "metadata": {
        "id": "tKAkolSJ88-c"
      },
      "source": [
        "# 5) Mapping"
      ]
    },
    {
      "cell_type": "code",
      "metadata": {
        "colab": {
          "base_uri": "https://localhost:8080/"
        },
        "id": "iwwB4K4z8t28",
        "outputId": "24cf0257-fb7f-469b-f41a-9f7686b4ed17"
      },
      "source": [
        "data = pd.DataFrame({'food':['bacon','pulled pork','bacon','Pastrami','corned beef',\n",
        "                             'Bacon','pastrami','honey ham','nova lox'],\n",
        "                     'ounces':[4,3,12,6,7.5,8,3,5,6]})\n",
        "print(data,'\\n')\n",
        "\n",
        "meat_to_animal = {\n",
        "    'bacon':'pig',\n",
        "    'pulled pork':'pig',\n",
        "    'pastrami':'cow',\n",
        "    'corned beef':'cow',\n",
        "    'honey ham':'pig',\n",
        "    'nova lox':'salmon'\n",
        "}\n",
        "\n",
        "#소문자로 통일하기 위해 map(str.lower)\n",
        "data['animal'] = data['food'].map(str.lower).map(meat_to_animal)\n",
        "print(data,'\\n')\n"
      ],
      "execution_count": 20,
      "outputs": [
        {
          "output_type": "stream",
          "text": [
            "          food  ounces\n",
            "0        bacon     4.0\n",
            "1  pulled pork     3.0\n",
            "2        bacon    12.0\n",
            "3     Pastrami     6.0\n",
            "4  corned beef     7.5\n",
            "5        Bacon     8.0\n",
            "6     pastrami     3.0\n",
            "7    honey ham     5.0\n",
            "8     nova lox     6.0 \n",
            "\n",
            "          food  ounces  animal\n",
            "0        bacon     4.0     pig\n",
            "1  pulled pork     3.0     pig\n",
            "2        bacon    12.0     pig\n",
            "3     Pastrami     6.0     cow\n",
            "4  corned beef     7.5     cow\n",
            "5        Bacon     8.0     pig\n",
            "6     pastrami     3.0     cow\n",
            "7    honey ham     5.0     pig\n",
            "8     nova lox     6.0  salmon \n",
            "\n"
          ],
          "name": "stdout"
        }
      ]
    },
    {
      "cell_type": "markdown",
      "metadata": {
        "id": "U1qdUNHL-i7N"
      },
      "source": [
        "# 6) Replace"
      ]
    },
    {
      "cell_type": "code",
      "metadata": {
        "colab": {
          "base_uri": "https://localhost:8080/"
        },
        "id": "ti3H0HB2-f9J",
        "outputId": "a4dddeb2-9a06-40cb-8891-056042f2f054"
      },
      "source": [
        "data = pd.Series([1.,-999.,2.,-1000,3.])\n",
        "print(data, '\\n')\n",
        "\n",
        "print(data.replace([-999,-1000], np.nan),'\\n')\n",
        "print(data.replace({-999:np.nan, -1000:0}),'\\n')"
      ],
      "execution_count": 23,
      "outputs": [
        {
          "output_type": "stream",
          "text": [
            "0       1.0\n",
            "1    -999.0\n",
            "2       2.0\n",
            "3   -1000.0\n",
            "4       3.0\n",
            "dtype: float64 \n",
            "\n",
            "0    1.0\n",
            "1    NaN\n",
            "2    2.0\n",
            "3    NaN\n",
            "4    3.0\n",
            "dtype: float64 \n",
            "\n",
            "0    1.0\n",
            "1    NaN\n",
            "2    2.0\n",
            "3    0.0\n",
            "4    3.0\n",
            "dtype: float64 \n",
            "\n"
          ],
          "name": "stdout"
        }
      ]
    },
    {
      "cell_type": "markdown",
      "metadata": {
        "id": "bweBI5Kl_qwX"
      },
      "source": [
        "# 7) Map, Rename"
      ]
    },
    {
      "cell_type": "code",
      "metadata": {
        "colab": {
          "base_uri": "https://localhost:8080/"
        },
        "id": "7Q-hAwQI_v4U",
        "outputId": "5669dc53-701a-49bc-f739-66a7e80f3012"
      },
      "source": [
        "data = pd.DataFrame(np.arange(12).reshape((3,4)),\n",
        "                    index=['Ohio','Colorado','New York'],\n",
        "                    columns=['one','two','three','four'])\n",
        "data.index = data.index.map(str.upper)\n",
        "print(data,'\\n')\n",
        "\n",
        "print(data.rename(index=str.title, columns=str.upper),'\\n')\n",
        "print(data.rename(index={'OHIO':'INDIANA'},columns={'three':'peekaboo'}))"
      ],
      "execution_count": 28,
      "outputs": [
        {
          "output_type": "stream",
          "text": [
            "          one  two  three  four\n",
            "OHIO        0    1      2     3\n",
            "COLORADO    4    5      6     7\n",
            "NEW YORK    8    9     10    11 \n",
            "\n",
            "          ONE  TWO  THREE  FOUR\n",
            "Ohio        0    1      2     3\n",
            "Colorado    4    5      6     7\n",
            "New York    8    9     10    11 \n",
            "\n",
            "          one  two  peekaboo  four\n",
            "INDIANA     0    1         2     3\n",
            "COLORADO    4    5         6     7\n",
            "NEW YORK    8    9        10    11\n"
          ],
          "name": "stdout"
        }
      ]
    }
  ]
}