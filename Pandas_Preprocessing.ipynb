{
  "nbformat": 4,
  "nbformat_minor": 0,
  "metadata": {
    "colab": {
      "name": "Pandas_Preprocessing.ipynb",
      "provenance": [],
      "collapsed_sections": [],
      "authorship_tag": "ABX9TyNoNujks3++bfMotn+wShvj",
      "include_colab_link": true
    },
    "kernelspec": {
      "name": "python3",
      "display_name": "Python 3"
    },
    "language_info": {
      "name": "python"
    }
  },
  "cells": [
    {
      "cell_type": "markdown",
      "metadata": {
        "id": "view-in-github",
        "colab_type": "text"
      },
      "source": [
        "<a href=\"https://colab.research.google.com/github/zasminah/Python_DataVisualization/blob/main/Pandas_Preprocessing.ipynb\" target=\"_parent\"><img src=\"https://colab.research.google.com/assets/colab-badge.svg\" alt=\"Open In Colab\"/></a>"
      ]
    },
    {
      "cell_type": "code",
      "metadata": {
        "id": "75_OKN2qNLvS"
      },
      "source": [
        "import pandas as pd\n",
        "import numpy as np"
      ],
      "execution_count": 2,
      "outputs": []
    },
    {
      "cell_type": "markdown",
      "metadata": {
        "id": "wDHPaFGuUZ5Y"
      },
      "source": [
        "# 1) Data Join"
      ]
    },
    {
      "cell_type": "code",
      "metadata": {
        "colab": {
          "base_uri": "https://localhost:8080/"
        },
        "id": "F6ap-WOiUcYx",
        "outputId": "f2716f35-62fe-49c5-b3a2-ef5fc2e19191"
      },
      "source": [
        "df1 = pd.DataFrame({'key':['b','b','a','c','a','a','b'],\n",
        "                    'data1':range(7)})\n",
        "df2 = pd.DataFrame({'key':['a','b','d'],\n",
        "                    'data2':range(3)})\n",
        "print('\\n', df1,'\\n')\n",
        "print('\\n', df2,'\\n')\n",
        "\n",
        "print('\\n', pd.merge(df1,df2),'\\n')\n",
        "print('\\n', pd.merge(df1,df2, on = 'key'), '\\n')\n",
        "print('\\n', pd.merge(df1,df2, how = 'left'),'\\n')\n",
        "print('\\n', pd.merge(df1,df2, how = 'right'),'\\n')\n",
        "print('\\n', pd.merge(df1,df2, how = 'outer'),'\\n') # use all though key is not matched \n",
        "print('\\n', pd.merge(df1,df2, how = 'inner'),'\\n') # use data when key is matched"
      ],
      "execution_count": 3,
      "outputs": [
        {
          "output_type": "stream",
          "text": [
            "\n",
            "   key  data1\n",
            "0   b      0\n",
            "1   b      1\n",
            "2   a      2\n",
            "3   c      3\n",
            "4   a      4\n",
            "5   a      5\n",
            "6   b      6 \n",
            "\n",
            "\n",
            "   key  data2\n",
            "0   a      0\n",
            "1   b      1\n",
            "2   d      2 \n",
            "\n",
            "\n",
            "   key  data1  data2\n",
            "0   b      0      1\n",
            "1   b      1      1\n",
            "2   b      6      1\n",
            "3   a      2      0\n",
            "4   a      4      0\n",
            "5   a      5      0 \n",
            "\n",
            "\n",
            "   key  data1  data2\n",
            "0   b      0      1\n",
            "1   b      1      1\n",
            "2   b      6      1\n",
            "3   a      2      0\n",
            "4   a      4      0\n",
            "5   a      5      0 \n",
            "\n",
            "\n",
            "   key  data1  data2\n",
            "0   b      0    1.0\n",
            "1   b      1    1.0\n",
            "2   a      2    0.0\n",
            "3   c      3    NaN\n",
            "4   a      4    0.0\n",
            "5   a      5    0.0\n",
            "6   b      6    1.0 \n",
            "\n",
            "\n",
            "   key  data1  data2\n",
            "0   a    2.0      0\n",
            "1   a    4.0      0\n",
            "2   a    5.0      0\n",
            "3   b    0.0      1\n",
            "4   b    1.0      1\n",
            "5   b    6.0      1\n",
            "6   d    NaN      2 \n",
            "\n",
            "\n",
            "   key  data1  data2\n",
            "0   b    0.0    1.0\n",
            "1   b    1.0    1.0\n",
            "2   b    6.0    1.0\n",
            "3   a    2.0    0.0\n",
            "4   a    4.0    0.0\n",
            "5   a    5.0    0.0\n",
            "6   c    3.0    NaN\n",
            "7   d    NaN    2.0 \n",
            "\n",
            "\n",
            "   key  data1  data2\n",
            "0   b      0      1\n",
            "1   b      1      1\n",
            "2   b      6      1\n",
            "3   a      2      0\n",
            "4   a      4      0\n",
            "5   a      5      0 \n",
            "\n"
          ],
          "name": "stdout"
        }
      ]
    },
    {
      "cell_type": "code",
      "metadata": {
        "colab": {
          "base_uri": "https://localhost:8080/"
        },
        "id": "tNoXpgpnZ6hB",
        "outputId": "cafca22c-91ad-4ab3-edb7-fec1715304a9"
      },
      "source": [
        "df3 = pd.DataFrame({'lkey':['b','b','a','c','a','a','b'],\n",
        "                    'data1':range(7)})\n",
        "df4 = pd.DataFrame({'rkey':['a','b','d'],\n",
        "                    'data2':range(3)})\n",
        "print('\\n', pd.merge(df3, df4, left_on='lkey', right_on='rkey'), '\\n')"
      ],
      "execution_count": 4,
      "outputs": [
        {
          "output_type": "stream",
          "text": [
            "\n",
            "   lkey  data1 rkey  data2\n",
            "0    b      0    b      1\n",
            "1    b      1    b      1\n",
            "2    b      6    b      1\n",
            "3    a      2    a      0\n",
            "4    a      4    a      0\n",
            "5    a      5    a      0 \n",
            "\n"
          ],
          "name": "stdout"
        }
      ]
    },
    {
      "cell_type": "markdown",
      "metadata": {
        "id": "MZYHWCRWuZW7"
      },
      "source": [
        "# 2) Concat\n",
        "\n",
        "*concat function* \n",
        "\n",
        "\n",
        "*   objs 이어붙일 pandas 객체 사전 or 리스트\n",
        "*   axis 축 방향\n",
        "*   join key값 안맞을 때 inner, outer, left, right\n",
        "*   join_axes 합집합,교집합 대신 다른 n-1축으로 색인지정\n",
        "*   keys 이어붙일 객체나 이어 붙인 축에 대한 색인 생성 연관\n",
        "*   levels 계측 색인 레벨로 사용할 색인 지정\n",
        "*   names keys나 levels 혹은 둘다 있는 경우 생성된 계층 레벨을 위한 이름\n",
        "*   verify 이어붙인 객체에 중복되는 축이 있는지 검사하고 있다면 예외 발생\n",
        "*   integrity 중복허용\n",
        "*   ignore_index 이어 붙인 축의 색인을 유지하지 않고 range로 새로운 색인 생성\n",
        "\n",
        "\n",
        "\n",
        "\n",
        "\n",
        "\n"
      ]
    },
    {
      "cell_type": "code",
      "metadata": {
        "colab": {
          "base_uri": "https://localhost:8080/"
        },
        "id": "1cHe1odiubmo",
        "outputId": "8fbdd8a9-7b15-4de1-f948-4f969d489b82"
      },
      "source": [
        "s1 = pd.Series([0,1], index = ['a','b'])\n",
        "s2 = pd.Series([2,3,4], index = ['c','d','e'])\n",
        "s3 = pd.Series([5,6], index = ['f','g'])\n",
        "print(pd.concat([s1,s2,s3]), '\\n') # axis =0\n",
        "print(pd.concat([s1,s2,s3], axis = 1, sort = False), '\\n')"
      ],
      "execution_count": 5,
      "outputs": [
        {
          "output_type": "stream",
          "text": [
            "a    0\n",
            "b    1\n",
            "c    2\n",
            "d    3\n",
            "e    4\n",
            "f    5\n",
            "g    6\n",
            "dtype: int64 \n",
            "\n",
            "     0    1    2\n",
            "a  0.0  NaN  NaN\n",
            "b  1.0  NaN  NaN\n",
            "c  NaN  2.0  NaN\n",
            "d  NaN  3.0  NaN\n",
            "e  NaN  4.0  NaN\n",
            "f  NaN  NaN  5.0\n",
            "g  NaN  NaN  6.0 \n",
            "\n"
          ],
          "name": "stdout"
        }
      ]
    },
    {
      "cell_type": "markdown",
      "metadata": {
        "id": "yRZNxu34x1oA"
      },
      "source": [
        "# 3) Stack, Unstack\n",
        "Stack 데이터의 컬럼을 로우로 피벗 또는 회전  ㅡ -> |\n",
        "\n",
        "Unstack 로우를 컬럼으로 피벅시킨다. | -> ㅡ"
      ]
    },
    {
      "cell_type": "code",
      "metadata": {
        "colab": {
          "base_uri": "https://localhost:8080/"
        },
        "id": "8jqQFFBryAnv",
        "outputId": "7765190e-2c29-4c14-d625-4e1b46540c34"
      },
      "source": [
        "data = pd.DataFrame(np.arange(6).reshape((2,3)),\n",
        "                    index = pd.Index(['Ohio', 'Colorado'],name = 'state'),\n",
        "                    columns = pd.Index(['one','two','three'],name = 'number'))\n",
        "print('\\n', data, '\\n')\n",
        "result = data.stack()\n",
        "print('\\n', result, '\\n')"
      ],
      "execution_count": 6,
      "outputs": [
        {
          "output_type": "stream",
          "text": [
            "\n",
            " number    one  two  three\n",
            "state                    \n",
            "Ohio        0    1      2\n",
            "Colorado    3    4      5 \n",
            "\n",
            "\n",
            " state     number\n",
            "Ohio      one       0\n",
            "          two       1\n",
            "          three     2\n",
            "Colorado  one       3\n",
            "          two       4\n",
            "          three     5\n",
            "dtype: int64 \n",
            "\n"
          ],
          "name": "stdout"
        }
      ]
    },
    {
      "cell_type": "markdown",
      "metadata": {
        "id": "Z2e6VP4L1Ff8"
      },
      "source": [
        "state : level 0\n",
        "\n",
        "numver : level 1"
      ]
    },
    {
      "cell_type": "code",
      "metadata": {
        "colab": {
          "base_uri": "https://localhost:8080/"
        },
        "id": "tlgGcyAc0bR_",
        "outputId": "7ce4d5be-023c-4fc0-b871-9ac026289e16"
      },
      "source": [
        "print(result.unstack()) #level 1"
      ],
      "execution_count": 7,
      "outputs": [
        {
          "output_type": "stream",
          "text": [
            "number    one  two  three\n",
            "state                    \n",
            "Ohio        0    1      2\n",
            "Colorado    3    4      5\n"
          ],
          "name": "stdout"
        }
      ]
    },
    {
      "cell_type": "code",
      "metadata": {
        "colab": {
          "base_uri": "https://localhost:8080/"
        },
        "id": "HyTkd90c0zYX",
        "outputId": "9eee420c-78a0-40fe-cbc3-8c171aec0e98"
      },
      "source": [
        "print(result.unstack(level=0))"
      ],
      "execution_count": 8,
      "outputs": [
        {
          "output_type": "stream",
          "text": [
            "state   Ohio  Colorado\n",
            "number                \n",
            "one        0         3\n",
            "two        1         4\n",
            "three      2         5\n"
          ],
          "name": "stdout"
        }
      ]
    },
    {
      "cell_type": "code",
      "metadata": {
        "colab": {
          "base_uri": "https://localhost:8080/"
        },
        "id": "tDBBDyIs1Lfo",
        "outputId": "72696b3f-f04f-42d9-9b9d-998822b7ea53"
      },
      "source": [
        "print(result.unstack(level=1))"
      ],
      "execution_count": 9,
      "outputs": [
        {
          "output_type": "stream",
          "text": [
            "number    one  two  three\n",
            "state                    \n",
            "Ohio        0    1      2\n",
            "Colorado    3    4      5\n"
          ],
          "name": "stdout"
        }
      ]
    },
    {
      "cell_type": "markdown",
      "metadata": {
        "id": "jBCKAzRS1cvV"
      },
      "source": [
        "Concat & Unstack"
      ]
    },
    {
      "cell_type": "code",
      "metadata": {
        "colab": {
          "base_uri": "https://localhost:8080/"
        },
        "id": "fP-oejin1axg",
        "outputId": "a669fff1-1add-4ce2-9ab5-164bddc338eb"
      },
      "source": [
        "s1 = pd.Series([0,1,2,3], index=list('abcd'))\n",
        "s2 = pd.Series([4,5,6], index=list('cde'))\n",
        "print('\\n', pd.concat([s1,s2]))\n",
        "data2 = pd.concat([s1,s2], keys=['one','two'])\n",
        "print('\\n', data2)\n",
        "print('\\n', data2.unstack())"
      ],
      "execution_count": 10,
      "outputs": [
        {
          "output_type": "stream",
          "text": [
            "\n",
            " a    0\n",
            "b    1\n",
            "c    2\n",
            "d    3\n",
            "c    4\n",
            "d    5\n",
            "e    6\n",
            "dtype: int64\n",
            "\n",
            " one  a    0\n",
            "     b    1\n",
            "     c    2\n",
            "     d    3\n",
            "two  c    4\n",
            "     d    5\n",
            "     e    6\n",
            "dtype: int64\n",
            "\n",
            "        a    b    c    d    e\n",
            "one  0.0  1.0  2.0  3.0  NaN\n",
            "two  NaN  NaN  4.0  5.0  6.0\n"
          ],
          "name": "stdout"
        }
      ]
    },
    {
      "cell_type": "markdown",
      "metadata": {
        "id": "X2E9ZLT6474W"
      },
      "source": [
        "# 4) Duplicate, Drop"
      ]
    },
    {
      "cell_type": "code",
      "metadata": {
        "colab": {
          "base_uri": "https://localhost:8080/"
        },
        "id": "CsGl02gC4_b8",
        "outputId": "e78f4ad5-2cc9-483c-cf69-9369bbc5fa63"
      },
      "source": [
        "data = pd.DataFrame({'k1':['one']*3+['two']*4,\n",
        "                     'k2':[1,1,2,3,3,4,4]})\n",
        "print('\\n',data,'\\n')\n",
        "print('\\n', data.duplicated(),'\\n')\n",
        "print('\\n', data.drop_duplicates(),'\\n')"
      ],
      "execution_count": 11,
      "outputs": [
        {
          "output_type": "stream",
          "text": [
            "\n",
            "     k1  k2\n",
            "0  one   1\n",
            "1  one   1\n",
            "2  one   2\n",
            "3  two   3\n",
            "4  two   3\n",
            "5  two   4\n",
            "6  two   4 \n",
            "\n",
            "\n",
            " 0    False\n",
            "1     True\n",
            "2    False\n",
            "3    False\n",
            "4     True\n",
            "5    False\n",
            "6     True\n",
            "dtype: bool \n",
            "\n",
            "\n",
            "     k1  k2\n",
            "0  one   1\n",
            "2  one   2\n",
            "3  two   3\n",
            "5  two   4 \n",
            "\n"
          ],
          "name": "stdout"
        }
      ]
    },
    {
      "cell_type": "code",
      "metadata": {
        "colab": {
          "base_uri": "https://localhost:8080/"
        },
        "id": "7AB-L6YV7zKT",
        "outputId": "678b7aa5-b7a2-4d34-b8b9-8bfb76d8c043"
      },
      "source": [
        "print('\\n', data.drop_duplicates(['k1']))"
      ],
      "execution_count": 12,
      "outputs": [
        {
          "output_type": "stream",
          "text": [
            "\n",
            "     k1  k2\n",
            "0  one   1\n",
            "3  two   3\n"
          ],
          "name": "stdout"
        }
      ]
    },
    {
      "cell_type": "code",
      "metadata": {
        "colab": {
          "base_uri": "https://localhost:8080/"
        },
        "id": "sWTluiKY8X6j",
        "outputId": "5b7089b0-2816-4278-824b-d2c8a8ee1039"
      },
      "source": [
        "print('\\n', data.drop_duplicates(['k1','k2'], keep='last'))"
      ],
      "execution_count": 13,
      "outputs": [
        {
          "output_type": "stream",
          "text": [
            "\n",
            "     k1  k2\n",
            "1  one   1\n",
            "2  one   2\n",
            "4  two   3\n",
            "6  two   4\n"
          ],
          "name": "stdout"
        }
      ]
    },
    {
      "cell_type": "markdown",
      "metadata": {
        "id": "tKAkolSJ88-c"
      },
      "source": [
        "# 5) Mapping"
      ]
    },
    {
      "cell_type": "code",
      "metadata": {
        "colab": {
          "base_uri": "https://localhost:8080/"
        },
        "id": "iwwB4K4z8t28",
        "outputId": "ff9f2f5f-ce70-4854-cafe-c68e7c044bd1"
      },
      "source": [
        "data = pd.DataFrame({'food':['bacon','pulled pork','bacon','Pastrami','corned beef',\n",
        "                             'Bacon','pastrami','honey ham','nova lox'],\n",
        "                     'ounces':[4,3,12,6,7.5,8,3,5,6]})\n",
        "print(data,'\\n')\n",
        "\n",
        "meat_to_animal = {\n",
        "    'bacon':'pig',\n",
        "    'pulled pork':'pig',\n",
        "    'pastrami':'cow',\n",
        "    'corned beef':'cow',\n",
        "    'honey ham':'pig',\n",
        "    'nova lox':'salmon'\n",
        "}\n",
        "\n",
        "#소문자로 통일하기 위해 map(str.lower)\n",
        "data['animal'] = data['food'].map(str.lower).map(meat_to_animal)\n",
        "print(data,'\\n')\n"
      ],
      "execution_count": 14,
      "outputs": [
        {
          "output_type": "stream",
          "text": [
            "          food  ounces\n",
            "0        bacon     4.0\n",
            "1  pulled pork     3.0\n",
            "2        bacon    12.0\n",
            "3     Pastrami     6.0\n",
            "4  corned beef     7.5\n",
            "5        Bacon     8.0\n",
            "6     pastrami     3.0\n",
            "7    honey ham     5.0\n",
            "8     nova lox     6.0 \n",
            "\n",
            "          food  ounces  animal\n",
            "0        bacon     4.0     pig\n",
            "1  pulled pork     3.0     pig\n",
            "2        bacon    12.0     pig\n",
            "3     Pastrami     6.0     cow\n",
            "4  corned beef     7.5     cow\n",
            "5        Bacon     8.0     pig\n",
            "6     pastrami     3.0     cow\n",
            "7    honey ham     5.0     pig\n",
            "8     nova lox     6.0  salmon \n",
            "\n"
          ],
          "name": "stdout"
        }
      ]
    },
    {
      "cell_type": "markdown",
      "metadata": {
        "id": "U1qdUNHL-i7N"
      },
      "source": [
        "# 6) Replace"
      ]
    },
    {
      "cell_type": "code",
      "metadata": {
        "colab": {
          "base_uri": "https://localhost:8080/"
        },
        "id": "ti3H0HB2-f9J",
        "outputId": "ece10304-5ed0-4ae3-f3bc-03b79a98b8fd"
      },
      "source": [
        "data = pd.Series([1.,-999.,2.,-1000,3.])\n",
        "print(data, '\\n')\n",
        "\n",
        "print(data.replace([-999,-1000], np.nan),'\\n')\n",
        "print(data.replace({-999:np.nan, -1000:0}),'\\n')"
      ],
      "execution_count": 15,
      "outputs": [
        {
          "output_type": "stream",
          "text": [
            "0       1.0\n",
            "1    -999.0\n",
            "2       2.0\n",
            "3   -1000.0\n",
            "4       3.0\n",
            "dtype: float64 \n",
            "\n",
            "0    1.0\n",
            "1    NaN\n",
            "2    2.0\n",
            "3    NaN\n",
            "4    3.0\n",
            "dtype: float64 \n",
            "\n",
            "0    1.0\n",
            "1    NaN\n",
            "2    2.0\n",
            "3    0.0\n",
            "4    3.0\n",
            "dtype: float64 \n",
            "\n"
          ],
          "name": "stdout"
        }
      ]
    },
    {
      "cell_type": "markdown",
      "metadata": {
        "id": "bweBI5Kl_qwX"
      },
      "source": [
        "# 7) Map, Rename"
      ]
    },
    {
      "cell_type": "code",
      "metadata": {
        "colab": {
          "base_uri": "https://localhost:8080/"
        },
        "id": "7Q-hAwQI_v4U",
        "outputId": "4353ce46-2d31-44ed-adea-8c69fcc063e7"
      },
      "source": [
        "data = pd.DataFrame(np.arange(12).reshape((3,4)),\n",
        "                    index=['Ohio','Colorado','New York'],\n",
        "                    columns=['one','two','three','four'])\n",
        "data.index = data.index.map(str.upper)\n",
        "print(data,'\\n')\n",
        "\n",
        "print(data.rename(index=str.title, columns=str.upper),'\\n')\n",
        "print(data.rename(index={'OHIO':'INDIANA'},columns={'three':'peekaboo'}))"
      ],
      "execution_count": 16,
      "outputs": [
        {
          "output_type": "stream",
          "text": [
            "          one  two  three  four\n",
            "OHIO        0    1      2     3\n",
            "COLORADO    4    5      6     7\n",
            "NEW YORK    8    9     10    11 \n",
            "\n",
            "          ONE  TWO  THREE  FOUR\n",
            "Ohio        0    1      2     3\n",
            "Colorado    4    5      6     7\n",
            "New York    8    9     10    11 \n",
            "\n",
            "          one  two  peekaboo  four\n",
            "INDIANA     0    1         2     3\n",
            "COLORADO    4    5         6     7\n",
            "NEW YORK    8    9        10    11\n"
          ],
          "name": "stdout"
        }
      ]
    },
    {
      "cell_type": "markdown",
      "metadata": {
        "id": "geeJW4gz4Ri-"
      },
      "source": [
        "# 8) Cut - grouping"
      ]
    },
    {
      "cell_type": "code",
      "metadata": {
        "colab": {
          "base_uri": "https://localhost:8080/"
        },
        "id": "MnIXilQ74WPM",
        "outputId": "ccbe9b62-4cce-49d9-ca02-27ce6869ea74"
      },
      "source": [
        "ages = [20,22,25,27,23,23,37,31,61,45,41,32]\n",
        "bins = [18,25,35,60,100]\n",
        "cats = pd.cut(ages,bins)\n",
        "print(cats,'\\n')\n",
        "print(pd.cut(ages,bins,right=False),'\\n')\n",
        "print(pd.value_counts(cats),'\\n')"
      ],
      "execution_count": 17,
      "outputs": [
        {
          "output_type": "stream",
          "text": [
            "[(18, 25], (18, 25], (18, 25], (25, 35], (18, 25], ..., (25, 35], (60, 100], (35, 60], (35, 60], (25, 35]]\n",
            "Length: 12\n",
            "Categories (4, interval[int64]): [(18, 25] < (25, 35] < (35, 60] < (60, 100]] \n",
            "\n",
            "[[18, 25), [18, 25), [25, 35), [25, 35), [18, 25), ..., [25, 35), [60, 100), [35, 60), [35, 60), [25, 35)]\n",
            "Length: 12\n",
            "Categories (4, interval[int64]): [[18, 25) < [25, 35) < [35, 60) < [60, 100)] \n",
            "\n",
            "(18, 25]     5\n",
            "(35, 60]     3\n",
            "(25, 35]     3\n",
            "(60, 100]    1\n",
            "dtype: int64 \n",
            "\n"
          ],
          "name": "stdout"
        }
      ]
    },
    {
      "cell_type": "code",
      "metadata": {
        "colab": {
          "base_uri": "https://localhost:8080/"
        },
        "id": "PiOpoPS86HDd",
        "outputId": "14fd0f31-312f-434b-92ee-863c593530b8"
      },
      "source": [
        "group_name = ['Youth','Young Adult', 'MiddleAged','Senior']\n",
        "rnData = pd.cut(ages,bins, labels=group_name)\n",
        "print(rnData,'\\n')\n",
        "print(pd.value_counts(rnData))"
      ],
      "execution_count": 19,
      "outputs": [
        {
          "output_type": "stream",
          "text": [
            "['Youth', 'Youth', 'Youth', 'Young Adult', 'Youth', ..., 'Young Adult', 'Senior', 'MiddleAged', 'MiddleAged', 'Young Adult']\n",
            "Length: 12\n",
            "Categories (4, object): ['Youth' < 'Young Adult' < 'MiddleAged' < 'Senior'] \n",
            "\n",
            "Youth          5\n",
            "MiddleAged     3\n",
            "Young Adult    3\n",
            "Senior         1\n",
            "dtype: int64\n"
          ],
          "name": "stdout"
        }
      ]
    },
    {
      "cell_type": "markdown",
      "metadata": {
        "id": "2QFr3FQP64Vi"
      },
      "source": [
        "# 9) String\n",
        "\n",
        "\n",
        "*   count 문자열에서 겹치지 않는 부분 문자열의 개수 반환\n",
        "*   endswith, startswith 문자열이 주어진 접미사(접두사)로 끝날 경우 True 반환\n",
        "*   join 문자열을 구분자로 하여 다른 문자열을 순서대로 이어 붙인다\n",
        "*   index 부분 문자열의 첫번째 글자의 위치를 반환\n",
        "*   find 첫 번째 부분 문자열의 첫 번째 글자의 위치를 반환\n",
        "*   rfind 마지막 부분 문자열의 첫번째 글자의 위치를 반환\n",
        "*   split 문자열을 구분자 기준으로 부분 문자열의 리스트로 분리\n",
        "*   ljust, rjust 문자열을 오른쪽 혹은 왼쪽을 정렬하고 주어진 길이에서 문자열 길이를 제외한 곳은 공백 문자를 채워 넣어 주어진 길이를 가지는 문자열을 반환   rfind 마지막 부분 문자열의 첫번째 글자의 위치를 반환\n",
        "*   split 문자열을 구분자 기준으로 부분 문자열의 리스트로 분리\n",
        "*   ljust, rjust 문자열을 오른쪽 혹은 왼쪽을 정렬하고 주어진 길이에서 문자열 길이를 제외한 곳은 공백 문자를 채워 넣어 주어진 길이를 가지는 문자열을 반환\n",
        "\n",
        "\n",
        "\n",
        "val.split(',')\n",
        "\n",
        "줄바꿈이 포함된 문자처리\n",
        "data = [x.strip() for x in var.split(',')]\n",
        "\n",
        "'::'.join(data)\n",
        "\n",
        "var.index(',') - 문자열 없으면 -1\n",
        "\n",
        "var.find(',') - 문자열이 없으면 exception\n",
        "\n",
        "var.count(',')\n",
        "\n",
        "\n",
        "\n",
        "\n"
      ]
    },
    {
      "cell_type": "code",
      "metadata": {
        "colab": {
          "base_uri": "https://localhost:8080/"
        },
        "id": "56pVJ3_g63Of",
        "outputId": "59fc4e77-7380-45cf-a5bc-7b52c1cf25d6"
      },
      "source": [
        "val = 'a,b, kim'\n",
        "val.split(',')"
      ],
      "execution_count": 24,
      "outputs": [
        {
          "output_type": "execute_result",
          "data": {
            "text/plain": [
              "['a', 'b', ' kim']"
            ]
          },
          "metadata": {
            "tags": []
          },
          "execution_count": 24
        }
      ]
    },
    {
      "cell_type": "code",
      "metadata": {
        "colab": {
          "base_uri": "https://localhost:8080/"
        },
        "id": "84gHCwnPA5ca",
        "outputId": "20e25141-c42a-4bde-8225-98e1045a4ef0"
      },
      "source": [
        "pieces = [x.strip() for x in val.split(',')]\n",
        "pieces"
      ],
      "execution_count": 25,
      "outputs": [
        {
          "output_type": "execute_result",
          "data": {
            "text/plain": [
              "['a', 'b', 'kim']"
            ]
          },
          "metadata": {
            "tags": []
          },
          "execution_count": 25
        }
      ]
    },
    {
      "cell_type": "code",
      "metadata": {
        "colab": {
          "base_uri": "https://localhost:8080/",
          "height": 35
        },
        "id": "kMonJ6bvBMdQ",
        "outputId": "67adfa2f-3d59-42d3-c25b-353c7b024484"
      },
      "source": [
        "#first, second, third = pieces\n",
        "'::'.join(pieces)"
      ],
      "execution_count": 27,
      "outputs": [
        {
          "output_type": "execute_result",
          "data": {
            "application/vnd.google.colaboratory.intrinsic+json": {
              "type": "string"
            },
            "text/plain": [
              "'a::b::kim'"
            ]
          },
          "metadata": {
            "tags": []
          },
          "execution_count": 27
        }
      ]
    },
    {
      "cell_type": "code",
      "metadata": {
        "colab": {
          "base_uri": "https://localhost:8080/"
        },
        "id": "49iI1VxxBgRW",
        "outputId": "37192896-a130-448d-dd00-81b21626de49"
      },
      "source": [
        "val.index(',')"
      ],
      "execution_count": 28,
      "outputs": [
        {
          "output_type": "execute_result",
          "data": {
            "text/plain": [
              "1"
            ]
          },
          "metadata": {
            "tags": []
          },
          "execution_count": 28
        }
      ]
    },
    {
      "cell_type": "code",
      "metadata": {
        "colab": {
          "base_uri": "https://localhost:8080/"
        },
        "id": "gOo_MfPABmng",
        "outputId": "80964f64-8cf6-4d28-a9f9-d2092581cf44"
      },
      "source": [
        "val.count(',')"
      ],
      "execution_count": 29,
      "outputs": [
        {
          "output_type": "execute_result",
          "data": {
            "text/plain": [
              "2"
            ]
          },
          "metadata": {
            "tags": []
          },
          "execution_count": 29
        }
      ]
    },
    {
      "cell_type": "code",
      "metadata": {
        "colab": {
          "base_uri": "https://localhost:8080/",
          "height": 35
        },
        "id": "a9P11P1HBt5w",
        "outputId": "c878be7e-8ea5-49ee-85c9-48c0124866fd"
      },
      "source": [
        "val.replace(',','::')"
      ],
      "execution_count": 30,
      "outputs": [
        {
          "output_type": "execute_result",
          "data": {
            "application/vnd.google.colaboratory.intrinsic+json": {
              "type": "string"
            },
            "text/plain": [
              "'a::b:: kim'"
            ]
          },
          "metadata": {
            "tags": []
          },
          "execution_count": 30
        }
      ]
    },
    {
      "cell_type": "markdown",
      "metadata": {
        "id": "34cnkchKB7Ab"
      },
      "source": [
        "**정규표현식**\n",
        "\n",
        "텍스트에서 문자열 패턴을 찾는 방법 제공\n",
        "\n",
        "regex라 불리는 단일 표현식은 정규표현 언어로 구성된 문자열\n",
        "\n",
        "\n",
        "***re 모듈 함수***\n",
        "\n",
        "*    findall, finditer  문자열에서 겹치지 않는 발견된 모든 패턴 반환\n",
        "*    match 문자열의 시작점부터 패턴을 찾고 선택적으로 패턴 컴포넌트를 그룹으로 나눈다 일치하는 패턴이 있다면 match객체를 반환하고 그렇지 않으면 None 반환\n",
        "*    search 문자열에서 패턴과 일치하는 내용을 검색하고 match 객체를 반환\n",
        "*    split 문자열에서 패턴과 일치하는 부분을 쪼갠다\n",
        "*    sub, subn 문자열에서 일치하는 모든 패턴(sub)혹은 처음 n개의 패턴을 대체 표현으로 치환한다. 대체 표현 문자열은 \\1,\\2...같은 기호를 사용해서 매치 그룹의 요소를 참조한다\n"
      ]
    },
    {
      "cell_type": "code",
      "metadata": {
        "colab": {
          "base_uri": "https://localhost:8080/"
        },
        "id": "1_bIUkgjCoOu",
        "outputId": "f1e4b378-2209-4603-acd8-592db510ccb4"
      },
      "source": [
        "import re #패턴매칭, 치환, 분리\n",
        "\n",
        "text = 'foo bar\\t baz \\tqux'\n",
        "re.split('\\s+',text)#white space 기준"
      ],
      "execution_count": 37,
      "outputs": [
        {
          "output_type": "execute_result",
          "data": {
            "text/plain": [
              "['foo', 'bar', 'baz', 'qux']"
            ]
          },
          "metadata": {
            "tags": []
          },
          "execution_count": 37
        }
      ]
    },
    {
      "cell_type": "code",
      "metadata": {
        "colab": {
          "base_uri": "https://localhost:8080/"
        },
        "id": "MHFWtpXDETnC",
        "outputId": "7810fe16-c58c-4ba3-ff8d-2c75bdf475c8"
      },
      "source": [
        "regex = re.compile('\\s+')\n",
        "regex.split(text)"
      ],
      "execution_count": 39,
      "outputs": [
        {
          "output_type": "execute_result",
          "data": {
            "text/plain": [
              "['foo', 'bar', 'baz', 'qux']"
            ]
          },
          "metadata": {
            "tags": []
          },
          "execution_count": 39
        }
      ]
    },
    {
      "cell_type": "code",
      "metadata": {
        "colab": {
          "base_uri": "https://localhost:8080/"
        },
        "id": "d2ghn4IzEh4N",
        "outputId": "6c215ce2-e244-4e10-bed8-80ed89aff97f"
      },
      "source": [
        "regex.findall(text)"
      ],
      "execution_count": 40,
      "outputs": [
        {
          "output_type": "execute_result",
          "data": {
            "text/plain": [
              "[' ', '\\t ', ' \\t']"
            ]
          },
          "metadata": {
            "tags": []
          },
          "execution_count": 40
        }
      ]
    },
    {
      "cell_type": "code",
      "metadata": {
        "colab": {
          "base_uri": "https://localhost:8080/"
        },
        "id": "xIjOf4I3EzBR",
        "outputId": "c590c0d4-af08-435e-e9e7-2f7d36535fdc"
      },
      "source": [
        "text='''Dave dave@google.com\n",
        "Steve steve@gmail.com\n",
        "Rob rob@gmail.com\n",
        "Ryan ryan@yahoo.com'''\n",
        "\n",
        "pattern = r'[A-Z0-9._%+-]+@[A-Z0-9.-]+\\.[A-Z]{2,4}'\n",
        "regex = re.compile(pattern, flags=re.IGNORECASE) #대소문자구분X\n",
        "print('findall:',regex.findall(text),'\\n')\n",
        "\n",
        "m = regex.search(text)\n",
        "print('text:',text[m.start():m.end()],'\\n') #첫번째 주소 가져옴\n",
        "\n",
        "pattern = r'([A-Z0-9._%+-]+)@([A-Z0-9.-]+)\\.([A-Z]{2,4})'\n",
        "regex = re.compile(pattern, flags=re.IGNORECASE)\n",
        "m = regex.match('wesm@lge.com') #기준점으로 잘린 문자열 반환rint('text:',text[m.start():m.end()],'\\n') #첫번째 주소 가져옴\n",
        "\n",
        "pattern = r'([A-Z0-9._%+-]+)@([A-Z0-9.-]+)\\.([A-Z]{2,4})'\n",
        "regex = re.compile(pattern, flags=re.IGNORECASE)\n",
        "m = regex.match('wesm@lge.com') #기준점으로 잘린 문자열 반환\n",
        "print(m.groups(),'\\n')\n",
        "print(m.groups(),'\\n')"
      ],
      "execution_count": 41,
      "outputs": [
        {
          "output_type": "stream",
          "text": [
            "findall: ['dave@google.com', 'steve@gmail.com', 'rob@gmail.com', 'ryan@yahoo.com'] \n",
            "\n",
            "text: dave@google.com \n",
            "\n",
            "('wesm', 'lge', 'com') \n",
            "\n"
          ],
          "name": "stdout"
        }
      ]
    }
  ]
}