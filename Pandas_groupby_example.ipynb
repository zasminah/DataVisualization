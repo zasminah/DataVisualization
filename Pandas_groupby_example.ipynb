{
  "nbformat": 4,
  "nbformat_minor": 0,
  "metadata": {
    "colab": {
      "name": "Pandas_groupby_example.ipynb",
      "provenance": [],
      "authorship_tag": "ABX9TyM3UdHx7NZFQALWFv9I8HCd",
      "include_colab_link": true
    },
    "kernelspec": {
      "name": "python3",
      "display_name": "Python 3"
    },
    "language_info": {
      "name": "python"
    }
  },
  "cells": [
    {
      "cell_type": "markdown",
      "metadata": {
        "id": "view-in-github",
        "colab_type": "text"
      },
      "source": [
        "<a href=\"https://colab.research.google.com/github/zasminah/Python_DataVisualization/blob/main/Pandas_groupby_example.ipynb\" target=\"_parent\"><img src=\"https://colab.research.google.com/assets/colab-badge.svg\" alt=\"Open In Colab\"/></a>"
      ]
    },
    {
      "cell_type": "code",
      "metadata": {
        "id": "n6Q1ig_QbD9D"
      },
      "source": [
        "import pandas as pd\n",
        "import numpy as np\n",
        "import matplotlib.pyplot as plt"
      ],
      "execution_count": 1,
      "outputs": []
    },
    {
      "cell_type": "markdown",
      "metadata": {
        "id": "sxx7MUw4fgHy"
      },
      "source": [
        "# Food Data"
      ]
    },
    {
      "cell_type": "code",
      "metadata": {
        "id": "hSW3eU6FbJwD"
      },
      "source": [
        "db = [\n",
        "{\n",
        "    \"id\":1008,\n",
        "    \"description\":\"KENTUCKY FIRED CHICKEN, Fried Chicken, EXTRA CRISPY, Wing, meat and skin with breading\",\n",
        "    \"tags\":[\"KFC\"],\n",
        "    \"manufacturer\":\"Kentucky Fried Chicken\",\n",
        "    \"group\":\"Fast Foods\",\n",
        "    \"portions\":[{\"amount\":1,\"unit\":\"oz\",\"grams\":28.35}],\n",
        "    \"nutrients\":[{\"value\":25.18,\"units\":\"g\",\"description\":\"Protein\",\"group\":\"Composition\"},\n",
        "                 {\"value\":29.2,\"units\":\"g\",\"description\":\"Total lipid (fat)\",\"group\":\"Composition\"},\n",
        "                 {\"value\":3.06,\"units\":\"g\",\"description\":\"Carbohydrate, by difference\",\"group\":\"Composition\"},\n",
        "                 {\"value\":3.28,\"units\":\"g\",\"description\":\"Ash\",\"group\":\"Other\"},\n",
        "                 {\"value\":376.0,\"units\":\"kcal\",\"description\":\"Energy\",\"group\":\"Energy\"},\n",
        "                 {\"value\":39.28,\"units\":\"g\",\"description\":\"Water\",\"group\":\"Composition\"},\n",
        "                 {\"value\":1573.0,\"units\":\"kJ\",\"description\":\"Energy\",\"group\":\"Energy\"},\n",
        "                 {\"value\":0.0,\"units\":\"g\",\"description\":\"Fiber, total dietary\",\"group\":\"Composition\"},\n",
        "                 {\"value\":673.0,\"units\":\"mg\",\"description\":\"Calcium, Ca\",\"group\":\"Elements\"},\n",
        "                 {\"value\":0.64,\"units\":\"mg\",\"description\":\"Iron, Fe\",\"group\":\"Elements\"},\n",
        "                 {\"value\":22.0,\"units\":\"mg\",\"description\":\"Magnesium, Mg\",\"group\":\"Elements\"},\n",
        "                 {\"value\":490.0,\"units\":\"mg\",\"description\":\"Phosphorus, P\",\"group\":\"Elements\"},\n",
        "                 {\"value\":93.0,\"units\":\"mg\",\"description\":\"Potassium, K\",\"group\":\"Elements\"},\n",
        "                 {\"value\":690.0,\"units\":\"mg\",\"description\":\"Sodium, Na\",\"group\":\"Elements\"},\n",
        "                 {\"value\":2.94,\"units\":\"mg\",\"description\":\"Zinc, Zn\",\"group\":\"Elements\"},\n",
        "                 {\"value\":0.024,\"units\":\"mg\",\"description\":\"Copper, Cu\",\"group\":\"Elements\"},\n",
        "                 {\"value\":0.021,\"units\":\"mg\",\"description\":\"Manganese, Mn\",\"group\":\"Elements\"},\n",
        "                 {\"value\":14.5,\"units\":\"mcg\",\"description\":\"Selenium, Se\",\"group\":\"Elements\"},\n",
        "                 {\"value\":1054.0,\"units\":\"IU\",\"description\":\"Vitamin A, IU\",\"group\":\"Vitamins\"},\n",
        "                 {\"value\":262.0,\"units\":\"mcg\",\"description\":\"Retinol\",\"group\":\"Vitamins\"},\n",
        "                 {\"value\":271.0,\"units\":\"mcg_RAE\",\"description\":\"Vitamin A, RAE\",\"group\":\"Vitamins\"},\n",
        "                 {\"value\":0.0,\"units\":\"mg\",\"description\":\"Vitamin C, total ascorbic acid\",\"group\":\"Vitamins\"},\n",
        "                 {\"value\":0.031,\"units\":\"mg\",\"description\":\"Thiamin\",\"group\":\"Vitamins\"},\n",
        "                 {\"value\":0.45,\"units\":\"mg\",\"description\":\"Riboflavin\",\"group\":\"Vitamins\"},\n",
        "                 {\"value\":0.18,\"units\":\"mg\",\"description\":\"Niacin\",\"group\":\"Vitamins\"},\n",
        "                 {\"value\":0.19,\"units\":\"mg\",\"description\":\"Pantothenic acid\",\"group\":\"Vitamins\"},\n",
        "                 {\"value\":0.074,\"units\":\"mg\",\"description\":\"Vitamin B-6\",\"group\":\"Vitamins\"},\n",
        "                 {\"value\":18.0,\"units\":\"mcg\",\"description\":\"Folate, total\",\"group\":\"Vitamins\"},\n",
        "                 {\"value\":0.27,\"units\":\"mcg\",\"description\":\"Vitamin B-12\",\"group\":\"Vitamins\"},\n",
        "                 {\"value\":0.0,\"units\":\"mcg\",\"description\":\"Folic acid\",\"group\":\"Vitamins\"},\n",
        "                 {\"value\":18.0,\"units\":\"mcg\",\"description\":\"Folate, food\",\"group\":\"Vitamins\"},\n",
        "                 {\"value\":18.0,\"units\":\"mcg_DFE\",\"description\":\"Folate, DFE\",\"group\":\"Vitamins\"},\n",
        "                 {\"value\":93.0,\"units\":\"mg\",\"description\":\"Cholesterol\",\"group\":\"Other\"},\n",
        "                 {\"value\":18.584,\"units\":\"g\",\"description\":\"Fatty acids, total saturated\",\"group\":\"Other\"},\n",
        "                 {\"value\":8.275,\"units\":\"g\",\"description\":\"Fatty acids, total monounsaturated\",\"group\":\"Other\"},\n",
        "                 {\"value\":0.83,\"units\":\"g\",\"description\":\"Fatty acids, total polyunsaturated\",\"group\":\"Other\"},\n",
        "                 {\"value\":0.324,\"units\":\"g\",\"description\":\"Tryptophan\",\"group\":\"Amino Acids\"},\n",
        "                 {\"value\":0.896,\"units\":\"g\",\"description\":\"Threonine\",\"group\":\"Amino Acids\"},\n",
        "                 {\"value\":1.563,\"units\":\"g\",\"description\":\"Isoleucine\",\"group\":\"Amino Acids\"},\n",
        "                 {\"value\":2.412,\"units\":\"g\",\"description\":\"Leucine\",\"group\":\"Amino Acids\"},\n",
        "                 {\"value\":2.095,\"units\":\"g\",\"description\":\"Lysine\",\"group\":\"Amino Acids\"},\n",
        "                 {\"value\":0.659,\"units\":\"g\",\"description\":\"Methionine\",\"group\":\"Amino Acids\"},\n",
        "                 {\"value\":0.126,\"units\":\"g\",\"description\":\"Cystine\",\"group\":\"Amino Acids\"},\n",
        "                 {\"value\":1.326,\"units\":\"g\",\"description\":\"Phenylalanine\",\"group\":\"Amino Acids\"},\n",
        "                 {\"value\":1.216,\"units\":\"g\",\"description\":\"Tyrosine\",\"group\":\"Amino Acids\"},\n",
        "                 {\"value\":1.682,\"units\":\"g\",\"description\":\"Valine\",\"group\":\"Amino Acids\"},\n",
        "                 {\"value\":0.952,\"units\":\"g\",\"description\":\"Arginine\",\"group\":\"Amino Acids\"},\n",
        "                 {\"value\":0.884,\"units\":\"g\",\"description\":\"Histidine\",\"group\":\"Amino Acids\"},\n",
        "                 {\"value\":0.711,\"units\":\"g\",\"description\":\"Alanine\",\"group\":\"Amino Acids\"},\n",
        "                 {\"value\":1.618,\"units\":\"g\",\"description\":\"Aspartic acid\",\"group\":\"Amino Acids\"},\n",
        "                 {\"value\":6.16,\"units\":\"g\",\"description\":\"Glutamic acid\",\"group\":\"Amino Acids\"},\n",
        "                 {\"value\":0.439,\"units\":\"g\",\"description\":\"Glycine\",\"group\":\"Amino Acids\"},\n",
        "                 {\"value\":2.838,\"units\":\"g\",\"description\":\"Proline\",\"group\":\"Amino Acids\"},\n",
        "                 {\"value\":1.472,\"units\":\"g\",\"description\":\"Serine\",\"group\":\"Amino Acids\"},\n",
        "                 {\"value\":25.18,\"units\":\"g\",\"description\":\"Protein\",\"group\":\"Composition\"},\n",
        "                 {\"value\":29.2,\"units\":\"g\",\"description\":\"Total lipid (fat)\",\"group\":\"Composition\"},\n",
        "                 {\"value\":3.06,\"units\":\"g\",\"description\":\"Carbohydrate, by difference\",\"group\":\"Composition\"},\n",
        "                 {\"value\":3.28,\"units\":\"g\",\"description\":\"Ash\",\"group\":\"Other\"},\n",
        "                 {\"value\":376.0,\"units\":\"kcal\",\"description\":\"Energy\",\"group\":\"Energy\"},\n",
        "                 {\"value\":39.28,\"units\":\"g\",\"description\":\"Water\",\"group\":\"Composition\"},\n",
        "                 {\"value\":1573.0,\"units\":\"kJ\",\"description\":\"Energy\",\"group\":\"Energy\"},\n",
        "                 {\"value\":0.0,\"units\":\"g\",\"description\":\"Fiber, total dietary\",\"group\":\"Composition\"},\n",
        "                 {\"value\":673.0,\"units\":\"mg\",\"description\":\"Calcium, Ca\",\"group\":\"Elements\"},\n",
        "                 {\"value\":0.64,\"units\":\"mg\",\"description\":\"Iron, Fe\",\"group\":\"Elements\"},\n",
        "                 {\"value\":22.0,\"units\":\"mg\",\"description\":\"Magnesium, Mg\",\"group\":\"Elements\"},\n",
        "                 {\"value\":490.0,\"units\":\"mg\",\"description\":\"Phosphorus, P\",\"group\":\"Elements\"},\n",
        "                 {\"value\":93.0,\"units\":\"mg\",\"description\":\"Potassium, K\",\"group\":\"Elements\"},\n",
        "                 {\"value\":690.0,\"units\":\"mg\",\"description\":\"Sodium, Na\",\"group\":\"Elements\"},\n",
        "                 {\"value\":2.94,\"units\":\"mg\",\"description\":\"Zinc, Zn\",\"group\":\"Elements\"},\n",
        "                 {\"value\":0.024,\"units\":\"mg\",\"description\":\"Copper, Cu\",\"group\":\"Elements\"},\n",
        "                 {\"value\":0.021,\"units\":\"mg\",\"description\":\"Manganese, Mn\",\"group\":\"Elements\"},\n",
        "                 {\"value\":14.5,\"units\":\"mcg\",\"description\":\"Selenium, Se\",\"group\":\"Elements\"},\n",
        "                 {\"value\":1054.0,\"units\":\"IU\",\"description\":\"Vitamin A, IU\",\"group\":\"Vitamins\"},\n",
        "                 {\"value\":262.0,\"units\":\"mcg\",\"description\":\"Retinol\",\"group\":\"Vitamins\"},\n",
        "                 {\"value\":271.0,\"units\":\"mcg_RAE\",\"description\":\"Vitamin A, RAE\",\"group\":\"Vitamins\"},\n",
        "                 {\"value\":0.0,\"units\":\"mg\",\"description\":\"Vitamin C, total ascorbic acid\",\"group\":\"Vitamins\"},\n",
        "                 {\"value\":0.031,\"units\":\"mg\",\"description\":\"Thiamin\",\"group\":\"Vitamins\"},\n",
        "                 {\"value\":0.45,\"units\":\"mg\",\"description\":\"Riboflavin\",\"group\":\"Vitamins\"},\n",
        "                 {\"value\":0.18,\"units\":\"mg\",\"description\":\"Niacin\",\"group\":\"Vitamins\"},\n",
        "                 {\"value\":0.19,\"units\":\"mg\",\"description\":\"Pantothenic acid\",\"group\":\"Vitamins\"},\n",
        "                 {\"value\":0.074,\"units\":\"mg\",\"description\":\"Vitamin B-6\",\"group\":\"Vitamins\"},\n",
        "                 {\"value\":18.0,\"units\":\"mcg\",\"description\":\"Folate, total\",\"group\":\"Vitamins\"},\n",
        "                 {\"value\":0.27,\"units\":\"mcg\",\"description\":\"Vitamin B-12\",\"group\":\"Vitamins\"},\n",
        "                 {\"value\":0.0,\"units\":\"mcg\",\"description\":\"Folic acid\",\"group\":\"Vitamins\"},\n",
        "                 {\"value\":18.0,\"units\":\"mcg\",\"description\":\"Folate, food\",\"group\":\"Vitamins\"},\n",
        "                 {\"value\":18.0,\"units\":\"mcg_DFE\",\"description\":\"Folate, DFE\",\"group\":\"Vitamins\"},\n",
        "\n",
        "            ]\n",
        "}\n",
        "]"
      ],
      "execution_count": 8,
      "outputs": []
    },
    {
      "cell_type": "code",
      "metadata": {
        "colab": {
          "base_uri": "https://localhost:8080/"
        },
        "id": "gnBytjy8bKwj",
        "outputId": "10cf4495-0011-48cb-b478-8684ee7255ee"
      },
      "source": [
        "#음식의 갯 수 확인\n",
        "print('\\n음식의 갯 수:', len(db))\n",
        "#음식 키 출력\n",
        "print('\\n음식 키 출력:',db[0].keys())\n",
        "nutrients = pd.DataFrame(db[0]['nutrients'])\n",
        "print('\\n영양소:\\n',nutrients[:7])\n",
        "\n",
        "#음식의 이름과 그룹 id 제조자 추출\n",
        "info_keys = ['description','group','id','manufacturer']\n",
        "info = pd.DataFrame(db, columns=info_keys)\n",
        "print('\\n',info[:5])"
      ],
      "execution_count": 9,
      "outputs": [
        {
          "output_type": "stream",
          "text": [
            "\n",
            "음식의 갯 수: 1\n",
            "\n",
            "음식 키 출력: dict_keys(['id', 'description', 'tags', 'manufacturer', 'group', 'portions', 'nutrients'])\n",
            "\n",
            "영양소:\n",
            "      value units                  description        group\n",
            "0    25.18     g                      Protein  Composition\n",
            "1    29.20     g            Total lipid (fat)  Composition\n",
            "2     3.06     g  Carbohydrate, by difference  Composition\n",
            "3     3.28     g                          Ash        Other\n",
            "4   376.00  kcal                       Energy       Energy\n",
            "5    39.28     g                        Water  Composition\n",
            "6  1573.00    kJ                       Energy       Energy\n",
            "\n",
            "                                          description  ...            manufacturer\n",
            "0  KENTUCKY FIRED CHICKEN, Fried Chicken, EXTRA C...  ...  Kentucky Fried Chicken\n",
            "\n",
            "[1 rows x 4 columns]\n"
          ],
          "name": "stdout"
        }
      ]
    },
    {
      "cell_type": "code",
      "metadata": {
        "colab": {
          "base_uri": "https://localhost:8080/"
        },
        "id": "qXoPyqLEbvvT",
        "outputId": "15a3e826-c002-444c-ea66-a8bc06f33f26"
      },
      "source": [
        "pd.value_counts(info.group)[:10]"
      ],
      "execution_count": 10,
      "outputs": [
        {
          "output_type": "execute_result",
          "data": {
            "text/plain": [
              "Fast Foods    1\n",
              "Name: group, dtype: int64"
            ]
          },
          "metadata": {
            "tags": []
          },
          "execution_count": 10
        }
      ]
    },
    {
      "cell_type": "code",
      "metadata": {
        "colab": {
          "base_uri": "https://localhost:8080/",
          "height": 419
        },
        "id": "xGENv5ktb2fJ",
        "outputId": "2d6473c0-54f6-4a39-cc9a-966ef3029751"
      },
      "source": [
        "nutrients = []\n",
        "for rec in db:\n",
        "    fd = pd.DataFrame(rec['nutrients'])\n",
        "    fd['id'] = rec['id']\n",
        "    nutrients.append(fd)\n",
        "\n",
        "nutrients = pd.concat(nutrients, ignore_index=True) #Pandas 자료구조 형태로 만들기 위한 과정utrients = []\n",
        "for rec in db:\n",
        "    fd = pd.DataFrame(rec['nutrients'])\n",
        "        fd['id'] = rec['id']\n",
        "            nutrients.append(fd)\n",
        "\n",
        "            nutrients = pd.concat(nutrients, ignore_index=True) #Pandas 자료구조 형태로 만들기 위한 과정\n",
        "            nutrients\n",
        "nutrients"
      ],
      "execution_count": 13,
      "outputs": [
        {
          "output_type": "execute_result",
          "data": {
            "text/html": [
              "<div>\n",
              "<style scoped>\n",
              "    .dataframe tbody tr th:only-of-type {\n",
              "        vertical-align: middle;\n",
              "    }\n",
              "\n",
              "    .dataframe tbody tr th {\n",
              "        vertical-align: top;\n",
              "    }\n",
              "\n",
              "    .dataframe thead th {\n",
              "        text-align: right;\n",
              "    }\n",
              "</style>\n",
              "<table border=\"1\" class=\"dataframe\">\n",
              "  <thead>\n",
              "    <tr style=\"text-align: right;\">\n",
              "      <th></th>\n",
              "      <th>value</th>\n",
              "      <th>units</th>\n",
              "      <th>description</th>\n",
              "      <th>group</th>\n",
              "      <th>id</th>\n",
              "    </tr>\n",
              "  </thead>\n",
              "  <tbody>\n",
              "    <tr>\n",
              "      <th>0</th>\n",
              "      <td>25.18</td>\n",
              "      <td>g</td>\n",
              "      <td>Protein</td>\n",
              "      <td>Composition</td>\n",
              "      <td>1008</td>\n",
              "    </tr>\n",
              "    <tr>\n",
              "      <th>1</th>\n",
              "      <td>29.20</td>\n",
              "      <td>g</td>\n",
              "      <td>Total lipid (fat)</td>\n",
              "      <td>Composition</td>\n",
              "      <td>1008</td>\n",
              "    </tr>\n",
              "    <tr>\n",
              "      <th>2</th>\n",
              "      <td>3.06</td>\n",
              "      <td>g</td>\n",
              "      <td>Carbohydrate, by difference</td>\n",
              "      <td>Composition</td>\n",
              "      <td>1008</td>\n",
              "    </tr>\n",
              "    <tr>\n",
              "      <th>3</th>\n",
              "      <td>3.28</td>\n",
              "      <td>g</td>\n",
              "      <td>Ash</td>\n",
              "      <td>Other</td>\n",
              "      <td>1008</td>\n",
              "    </tr>\n",
              "    <tr>\n",
              "      <th>4</th>\n",
              "      <td>376.00</td>\n",
              "      <td>kcal</td>\n",
              "      <td>Energy</td>\n",
              "      <td>Energy</td>\n",
              "      <td>1008</td>\n",
              "    </tr>\n",
              "    <tr>\n",
              "      <th>...</th>\n",
              "      <td>...</td>\n",
              "      <td>...</td>\n",
              "      <td>...</td>\n",
              "      <td>...</td>\n",
              "      <td>...</td>\n",
              "    </tr>\n",
              "    <tr>\n",
              "      <th>81</th>\n",
              "      <td>18.00</td>\n",
              "      <td>mcg</td>\n",
              "      <td>Folate, total</td>\n",
              "      <td>Vitamins</td>\n",
              "      <td>1008</td>\n",
              "    </tr>\n",
              "    <tr>\n",
              "      <th>82</th>\n",
              "      <td>0.27</td>\n",
              "      <td>mcg</td>\n",
              "      <td>Vitamin B-12</td>\n",
              "      <td>Vitamins</td>\n",
              "      <td>1008</td>\n",
              "    </tr>\n",
              "    <tr>\n",
              "      <th>83</th>\n",
              "      <td>0.00</td>\n",
              "      <td>mcg</td>\n",
              "      <td>Folic acid</td>\n",
              "      <td>Vitamins</td>\n",
              "      <td>1008</td>\n",
              "    </tr>\n",
              "    <tr>\n",
              "      <th>84</th>\n",
              "      <td>18.00</td>\n",
              "      <td>mcg</td>\n",
              "      <td>Folate, food</td>\n",
              "      <td>Vitamins</td>\n",
              "      <td>1008</td>\n",
              "    </tr>\n",
              "    <tr>\n",
              "      <th>85</th>\n",
              "      <td>18.00</td>\n",
              "      <td>mcg_DFE</td>\n",
              "      <td>Folate, DFE</td>\n",
              "      <td>Vitamins</td>\n",
              "      <td>1008</td>\n",
              "    </tr>\n",
              "  </tbody>\n",
              "</table>\n",
              "<p>86 rows × 5 columns</p>\n",
              "</div>"
            ],
            "text/plain": [
              "     value    units                  description        group    id\n",
              "0    25.18        g                      Protein  Composition  1008\n",
              "1    29.20        g            Total lipid (fat)  Composition  1008\n",
              "2     3.06        g  Carbohydrate, by difference  Composition  1008\n",
              "3     3.28        g                          Ash        Other  1008\n",
              "4   376.00     kcal                       Energy       Energy  1008\n",
              "..     ...      ...                          ...          ...   ...\n",
              "81   18.00      mcg                Folate, total     Vitamins  1008\n",
              "82    0.27      mcg                 Vitamin B-12     Vitamins  1008\n",
              "83    0.00      mcg                   Folic acid     Vitamins  1008\n",
              "84   18.00      mcg                 Folate, food     Vitamins  1008\n",
              "85   18.00  mcg_DFE                  Folate, DFE     Vitamins  1008\n",
              "\n",
              "[86 rows x 5 columns]"
            ]
          },
          "metadata": {
            "tags": []
          },
          "execution_count": 13
        }
      ]
    },
    {
      "cell_type": "code",
      "metadata": {
        "colab": {
          "base_uri": "https://localhost:8080/"
        },
        "id": "1eA4RauUb-Z6",
        "outputId": "3c9b0aa9-8ca3-4ece-8e9b-c170b96998e2"
      },
      "source": [
        "nutrients = nutrients.drop_duplicates() #Data 중복제거\n",
        "nutrients = nutrients.rename(columns={'description':'nutrient', 'group':'nutgroup'}, copy=False)\n",
        "print('\\n',nutrients)"
      ],
      "execution_count": 14,
      "outputs": [
        {
          "output_type": "stream",
          "text": [
            "\n",
            "        value    units                            nutrient     nutgroup    id\n",
            "0     25.180        g                             Protein  Composition  1008\n",
            "1     29.200        g                   Total lipid (fat)  Composition  1008\n",
            "2      3.060        g         Carbohydrate, by difference  Composition  1008\n",
            "3      3.280        g                                 Ash        Other  1008\n",
            "4    376.000     kcal                              Energy       Energy  1008\n",
            "5     39.280        g                               Water  Composition  1008\n",
            "6   1573.000       kJ                              Energy       Energy  1008\n",
            "7      0.000        g                Fiber, total dietary  Composition  1008\n",
            "8    673.000       mg                         Calcium, Ca     Elements  1008\n",
            "9      0.640       mg                            Iron, Fe     Elements  1008\n",
            "10    22.000       mg                       Magnesium, Mg     Elements  1008\n",
            "11   490.000       mg                       Phosphorus, P     Elements  1008\n",
            "12    93.000       mg                        Potassium, K     Elements  1008\n",
            "13   690.000       mg                          Sodium, Na     Elements  1008\n",
            "14     2.940       mg                            Zinc, Zn     Elements  1008\n",
            "15     0.024       mg                          Copper, Cu     Elements  1008\n",
            "16     0.021       mg                       Manganese, Mn     Elements  1008\n",
            "17    14.500      mcg                        Selenium, Se     Elements  1008\n",
            "18  1054.000       IU                       Vitamin A, IU     Vitamins  1008\n",
            "19   262.000      mcg                             Retinol     Vitamins  1008\n",
            "20   271.000  mcg_RAE                      Vitamin A, RAE     Vitamins  1008\n",
            "21     0.000       mg      Vitamin C, total ascorbic acid     Vitamins  1008\n",
            "22     0.031       mg                             Thiamin     Vitamins  1008\n",
            "23     0.450       mg                          Riboflavin     Vitamins  1008\n",
            "24     0.180       mg                              Niacin     Vitamins  1008\n",
            "25     0.190       mg                    Pantothenic acid     Vitamins  1008\n",
            "26     0.074       mg                         Vitamin B-6     Vitamins  1008\n",
            "27    18.000      mcg                       Folate, total     Vitamins  1008\n",
            "28     0.270      mcg                        Vitamin B-12     Vitamins  1008\n",
            "29     0.000      mcg                          Folic acid     Vitamins  1008\n",
            "30    18.000      mcg                        Folate, food     Vitamins  1008\n",
            "31    18.000  mcg_DFE                         Folate, DFE     Vitamins  1008\n",
            "32    93.000       mg                         Cholesterol        Other  1008\n",
            "33    18.584        g        Fatty acids, total saturated        Other  1008\n",
            "34     8.275        g  Fatty acids, total monounsaturated        Other  1008\n",
            "35     0.830        g  Fatty acids, total polyunsaturated        Other  1008\n",
            "36     0.324        g                          Tryptophan  Amino Acids  1008\n",
            "37     0.896        g                           Threonine  Amino Acids  1008\n",
            "38     1.563        g                          Isoleucine  Amino Acids  1008\n",
            "39     2.412        g                             Leucine  Amino Acids  1008\n",
            "40     2.095        g                              Lysine  Amino Acids  1008\n",
            "41     0.659        g                          Methionine  Amino Acids  1008\n",
            "42     0.126        g                             Cystine  Amino Acids  1008\n",
            "43     1.326        g                       Phenylalanine  Amino Acids  1008\n",
            "44     1.216        g                            Tyrosine  Amino Acids  1008\n",
            "45     1.682        g                              Valine  Amino Acids  1008\n",
            "46     0.952        g                            Arginine  Amino Acids  1008\n",
            "47     0.884        g                           Histidine  Amino Acids  1008\n",
            "48     0.711        g                             Alanine  Amino Acids  1008\n",
            "49     1.618        g                       Aspartic acid  Amino Acids  1008\n",
            "50     6.160        g                       Glutamic acid  Amino Acids  1008\n",
            "51     0.439        g                             Glycine  Amino Acids  1008\n",
            "52     2.838        g                             Proline  Amino Acids  1008\n",
            "53     1.472        g                              Serine  Amino Acids  1008\n"
          ],
          "name": "stdout"
        }
      ]
    },
    {
      "cell_type": "code",
      "metadata": {
        "colab": {
          "base_uri": "https://localhost:8080/"
        },
        "id": "qxmOvDx4cEBV",
        "outputId": "53c51d7b-a823-4765-82dd-fe0d54718539"
      },
      "source": [
        "info = info.rename(columns={'description':'food', 'group':'fgroup'})\n",
        "print('\\n',info)"
      ],
      "execution_count": 15,
      "outputs": [
        {
          "output_type": "stream",
          "text": [
            "\n",
            "                                                 food  ...            manufacturer\n",
            "0  KENTUCKY FIRED CHICKEN, Fried Chicken, EXTRA C...  ...  Kentucky Fried Chicken\n",
            "\n",
            "[1 rows x 4 columns]\n"
          ],
          "name": "stdout"
        }
      ]
    },
    {
      "cell_type": "code",
      "metadata": {
        "colab": {
          "base_uri": "https://localhost:8080/"
        },
        "id": "dtzTmiODcIJy",
        "outputId": "1a6b3db2-944f-4abf-8ae9-89565666e57b"
      },
      "source": [
        "ndata = pd.merge(nutrients, info, on='id', how='outer')\n",
        "print('\\n', ndata.loc[50])"
      ],
      "execution_count": 17,
      "outputs": [
        {
          "output_type": "stream",
          "text": [
            "\n",
            " value                                                        6.16\n",
            "units                                                           g\n",
            "nutrient                                            Glutamic acid\n",
            "nutgroup                                              Amino Acids\n",
            "id                                                           1008\n",
            "food            KENTUCKY FIRED CHICKEN, Fried Chicken, EXTRA C...\n",
            "fgroup                                                 Fast Foods\n",
            "manufacturer                               Kentucky Fried Chicken\n",
            "Name: 50, dtype: object\n"
          ],
          "name": "stdout"
        }
      ]
    },
    {
      "cell_type": "code",
      "metadata": {
        "colab": {
          "base_uri": "https://localhost:8080/",
          "height": 265
        },
        "id": "O-bfnPLUcukd",
        "outputId": "64a8bf48-24a8-4383-a9f4-791704d8d3ed"
      },
      "source": [
        "result = ndata.groupby(['nutrient', 'fgroup'])['value'].quantile(0.5)\n",
        "result['Zinc, Zn'].sort_values().plot(kind='barh')\n",
        "plt.show()"
      ],
      "execution_count": 18,
      "outputs": [
        {
          "output_type": "display_data",
          "data": {
            "image/png": "[encoded data removed]",
            "text/plain": [
              "<Figure size 432x288 with 1 Axes>"
            ]
          },
          "metadata": {
            "tags": [],
            "needs_background": "light"
          }
        }
      ]
    }
  ]
}